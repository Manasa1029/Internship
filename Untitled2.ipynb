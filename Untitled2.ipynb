{
  "nbformat": 4,
  "nbformat_minor": 0,
  "metadata": {
    "colab": {
      "provenance": [],
      "authorship_tag": "ABX9TyMQjGFY88ZiX4MDFioXr19j",
      "include_colab_link": true
    },
    "kernelspec": {
      "name": "python3",
      "display_name": "Python 3"
    },
    "language_info": {
      "name": "python"
    }
  },
  "cells": [
    {
      "cell_type": "markdown",
      "metadata": {
        "id": "view-in-github",
        "colab_type": "text"
      },
      "source": [
        "<a href=\"https://colab.research.google.com/github/Manasa1029/Internship/blob/main/Untitled2.ipynb\" target=\"_parent\"><img src=\"https://colab.research.google.com/assets/colab-badge.svg\" alt=\"Open In Colab\"/></a>"
      ]
    },
    {
      "cell_type": "markdown",
      "source": [
        "MOVIES RECOMMENDATION"
      ],
      "metadata": {
        "id": "VavdEJi5aqL8"
      }
    },
    {
      "cell_type": "markdown",
      "source": [
        "OBJECTIVE :\n",
        "The objective of a movie recommendations project typically revolves around developing a system or algorithm that suggests movies to users based on various factors, such as their preferences, past behavior, or the behavior of similar users. The goal is to enhance the user experience by offering personalized suggestions that align with their tastes and interests, increasing engagement and satisfaction."
      ],
      "metadata": {
        "id": "ZB1az5mkbdBE"
      }
    },
    {
      "cell_type": "markdown",
      "source": [
        "DATA SOURCE : public database ,scraping website ,movie platforms (APIS),user data ,user generated content,other data source etc.\n",
        "github"
      ],
      "metadata": {
        "id": "An6hwwToax-y"
      }
    },
    {
      "cell_type": "markdown",
      "source": [
        "Import library"
      ],
      "metadata": {
        "id": "ta7xgv4PBIXD"
      }
    },
    {
      "cell_type": "code",
      "execution_count": 22,
      "metadata": {
        "id": "p3DzA549AI7i"
      },
      "outputs": [],
      "source": [
        " import pandas as pd"
      ]
    },
    {
      "cell_type": "code",
      "source": [
        "import tensorflow as tf"
      ],
      "metadata": {
        "id": "7aiEFCwiLNJY"
      },
      "execution_count": 65,
      "outputs": []
    },
    {
      "cell_type": "code",
      "source": [
        "import numpy as np"
      ],
      "metadata": {
        "id": "q5JpqKctHSS5"
      },
      "execution_count": 59,
      "outputs": []
    },
    {
      "cell_type": "markdown",
      "source": [
        "import dataset"
      ],
      "metadata": {
        "id": "dVcn4SuABMwb"
      }
    },
    {
      "cell_type": "code",
      "source": [
        " df = pd.read_csv('https://github.com/YBI-Foundation/Dataset/raw/refs/heads/main/Movies%20Recommendation.csv')\n",
        " df .head()"
      ],
      "metadata": {
        "colab": {
          "base_uri": "https://localhost:8080/",
          "height": 672
        },
        "id": "dC61HGD7BC3w",
        "outputId": "7f14d543-365d-40f6-debb-11f64f0f990a"
      },
      "execution_count": 2,
      "outputs": [
        {
          "output_type": "execute_result",
          "data": {
            "text/plain": [
              "   Movie_ID      Movie_Title                       Movie_Genre Movie_Language  \\\n",
              "0         1       Four Rooms                      Crime Comedy             en   \n",
              "1         2        Star Wars  Adventure Action Science Fiction             en   \n",
              "2         3     Finding Nemo                  Animation Family             en   \n",
              "3         4     Forrest Gump              Comedy Drama Romance             en   \n",
              "4         5  American Beauty                             Drama             en   \n",
              "\n",
              "   Movie_Budget  Movie_Popularity Movie_Release_Date  Movie_Revenue  \\\n",
              "0       4000000         22.876230         09-12-1995        4300000   \n",
              "1      11000000        126.393695         25-05-1977      775398007   \n",
              "2      94000000         85.688789         30-05-2003      940335536   \n",
              "3      55000000        138.133331         06-07-1994      677945399   \n",
              "4      15000000         80.878605         15-09-1999      356296601   \n",
              "\n",
              "   Movie_Runtime  Movie_Vote  ...  \\\n",
              "0           98.0         6.5  ...   \n",
              "1          121.0         8.1  ...   \n",
              "2          100.0         7.6  ...   \n",
              "3          142.0         8.2  ...   \n",
              "4          122.0         7.9  ...   \n",
              "\n",
              "                                      Movie_Homepage  \\\n",
              "0                                                NaN   \n",
              "1  http://www.starwars.com/films/star-wars-episod...   \n",
              "2              http://movies.disney.com/finding-nemo   \n",
              "3                                                NaN   \n",
              "4                      http://www.dreamworks.com/ab/   \n",
              "\n",
              "                                      Movie_Keywords  \\\n",
              "0          hotel new year's eve witch bet hotel room   \n",
              "1        android galaxy hermit death star lightsaber   \n",
              "2  father son relationship harbor underwater fish...   \n",
              "3  vietnam veteran hippie mentally disabled runni...   \n",
              "4  male nudity female nudity adultery midlife cri...   \n",
              "\n",
              "                                      Movie_Overview  \\\n",
              "0  It's Ted the Bellhop's first night on the job....   \n",
              "1  Princess Leia is captured and held hostage by ...   \n",
              "2  Nemo, an adventurous young clownfish, is unexp...   \n",
              "3  A man with a low IQ has accomplished great thi...   \n",
              "4  Lester Burnham, a depressed suburban father in...   \n",
              "\n",
              "                              Movie_Production_House  \\\n",
              "0  [{\"name\": \"Miramax Films\", \"id\": 14}, {\"name\":...   \n",
              "1  [{\"name\": \"Lucasfilm\", \"id\": 1}, {\"name\": \"Twe...   \n",
              "2     [{\"name\": \"Pixar Animation Studios\", \"id\": 3}]   \n",
              "3          [{\"name\": \"Paramount Pictures\", \"id\": 4}]   \n",
              "4  [{\"name\": \"DreamWorks SKG\", \"id\": 27}, {\"name\"...   \n",
              "\n",
              "                            Movie_Production_Country  \\\n",
              "0  [{\"iso_3166_1\": \"US\", \"name\": \"United States o...   \n",
              "1  [{\"iso_3166_1\": \"US\", \"name\": \"United States o...   \n",
              "2  [{\"iso_3166_1\": \"US\", \"name\": \"United States o...   \n",
              "3  [{\"iso_3166_1\": \"US\", \"name\": \"United States o...   \n",
              "4  [{\"iso_3166_1\": \"US\", \"name\": \"United States o...   \n",
              "\n",
              "                      Movie_Spoken_Language  \\\n",
              "0  [{\"iso_639_1\": \"en\", \"name\": \"English\"}]   \n",
              "1  [{\"iso_639_1\": \"en\", \"name\": \"English\"}]   \n",
              "2  [{\"iso_639_1\": \"en\", \"name\": \"English\"}]   \n",
              "3  [{\"iso_639_1\": \"en\", \"name\": \"English\"}]   \n",
              "4  [{\"iso_639_1\": \"en\", \"name\": \"English\"}]   \n",
              "\n",
              "                                       Movie_Tagline  \\\n",
              "0  Twelve outrageous guests. Four scandalous requ...   \n",
              "1       A long time ago in a galaxy far, far away...   \n",
              "2  There are 3.7 trillion fish in the ocean, they...   \n",
              "3  The world will never be the same, once you've ...   \n",
              "4                                       Look closer.   \n",
              "\n",
              "                                          Movie_Cast  \\\n",
              "0  Tim Roth Antonio Banderas Jennifer Beals Madon...   \n",
              "1  Mark Hamill Harrison Ford Carrie Fisher Peter ...   \n",
              "2  Albert Brooks Ellen DeGeneres Alexander Gould ...   \n",
              "3  Tom Hanks Robin Wright Gary Sinise Mykelti Wil...   \n",
              "4  Kevin Spacey Annette Bening Thora Birch Wes Be...   \n",
              "\n",
              "                                          Movie_Crew   Movie_Director  \n",
              "0  [{'name': 'Allison Anders', 'gender': 1, 'depa...   Allison Anders  \n",
              "1  [{'name': 'George Lucas', 'gender': 2, 'depart...     George Lucas  \n",
              "2  [{'name': 'Andrew Stanton', 'gender': 2, 'depa...   Andrew Stanton  \n",
              "3  [{'name': 'Alan Silvestri', 'gender': 2, 'depa...  Robert Zemeckis  \n",
              "4  [{'name': 'Thomas Newman', 'gender': 2, 'depar...       Sam Mendes  \n",
              "\n",
              "[5 rows x 21 columns]"
            ],
            "text/html": [
              "\n",
              "  <div id=\"df-99d0381d-f76b-489d-92af-c679d7adc15f\" class=\"colab-df-container\">\n",
              "    <div>\n",
              "<style scoped>\n",
              "    .dataframe tbody tr th:only-of-type {\n",
              "        vertical-align: middle;\n",
              "    }\n",
              "\n",
              "    .dataframe tbody tr th {\n",
              "        vertical-align: top;\n",
              "    }\n",
              "\n",
              "    .dataframe thead th {\n",
              "        text-align: right;\n",
              "    }\n",
              "</style>\n",
              "<table border=\"1\" class=\"dataframe\">\n",
              "  <thead>\n",
              "    <tr style=\"text-align: right;\">\n",
              "      <th></th>\n",
              "      <th>Movie_ID</th>\n",
              "      <th>Movie_Title</th>\n",
              "      <th>Movie_Genre</th>\n",
              "      <th>Movie_Language</th>\n",
              "      <th>Movie_Budget</th>\n",
              "      <th>Movie_Popularity</th>\n",
              "      <th>Movie_Release_Date</th>\n",
              "      <th>Movie_Revenue</th>\n",
              "      <th>Movie_Runtime</th>\n",
              "      <th>Movie_Vote</th>\n",
              "      <th>...</th>\n",
              "      <th>Movie_Homepage</th>\n",
              "      <th>Movie_Keywords</th>\n",
              "      <th>Movie_Overview</th>\n",
              "      <th>Movie_Production_House</th>\n",
              "      <th>Movie_Production_Country</th>\n",
              "      <th>Movie_Spoken_Language</th>\n",
              "      <th>Movie_Tagline</th>\n",
              "      <th>Movie_Cast</th>\n",
              "      <th>Movie_Crew</th>\n",
              "      <th>Movie_Director</th>\n",
              "    </tr>\n",
              "  </thead>\n",
              "  <tbody>\n",
              "    <tr>\n",
              "      <th>0</th>\n",
              "      <td>1</td>\n",
              "      <td>Four Rooms</td>\n",
              "      <td>Crime Comedy</td>\n",
              "      <td>en</td>\n",
              "      <td>4000000</td>\n",
              "      <td>22.876230</td>\n",
              "      <td>09-12-1995</td>\n",
              "      <td>4300000</td>\n",
              "      <td>98.0</td>\n",
              "      <td>6.5</td>\n",
              "      <td>...</td>\n",
              "      <td>NaN</td>\n",
              "      <td>hotel new year's eve witch bet hotel room</td>\n",
              "      <td>It's Ted the Bellhop's first night on the job....</td>\n",
              "      <td>[{\"name\": \"Miramax Films\", \"id\": 14}, {\"name\":...</td>\n",
              "      <td>[{\"iso_3166_1\": \"US\", \"name\": \"United States o...</td>\n",
              "      <td>[{\"iso_639_1\": \"en\", \"name\": \"English\"}]</td>\n",
              "      <td>Twelve outrageous guests. Four scandalous requ...</td>\n",
              "      <td>Tim Roth Antonio Banderas Jennifer Beals Madon...</td>\n",
              "      <td>[{'name': 'Allison Anders', 'gender': 1, 'depa...</td>\n",
              "      <td>Allison Anders</td>\n",
              "    </tr>\n",
              "    <tr>\n",
              "      <th>1</th>\n",
              "      <td>2</td>\n",
              "      <td>Star Wars</td>\n",
              "      <td>Adventure Action Science Fiction</td>\n",
              "      <td>en</td>\n",
              "      <td>11000000</td>\n",
              "      <td>126.393695</td>\n",
              "      <td>25-05-1977</td>\n",
              "      <td>775398007</td>\n",
              "      <td>121.0</td>\n",
              "      <td>8.1</td>\n",
              "      <td>...</td>\n",
              "      <td>http://www.starwars.com/films/star-wars-episod...</td>\n",
              "      <td>android galaxy hermit death star lightsaber</td>\n",
              "      <td>Princess Leia is captured and held hostage by ...</td>\n",
              "      <td>[{\"name\": \"Lucasfilm\", \"id\": 1}, {\"name\": \"Twe...</td>\n",
              "      <td>[{\"iso_3166_1\": \"US\", \"name\": \"United States o...</td>\n",
              "      <td>[{\"iso_639_1\": \"en\", \"name\": \"English\"}]</td>\n",
              "      <td>A long time ago in a galaxy far, far away...</td>\n",
              "      <td>Mark Hamill Harrison Ford Carrie Fisher Peter ...</td>\n",
              "      <td>[{'name': 'George Lucas', 'gender': 2, 'depart...</td>\n",
              "      <td>George Lucas</td>\n",
              "    </tr>\n",
              "    <tr>\n",
              "      <th>2</th>\n",
              "      <td>3</td>\n",
              "      <td>Finding Nemo</td>\n",
              "      <td>Animation Family</td>\n",
              "      <td>en</td>\n",
              "      <td>94000000</td>\n",
              "      <td>85.688789</td>\n",
              "      <td>30-05-2003</td>\n",
              "      <td>940335536</td>\n",
              "      <td>100.0</td>\n",
              "      <td>7.6</td>\n",
              "      <td>...</td>\n",
              "      <td>http://movies.disney.com/finding-nemo</td>\n",
              "      <td>father son relationship harbor underwater fish...</td>\n",
              "      <td>Nemo, an adventurous young clownfish, is unexp...</td>\n",
              "      <td>[{\"name\": \"Pixar Animation Studios\", \"id\": 3}]</td>\n",
              "      <td>[{\"iso_3166_1\": \"US\", \"name\": \"United States o...</td>\n",
              "      <td>[{\"iso_639_1\": \"en\", \"name\": \"English\"}]</td>\n",
              "      <td>There are 3.7 trillion fish in the ocean, they...</td>\n",
              "      <td>Albert Brooks Ellen DeGeneres Alexander Gould ...</td>\n",
              "      <td>[{'name': 'Andrew Stanton', 'gender': 2, 'depa...</td>\n",
              "      <td>Andrew Stanton</td>\n",
              "    </tr>\n",
              "    <tr>\n",
              "      <th>3</th>\n",
              "      <td>4</td>\n",
              "      <td>Forrest Gump</td>\n",
              "      <td>Comedy Drama Romance</td>\n",
              "      <td>en</td>\n",
              "      <td>55000000</td>\n",
              "      <td>138.133331</td>\n",
              "      <td>06-07-1994</td>\n",
              "      <td>677945399</td>\n",
              "      <td>142.0</td>\n",
              "      <td>8.2</td>\n",
              "      <td>...</td>\n",
              "      <td>NaN</td>\n",
              "      <td>vietnam veteran hippie mentally disabled runni...</td>\n",
              "      <td>A man with a low IQ has accomplished great thi...</td>\n",
              "      <td>[{\"name\": \"Paramount Pictures\", \"id\": 4}]</td>\n",
              "      <td>[{\"iso_3166_1\": \"US\", \"name\": \"United States o...</td>\n",
              "      <td>[{\"iso_639_1\": \"en\", \"name\": \"English\"}]</td>\n",
              "      <td>The world will never be the same, once you've ...</td>\n",
              "      <td>Tom Hanks Robin Wright Gary Sinise Mykelti Wil...</td>\n",
              "      <td>[{'name': 'Alan Silvestri', 'gender': 2, 'depa...</td>\n",
              "      <td>Robert Zemeckis</td>\n",
              "    </tr>\n",
              "    <tr>\n",
              "      <th>4</th>\n",
              "      <td>5</td>\n",
              "      <td>American Beauty</td>\n",
              "      <td>Drama</td>\n",
              "      <td>en</td>\n",
              "      <td>15000000</td>\n",
              "      <td>80.878605</td>\n",
              "      <td>15-09-1999</td>\n",
              "      <td>356296601</td>\n",
              "      <td>122.0</td>\n",
              "      <td>7.9</td>\n",
              "      <td>...</td>\n",
              "      <td>http://www.dreamworks.com/ab/</td>\n",
              "      <td>male nudity female nudity adultery midlife cri...</td>\n",
              "      <td>Lester Burnham, a depressed suburban father in...</td>\n",
              "      <td>[{\"name\": \"DreamWorks SKG\", \"id\": 27}, {\"name\"...</td>\n",
              "      <td>[{\"iso_3166_1\": \"US\", \"name\": \"United States o...</td>\n",
              "      <td>[{\"iso_639_1\": \"en\", \"name\": \"English\"}]</td>\n",
              "      <td>Look closer.</td>\n",
              "      <td>Kevin Spacey Annette Bening Thora Birch Wes Be...</td>\n",
              "      <td>[{'name': 'Thomas Newman', 'gender': 2, 'depar...</td>\n",
              "      <td>Sam Mendes</td>\n",
              "    </tr>\n",
              "  </tbody>\n",
              "</table>\n",
              "<p>5 rows × 21 columns</p>\n",
              "</div>\n",
              "    <div class=\"colab-df-buttons\">\n",
              "\n",
              "  <div class=\"colab-df-container\">\n",
              "    <button class=\"colab-df-convert\" onclick=\"convertToInteractive('df-99d0381d-f76b-489d-92af-c679d7adc15f')\"\n",
              "            title=\"Convert this dataframe to an interactive table.\"\n",
              "            style=\"display:none;\">\n",
              "\n",
              "  <svg xmlns=\"http://www.w3.org/2000/svg\" height=\"24px\" viewBox=\"0 -960 960 960\">\n",
              "    <path d=\"M120-120v-720h720v720H120Zm60-500h600v-160H180v160Zm220 220h160v-160H400v160Zm0 220h160v-160H400v160ZM180-400h160v-160H180v160Zm440 0h160v-160H620v160ZM180-180h160v-160H180v160Zm440 0h160v-160H620v160Z\"/>\n",
              "  </svg>\n",
              "    </button>\n",
              "\n",
              "  <style>\n",
              "    .colab-df-container {\n",
              "      display:flex;\n",
              "      gap: 12px;\n",
              "    }\n",
              "\n",
              "    .colab-df-convert {\n",
              "      background-color: #E8F0FE;\n",
              "      border: none;\n",
              "      border-radius: 50%;\n",
              "      cursor: pointer;\n",
              "      display: none;\n",
              "      fill: #1967D2;\n",
              "      height: 32px;\n",
              "      padding: 0 0 0 0;\n",
              "      width: 32px;\n",
              "    }\n",
              "\n",
              "    .colab-df-convert:hover {\n",
              "      background-color: #E2EBFA;\n",
              "      box-shadow: 0px 1px 2px rgba(60, 64, 67, 0.3), 0px 1px 3px 1px rgba(60, 64, 67, 0.15);\n",
              "      fill: #174EA6;\n",
              "    }\n",
              "\n",
              "    .colab-df-buttons div {\n",
              "      margin-bottom: 4px;\n",
              "    }\n",
              "\n",
              "    [theme=dark] .colab-df-convert {\n",
              "      background-color: #3B4455;\n",
              "      fill: #D2E3FC;\n",
              "    }\n",
              "\n",
              "    [theme=dark] .colab-df-convert:hover {\n",
              "      background-color: #434B5C;\n",
              "      box-shadow: 0px 1px 3px 1px rgba(0, 0, 0, 0.15);\n",
              "      filter: drop-shadow(0px 1px 2px rgba(0, 0, 0, 0.3));\n",
              "      fill: #FFFFFF;\n",
              "    }\n",
              "  </style>\n",
              "\n",
              "    <script>\n",
              "      const buttonEl =\n",
              "        document.querySelector('#df-99d0381d-f76b-489d-92af-c679d7adc15f button.colab-df-convert');\n",
              "      buttonEl.style.display =\n",
              "        google.colab.kernel.accessAllowed ? 'block' : 'none';\n",
              "\n",
              "      async function convertToInteractive(key) {\n",
              "        const element = document.querySelector('#df-99d0381d-f76b-489d-92af-c679d7adc15f');\n",
              "        const dataTable =\n",
              "          await google.colab.kernel.invokeFunction('convertToInteractive',\n",
              "                                                    [key], {});\n",
              "        if (!dataTable) return;\n",
              "\n",
              "        const docLinkHtml = 'Like what you see? Visit the ' +\n",
              "          '<a target=\"_blank\" href=https://colab.research.google.com/notebooks/data_table.ipynb>data table notebook</a>'\n",
              "          + ' to learn more about interactive tables.';\n",
              "        element.innerHTML = '';\n",
              "        dataTable['output_type'] = 'display_data';\n",
              "        await google.colab.output.renderOutput(dataTable, element);\n",
              "        const docLink = document.createElement('div');\n",
              "        docLink.innerHTML = docLinkHtml;\n",
              "        element.appendChild(docLink);\n",
              "      }\n",
              "    </script>\n",
              "  </div>\n",
              "\n",
              "\n",
              "<div id=\"df-62a64340-8109-401e-acf0-36fc847f526b\">\n",
              "  <button class=\"colab-df-quickchart\" onclick=\"quickchart('df-62a64340-8109-401e-acf0-36fc847f526b')\"\n",
              "            title=\"Suggest charts\"\n",
              "            style=\"display:none;\">\n",
              "\n",
              "<svg xmlns=\"http://www.w3.org/2000/svg\" height=\"24px\"viewBox=\"0 0 24 24\"\n",
              "     width=\"24px\">\n",
              "    <g>\n",
              "        <path d=\"M19 3H5c-1.1 0-2 .9-2 2v14c0 1.1.9 2 2 2h14c1.1 0 2-.9 2-2V5c0-1.1-.9-2-2-2zM9 17H7v-7h2v7zm4 0h-2V7h2v10zm4 0h-2v-4h2v4z\"/>\n",
              "    </g>\n",
              "</svg>\n",
              "  </button>\n",
              "\n",
              "<style>\n",
              "  .colab-df-quickchart {\n",
              "      --bg-color: #E8F0FE;\n",
              "      --fill-color: #1967D2;\n",
              "      --hover-bg-color: #E2EBFA;\n",
              "      --hover-fill-color: #174EA6;\n",
              "      --disabled-fill-color: #AAA;\n",
              "      --disabled-bg-color: #DDD;\n",
              "  }\n",
              "\n",
              "  [theme=dark] .colab-df-quickchart {\n",
              "      --bg-color: #3B4455;\n",
              "      --fill-color: #D2E3FC;\n",
              "      --hover-bg-color: #434B5C;\n",
              "      --hover-fill-color: #FFFFFF;\n",
              "      --disabled-bg-color: #3B4455;\n",
              "      --disabled-fill-color: #666;\n",
              "  }\n",
              "\n",
              "  .colab-df-quickchart {\n",
              "    background-color: var(--bg-color);\n",
              "    border: none;\n",
              "    border-radius: 50%;\n",
              "    cursor: pointer;\n",
              "    display: none;\n",
              "    fill: var(--fill-color);\n",
              "    height: 32px;\n",
              "    padding: 0;\n",
              "    width: 32px;\n",
              "  }\n",
              "\n",
              "  .colab-df-quickchart:hover {\n",
              "    background-color: var(--hover-bg-color);\n",
              "    box-shadow: 0 1px 2px rgba(60, 64, 67, 0.3), 0 1px 3px 1px rgba(60, 64, 67, 0.15);\n",
              "    fill: var(--button-hover-fill-color);\n",
              "  }\n",
              "\n",
              "  .colab-df-quickchart-complete:disabled,\n",
              "  .colab-df-quickchart-complete:disabled:hover {\n",
              "    background-color: var(--disabled-bg-color);\n",
              "    fill: var(--disabled-fill-color);\n",
              "    box-shadow: none;\n",
              "  }\n",
              "\n",
              "  .colab-df-spinner {\n",
              "    border: 2px solid var(--fill-color);\n",
              "    border-color: transparent;\n",
              "    border-bottom-color: var(--fill-color);\n",
              "    animation:\n",
              "      spin 1s steps(1) infinite;\n",
              "  }\n",
              "\n",
              "  @keyframes spin {\n",
              "    0% {\n",
              "      border-color: transparent;\n",
              "      border-bottom-color: var(--fill-color);\n",
              "      border-left-color: var(--fill-color);\n",
              "    }\n",
              "    20% {\n",
              "      border-color: transparent;\n",
              "      border-left-color: var(--fill-color);\n",
              "      border-top-color: var(--fill-color);\n",
              "    }\n",
              "    30% {\n",
              "      border-color: transparent;\n",
              "      border-left-color: var(--fill-color);\n",
              "      border-top-color: var(--fill-color);\n",
              "      border-right-color: var(--fill-color);\n",
              "    }\n",
              "    40% {\n",
              "      border-color: transparent;\n",
              "      border-right-color: var(--fill-color);\n",
              "      border-top-color: var(--fill-color);\n",
              "    }\n",
              "    60% {\n",
              "      border-color: transparent;\n",
              "      border-right-color: var(--fill-color);\n",
              "    }\n",
              "    80% {\n",
              "      border-color: transparent;\n",
              "      border-right-color: var(--fill-color);\n",
              "      border-bottom-color: var(--fill-color);\n",
              "    }\n",
              "    90% {\n",
              "      border-color: transparent;\n",
              "      border-bottom-color: var(--fill-color);\n",
              "    }\n",
              "  }\n",
              "</style>\n",
              "\n",
              "  <script>\n",
              "    async function quickchart(key) {\n",
              "      const quickchartButtonEl =\n",
              "        document.querySelector('#' + key + ' button');\n",
              "      quickchartButtonEl.disabled = true;  // To prevent multiple clicks.\n",
              "      quickchartButtonEl.classList.add('colab-df-spinner');\n",
              "      try {\n",
              "        const charts = await google.colab.kernel.invokeFunction(\n",
              "            'suggestCharts', [key], {});\n",
              "      } catch (error) {\n",
              "        console.error('Error during call to suggestCharts:', error);\n",
              "      }\n",
              "      quickchartButtonEl.classList.remove('colab-df-spinner');\n",
              "      quickchartButtonEl.classList.add('colab-df-quickchart-complete');\n",
              "    }\n",
              "    (() => {\n",
              "      let quickchartButtonEl =\n",
              "        document.querySelector('#df-62a64340-8109-401e-acf0-36fc847f526b button');\n",
              "      quickchartButtonEl.style.display =\n",
              "        google.colab.kernel.accessAllowed ? 'block' : 'none';\n",
              "    })();\n",
              "  </script>\n",
              "</div>\n",
              "\n",
              "    </div>\n",
              "  </div>\n"
            ],
            "application/vnd.google.colaboratory.intrinsic+json": {
              "type": "dataframe"
            }
          },
          "metadata": {},
          "execution_count": 2
        }
      ]
    },
    {
      "cell_type": "code",
      "source": [
        "df.info()"
      ],
      "metadata": {
        "colab": {
          "base_uri": "https://localhost:8080/"
        },
        "id": "fMWiustEB1hz",
        "outputId": "5a2d5561-bc94-4140-a3ab-e6618d91ec9a"
      },
      "execution_count": 3,
      "outputs": [
        {
          "output_type": "stream",
          "name": "stdout",
          "text": [
            "<class 'pandas.core.frame.DataFrame'>\n",
            "RangeIndex: 4760 entries, 0 to 4759\n",
            "Data columns (total 21 columns):\n",
            " #   Column                    Non-Null Count  Dtype  \n",
            "---  ------                    --------------  -----  \n",
            " 0   Movie_ID                  4760 non-null   int64  \n",
            " 1   Movie_Title               4760 non-null   object \n",
            " 2   Movie_Genre               4760 non-null   object \n",
            " 3   Movie_Language            4760 non-null   object \n",
            " 4   Movie_Budget              4760 non-null   int64  \n",
            " 5   Movie_Popularity          4760 non-null   float64\n",
            " 6   Movie_Release_Date        4760 non-null   object \n",
            " 7   Movie_Revenue             4760 non-null   int64  \n",
            " 8   Movie_Runtime             4758 non-null   float64\n",
            " 9   Movie_Vote                4760 non-null   float64\n",
            " 10  Movie_Vote_Count          4760 non-null   int64  \n",
            " 11  Movie_Homepage            1699 non-null   object \n",
            " 12  Movie_Keywords            4373 non-null   object \n",
            " 13  Movie_Overview            4757 non-null   object \n",
            " 14  Movie_Production_House    4760 non-null   object \n",
            " 15  Movie_Production_Country  4760 non-null   object \n",
            " 16  Movie_Spoken_Language     4760 non-null   object \n",
            " 17  Movie_Tagline             3942 non-null   object \n",
            " 18  Movie_Cast                4733 non-null   object \n",
            " 19  Movie_Crew                4760 non-null   object \n",
            " 20  Movie_Director            4738 non-null   object \n",
            "dtypes: float64(3), int64(4), object(14)\n",
            "memory usage: 781.1+ KB\n"
          ]
        }
      ]
    },
    {
      "cell_type": "markdown",
      "source": [
        "Data Describe"
      ],
      "metadata": {
        "id": "2bCkL0-FdP_Q"
      }
    },
    {
      "cell_type": "code",
      "source": [
        "df.describe()"
      ],
      "metadata": {
        "colab": {
          "base_uri": "https://localhost:8080/",
          "height": 300
        },
        "id": "KPYp43cudMcM",
        "outputId": "2280e5f8-e696-4f6f-a3da-c380a410f52f"
      },
      "execution_count": 127,
      "outputs": [
        {
          "output_type": "execute_result",
          "data": {
            "text/plain": [
              "          Movie_ID  Movie_Budget  Movie_Popularity  Movie_Revenue  \\\n",
              "count  4760.000000  4.760000e+03       4760.000000   4.760000e+03   \n",
              "mean   2382.566387  2.920129e+07         21.599510   8.263743e+07   \n",
              "std    1377.270159  4.075620e+07         31.887919   1.630554e+08   \n",
              "min       1.000000  0.000000e+00          0.000372   0.000000e+00   \n",
              "25%    1190.750000  9.257500e+05          4.807074   0.000000e+00   \n",
              "50%    2380.500000  1.500000e+07         13.119058   1.944716e+07   \n",
              "75%    3572.250000  4.000000e+07         28.411929   9.341276e+07   \n",
              "max    4788.000000  3.800000e+08        875.581305   2.787965e+09   \n",
              "\n",
              "       Movie_Runtime   Movie_Vote  Movie_Vote_Count  \n",
              "count    4758.000000  4760.000000       4760.000000  \n",
              "mean      107.184111     6.113866        692.508403  \n",
              "std        21.960332     1.141294       1235.007337  \n",
              "min         0.000000     0.000000          0.000000  \n",
              "25%        94.000000     5.600000         55.000000  \n",
              "50%       104.000000     6.200000        238.000000  \n",
              "75%       118.000000     6.800000        740.250000  \n",
              "max       338.000000    10.000000      13752.000000  "
            ],
            "text/html": [
              "\n",
              "  <div id=\"df-864b24af-515f-472b-b3ef-28d18ac895fc\" class=\"colab-df-container\">\n",
              "    <div>\n",
              "<style scoped>\n",
              "    .dataframe tbody tr th:only-of-type {\n",
              "        vertical-align: middle;\n",
              "    }\n",
              "\n",
              "    .dataframe tbody tr th {\n",
              "        vertical-align: top;\n",
              "    }\n",
              "\n",
              "    .dataframe thead th {\n",
              "        text-align: right;\n",
              "    }\n",
              "</style>\n",
              "<table border=\"1\" class=\"dataframe\">\n",
              "  <thead>\n",
              "    <tr style=\"text-align: right;\">\n",
              "      <th></th>\n",
              "      <th>Movie_ID</th>\n",
              "      <th>Movie_Budget</th>\n",
              "      <th>Movie_Popularity</th>\n",
              "      <th>Movie_Revenue</th>\n",
              "      <th>Movie_Runtime</th>\n",
              "      <th>Movie_Vote</th>\n",
              "      <th>Movie_Vote_Count</th>\n",
              "    </tr>\n",
              "  </thead>\n",
              "  <tbody>\n",
              "    <tr>\n",
              "      <th>count</th>\n",
              "      <td>4760.000000</td>\n",
              "      <td>4.760000e+03</td>\n",
              "      <td>4760.000000</td>\n",
              "      <td>4.760000e+03</td>\n",
              "      <td>4758.000000</td>\n",
              "      <td>4760.000000</td>\n",
              "      <td>4760.000000</td>\n",
              "    </tr>\n",
              "    <tr>\n",
              "      <th>mean</th>\n",
              "      <td>2382.566387</td>\n",
              "      <td>2.920129e+07</td>\n",
              "      <td>21.599510</td>\n",
              "      <td>8.263743e+07</td>\n",
              "      <td>107.184111</td>\n",
              "      <td>6.113866</td>\n",
              "      <td>692.508403</td>\n",
              "    </tr>\n",
              "    <tr>\n",
              "      <th>std</th>\n",
              "      <td>1377.270159</td>\n",
              "      <td>4.075620e+07</td>\n",
              "      <td>31.887919</td>\n",
              "      <td>1.630554e+08</td>\n",
              "      <td>21.960332</td>\n",
              "      <td>1.141294</td>\n",
              "      <td>1235.007337</td>\n",
              "    </tr>\n",
              "    <tr>\n",
              "      <th>min</th>\n",
              "      <td>1.000000</td>\n",
              "      <td>0.000000e+00</td>\n",
              "      <td>0.000372</td>\n",
              "      <td>0.000000e+00</td>\n",
              "      <td>0.000000</td>\n",
              "      <td>0.000000</td>\n",
              "      <td>0.000000</td>\n",
              "    </tr>\n",
              "    <tr>\n",
              "      <th>25%</th>\n",
              "      <td>1190.750000</td>\n",
              "      <td>9.257500e+05</td>\n",
              "      <td>4.807074</td>\n",
              "      <td>0.000000e+00</td>\n",
              "      <td>94.000000</td>\n",
              "      <td>5.600000</td>\n",
              "      <td>55.000000</td>\n",
              "    </tr>\n",
              "    <tr>\n",
              "      <th>50%</th>\n",
              "      <td>2380.500000</td>\n",
              "      <td>1.500000e+07</td>\n",
              "      <td>13.119058</td>\n",
              "      <td>1.944716e+07</td>\n",
              "      <td>104.000000</td>\n",
              "      <td>6.200000</td>\n",
              "      <td>238.000000</td>\n",
              "    </tr>\n",
              "    <tr>\n",
              "      <th>75%</th>\n",
              "      <td>3572.250000</td>\n",
              "      <td>4.000000e+07</td>\n",
              "      <td>28.411929</td>\n",
              "      <td>9.341276e+07</td>\n",
              "      <td>118.000000</td>\n",
              "      <td>6.800000</td>\n",
              "      <td>740.250000</td>\n",
              "    </tr>\n",
              "    <tr>\n",
              "      <th>max</th>\n",
              "      <td>4788.000000</td>\n",
              "      <td>3.800000e+08</td>\n",
              "      <td>875.581305</td>\n",
              "      <td>2.787965e+09</td>\n",
              "      <td>338.000000</td>\n",
              "      <td>10.000000</td>\n",
              "      <td>13752.000000</td>\n",
              "    </tr>\n",
              "  </tbody>\n",
              "</table>\n",
              "</div>\n",
              "    <div class=\"colab-df-buttons\">\n",
              "\n",
              "  <div class=\"colab-df-container\">\n",
              "    <button class=\"colab-df-convert\" onclick=\"convertToInteractive('df-864b24af-515f-472b-b3ef-28d18ac895fc')\"\n",
              "            title=\"Convert this dataframe to an interactive table.\"\n",
              "            style=\"display:none;\">\n",
              "\n",
              "  <svg xmlns=\"http://www.w3.org/2000/svg\" height=\"24px\" viewBox=\"0 -960 960 960\">\n",
              "    <path d=\"M120-120v-720h720v720H120Zm60-500h600v-160H180v160Zm220 220h160v-160H400v160Zm0 220h160v-160H400v160ZM180-400h160v-160H180v160Zm440 0h160v-160H620v160ZM180-180h160v-160H180v160Zm440 0h160v-160H620v160Z\"/>\n",
              "  </svg>\n",
              "    </button>\n",
              "\n",
              "  <style>\n",
              "    .colab-df-container {\n",
              "      display:flex;\n",
              "      gap: 12px;\n",
              "    }\n",
              "\n",
              "    .colab-df-convert {\n",
              "      background-color: #E8F0FE;\n",
              "      border: none;\n",
              "      border-radius: 50%;\n",
              "      cursor: pointer;\n",
              "      display: none;\n",
              "      fill: #1967D2;\n",
              "      height: 32px;\n",
              "      padding: 0 0 0 0;\n",
              "      width: 32px;\n",
              "    }\n",
              "\n",
              "    .colab-df-convert:hover {\n",
              "      background-color: #E2EBFA;\n",
              "      box-shadow: 0px 1px 2px rgba(60, 64, 67, 0.3), 0px 1px 3px 1px rgba(60, 64, 67, 0.15);\n",
              "      fill: #174EA6;\n",
              "    }\n",
              "\n",
              "    .colab-df-buttons div {\n",
              "      margin-bottom: 4px;\n",
              "    }\n",
              "\n",
              "    [theme=dark] .colab-df-convert {\n",
              "      background-color: #3B4455;\n",
              "      fill: #D2E3FC;\n",
              "    }\n",
              "\n",
              "    [theme=dark] .colab-df-convert:hover {\n",
              "      background-color: #434B5C;\n",
              "      box-shadow: 0px 1px 3px 1px rgba(0, 0, 0, 0.15);\n",
              "      filter: drop-shadow(0px 1px 2px rgba(0, 0, 0, 0.3));\n",
              "      fill: #FFFFFF;\n",
              "    }\n",
              "  </style>\n",
              "\n",
              "    <script>\n",
              "      const buttonEl =\n",
              "        document.querySelector('#df-864b24af-515f-472b-b3ef-28d18ac895fc button.colab-df-convert');\n",
              "      buttonEl.style.display =\n",
              "        google.colab.kernel.accessAllowed ? 'block' : 'none';\n",
              "\n",
              "      async function convertToInteractive(key) {\n",
              "        const element = document.querySelector('#df-864b24af-515f-472b-b3ef-28d18ac895fc');\n",
              "        const dataTable =\n",
              "          await google.colab.kernel.invokeFunction('convertToInteractive',\n",
              "                                                    [key], {});\n",
              "        if (!dataTable) return;\n",
              "\n",
              "        const docLinkHtml = 'Like what you see? Visit the ' +\n",
              "          '<a target=\"_blank\" href=https://colab.research.google.com/notebooks/data_table.ipynb>data table notebook</a>'\n",
              "          + ' to learn more about interactive tables.';\n",
              "        element.innerHTML = '';\n",
              "        dataTable['output_type'] = 'display_data';\n",
              "        await google.colab.output.renderOutput(dataTable, element);\n",
              "        const docLink = document.createElement('div');\n",
              "        docLink.innerHTML = docLinkHtml;\n",
              "        element.appendChild(docLink);\n",
              "      }\n",
              "    </script>\n",
              "  </div>\n",
              "\n",
              "\n",
              "<div id=\"df-c029320c-8ac1-43ea-8a20-39ff637f47c9\">\n",
              "  <button class=\"colab-df-quickchart\" onclick=\"quickchart('df-c029320c-8ac1-43ea-8a20-39ff637f47c9')\"\n",
              "            title=\"Suggest charts\"\n",
              "            style=\"display:none;\">\n",
              "\n",
              "<svg xmlns=\"http://www.w3.org/2000/svg\" height=\"24px\"viewBox=\"0 0 24 24\"\n",
              "     width=\"24px\">\n",
              "    <g>\n",
              "        <path d=\"M19 3H5c-1.1 0-2 .9-2 2v14c0 1.1.9 2 2 2h14c1.1 0 2-.9 2-2V5c0-1.1-.9-2-2-2zM9 17H7v-7h2v7zm4 0h-2V7h2v10zm4 0h-2v-4h2v4z\"/>\n",
              "    </g>\n",
              "</svg>\n",
              "  </button>\n",
              "\n",
              "<style>\n",
              "  .colab-df-quickchart {\n",
              "      --bg-color: #E8F0FE;\n",
              "      --fill-color: #1967D2;\n",
              "      --hover-bg-color: #E2EBFA;\n",
              "      --hover-fill-color: #174EA6;\n",
              "      --disabled-fill-color: #AAA;\n",
              "      --disabled-bg-color: #DDD;\n",
              "  }\n",
              "\n",
              "  [theme=dark] .colab-df-quickchart {\n",
              "      --bg-color: #3B4455;\n",
              "      --fill-color: #D2E3FC;\n",
              "      --hover-bg-color: #434B5C;\n",
              "      --hover-fill-color: #FFFFFF;\n",
              "      --disabled-bg-color: #3B4455;\n",
              "      --disabled-fill-color: #666;\n",
              "  }\n",
              "\n",
              "  .colab-df-quickchart {\n",
              "    background-color: var(--bg-color);\n",
              "    border: none;\n",
              "    border-radius: 50%;\n",
              "    cursor: pointer;\n",
              "    display: none;\n",
              "    fill: var(--fill-color);\n",
              "    height: 32px;\n",
              "    padding: 0;\n",
              "    width: 32px;\n",
              "  }\n",
              "\n",
              "  .colab-df-quickchart:hover {\n",
              "    background-color: var(--hover-bg-color);\n",
              "    box-shadow: 0 1px 2px rgba(60, 64, 67, 0.3), 0 1px 3px 1px rgba(60, 64, 67, 0.15);\n",
              "    fill: var(--button-hover-fill-color);\n",
              "  }\n",
              "\n",
              "  .colab-df-quickchart-complete:disabled,\n",
              "  .colab-df-quickchart-complete:disabled:hover {\n",
              "    background-color: var(--disabled-bg-color);\n",
              "    fill: var(--disabled-fill-color);\n",
              "    box-shadow: none;\n",
              "  }\n",
              "\n",
              "  .colab-df-spinner {\n",
              "    border: 2px solid var(--fill-color);\n",
              "    border-color: transparent;\n",
              "    border-bottom-color: var(--fill-color);\n",
              "    animation:\n",
              "      spin 1s steps(1) infinite;\n",
              "  }\n",
              "\n",
              "  @keyframes spin {\n",
              "    0% {\n",
              "      border-color: transparent;\n",
              "      border-bottom-color: var(--fill-color);\n",
              "      border-left-color: var(--fill-color);\n",
              "    }\n",
              "    20% {\n",
              "      border-color: transparent;\n",
              "      border-left-color: var(--fill-color);\n",
              "      border-top-color: var(--fill-color);\n",
              "    }\n",
              "    30% {\n",
              "      border-color: transparent;\n",
              "      border-left-color: var(--fill-color);\n",
              "      border-top-color: var(--fill-color);\n",
              "      border-right-color: var(--fill-color);\n",
              "    }\n",
              "    40% {\n",
              "      border-color: transparent;\n",
              "      border-right-color: var(--fill-color);\n",
              "      border-top-color: var(--fill-color);\n",
              "    }\n",
              "    60% {\n",
              "      border-color: transparent;\n",
              "      border-right-color: var(--fill-color);\n",
              "    }\n",
              "    80% {\n",
              "      border-color: transparent;\n",
              "      border-right-color: var(--fill-color);\n",
              "      border-bottom-color: var(--fill-color);\n",
              "    }\n",
              "    90% {\n",
              "      border-color: transparent;\n",
              "      border-bottom-color: var(--fill-color);\n",
              "    }\n",
              "  }\n",
              "</style>\n",
              "\n",
              "  <script>\n",
              "    async function quickchart(key) {\n",
              "      const quickchartButtonEl =\n",
              "        document.querySelector('#' + key + ' button');\n",
              "      quickchartButtonEl.disabled = true;  // To prevent multiple clicks.\n",
              "      quickchartButtonEl.classList.add('colab-df-spinner');\n",
              "      try {\n",
              "        const charts = await google.colab.kernel.invokeFunction(\n",
              "            'suggestCharts', [key], {});\n",
              "      } catch (error) {\n",
              "        console.error('Error during call to suggestCharts:', error);\n",
              "      }\n",
              "      quickchartButtonEl.classList.remove('colab-df-spinner');\n",
              "      quickchartButtonEl.classList.add('colab-df-quickchart-complete');\n",
              "    }\n",
              "    (() => {\n",
              "      let quickchartButtonEl =\n",
              "        document.querySelector('#df-c029320c-8ac1-43ea-8a20-39ff637f47c9 button');\n",
              "      quickchartButtonEl.style.display =\n",
              "        google.colab.kernel.accessAllowed ? 'block' : 'none';\n",
              "    })();\n",
              "  </script>\n",
              "</div>\n",
              "\n",
              "    </div>\n",
              "  </div>\n"
            ],
            "application/vnd.google.colaboratory.intrinsic+json": {
              "type": "dataframe",
              "summary": "{\n  \"name\": \"df\",\n  \"rows\": 8,\n  \"fields\": [\n    {\n      \"column\": \"Movie_ID\",\n      \"properties\": {\n        \"dtype\": \"number\",\n        \"std\": 1720.2332807214548,\n        \"min\": 1.0,\n        \"max\": 4788.0,\n        \"num_unique_values\": 8,\n        \"samples\": [\n          2382.5663865546217,\n          2380.5,\n          4760.0\n        ],\n        \"semantic_type\": \"\",\n        \"description\": \"\"\n      }\n    },\n    {\n      \"column\": \"Movie_Budget\",\n      \"properties\": {\n        \"dtype\": \"number\",\n        \"std\": 129145160.11869688,\n        \"min\": 0.0,\n        \"max\": 380000000.0,\n        \"num_unique_values\": 8,\n        \"samples\": [\n          29201287.084033612,\n          15000000.0,\n          4760.0\n        ],\n        \"semantic_type\": \"\",\n        \"description\": \"\"\n      }\n    },\n    {\n      \"column\": \"Movie_Popularity\",\n      \"properties\": {\n        \"dtype\": \"number\",\n        \"std\": 1661.104044760524,\n        \"min\": 0.000372,\n        \"max\": 4760.0,\n        \"num_unique_values\": 8,\n        \"samples\": [\n          21.599509934663867,\n          13.119057999999999,\n          4760.0\n        ],\n        \"semantic_type\": \"\",\n        \"description\": \"\"\n      }\n    },\n    {\n      \"column\": \"Movie_Revenue\",\n      \"properties\": {\n        \"dtype\": \"number\",\n        \"std\": 969366059.942302,\n        \"min\": 0.0,\n        \"max\": 2787965087.0,\n        \"num_unique_values\": 7,\n        \"samples\": [\n          4760.0,\n          82637425.44285715,\n          93412759.75\n        ],\n        \"semantic_type\": \"\",\n        \"description\": \"\"\n      }\n    },\n    {\n      \"column\": \"Movie_Runtime\",\n      \"properties\": {\n        \"dtype\": \"number\",\n        \"std\": 1645.7876738678392,\n        \"min\": 0.0,\n        \"max\": 4758.0,\n        \"num_unique_values\": 8,\n        \"samples\": [\n          107.18411097099622,\n          104.0,\n          4758.0\n        ],\n        \"semantic_type\": \"\",\n        \"description\": \"\"\n      }\n    },\n    {\n      \"column\": \"Movie_Vote\",\n      \"properties\": {\n        \"dtype\": \"number\",\n        \"std\": 1681.1061997129445,\n        \"min\": 0.0,\n        \"max\": 4760.0,\n        \"num_unique_values\": 8,\n        \"samples\": [\n          6.113865546218487,\n          6.2,\n          4760.0\n        ],\n        \"semantic_type\": \"\",\n        \"description\": \"\"\n      }\n    },\n    {\n      \"column\": \"Movie_Vote_Count\",\n      \"properties\": {\n        \"dtype\": \"number\",\n        \"std\": 4732.148341860835,\n        \"min\": 0.0,\n        \"max\": 13752.0,\n        \"num_unique_values\": 8,\n        \"samples\": [\n          692.5084033613446,\n          238.0,\n          4760.0\n        ],\n        \"semantic_type\": \"\",\n        \"description\": \"\"\n      }\n    }\n  ]\n}"
            }
          },
          "metadata": {},
          "execution_count": 127
        }
      ]
    },
    {
      "cell_type": "code",
      "source": [
        "df.shape"
      ],
      "metadata": {
        "colab": {
          "base_uri": "https://localhost:8080/"
        },
        "id": "b22NITsMB5XV",
        "outputId": "1e6fad19-f349-46d1-c9de-7ea1edf4bbe2"
      },
      "execution_count": 4,
      "outputs": [
        {
          "output_type": "execute_result",
          "data": {
            "text/plain": [
              "(4760, 21)"
            ]
          },
          "metadata": {},
          "execution_count": 4
        }
      ]
    },
    {
      "cell_type": "markdown",
      "source": [
        "Target variable y and x"
      ],
      "metadata": {
        "id": "hfkaIg3jdzuM"
      }
    },
    {
      "cell_type": "code",
      "source": [
        "df.columns"
      ],
      "metadata": {
        "colab": {
          "base_uri": "https://localhost:8080/"
        },
        "id": "CLYfQKMfB-Yh",
        "outputId": "31c750e2-043c-4f0b-bfac-2d047798b730"
      },
      "execution_count": 5,
      "outputs": [
        {
          "output_type": "execute_result",
          "data": {
            "text/plain": [
              "Index(['Movie_ID', 'Movie_Title', 'Movie_Genre', 'Movie_Language',\n",
              "       'Movie_Budget', 'Movie_Popularity', 'Movie_Release_Date',\n",
              "       'Movie_Revenue', 'Movie_Runtime', 'Movie_Vote', 'Movie_Vote_Count',\n",
              "       'Movie_Homepage', 'Movie_Keywords', 'Movie_Overview',\n",
              "       'Movie_Production_House', 'Movie_Production_Country',\n",
              "       'Movie_Spoken_Language', 'Movie_Tagline', 'Movie_Cast', 'Movie_Crew',\n",
              "       'Movie_Director'],\n",
              "      dtype='object')"
            ]
          },
          "metadata": {},
          "execution_count": 5
        }
      ]
    },
    {
      "cell_type": "code",
      "source": [
        " df_features = df[['Movie_Genre','Movie_Keywords','Movie_Tagline','Movie_Cast','Movie_Director']]\n",
        " df_features.shape"
      ],
      "metadata": {
        "colab": {
          "base_uri": "https://localhost:8080/"
        },
        "id": "wkqE1w-NCVN_",
        "outputId": "378c4178-3503-470a-abac-ae391fcd7db5"
      },
      "execution_count": 7,
      "outputs": [
        {
          "output_type": "execute_result",
          "data": {
            "text/plain": [
              "(4760, 5)"
            ]
          },
          "metadata": {},
          "execution_count": 7
        }
      ]
    },
    {
      "cell_type": "code",
      "source": [
        "df_features"
      ],
      "metadata": {
        "colab": {
          "base_uri": "https://localhost:8080/",
          "height": 579
        },
        "id": "oP8q-WsUCpJS",
        "outputId": "f9c4f30c-935f-4321-fe7a-84b753b8037f"
      },
      "execution_count": 8,
      "outputs": [
        {
          "output_type": "execute_result",
          "data": {
            "text/plain": [
              "                           Movie_Genre  \\\n",
              "0                         Crime Comedy   \n",
              "1     Adventure Action Science Fiction   \n",
              "2                     Animation Family   \n",
              "3                 Comedy Drama Romance   \n",
              "4                                Drama   \n",
              "...                                ...   \n",
              "4755                            Horror   \n",
              "4756               Comedy Family Drama   \n",
              "4757                    Thriller Drama   \n",
              "4758                            Family   \n",
              "4759                       Documentary   \n",
              "\n",
              "                                         Movie_Keywords  \\\n",
              "0             hotel new year's eve witch bet hotel room   \n",
              "1           android galaxy hermit death star lightsaber   \n",
              "2     father son relationship harbor underwater fish...   \n",
              "3     vietnam veteran hippie mentally disabled runni...   \n",
              "4     male nudity female nudity adultery midlife cri...   \n",
              "...                                                 ...   \n",
              "4755                                                NaN   \n",
              "4756                                                NaN   \n",
              "4757                     christian film sex trafficking   \n",
              "4758                                                NaN   \n",
              "4759  music actors legendary perfomer classic hollyw...   \n",
              "\n",
              "                                          Movie_Tagline  \\\n",
              "0     Twelve outrageous guests. Four scandalous requ...   \n",
              "1          A long time ago in a galaxy far, far away...   \n",
              "2     There are 3.7 trillion fish in the ocean, they...   \n",
              "3     The world will never be the same, once you've ...   \n",
              "4                                          Look closer.   \n",
              "...                                                 ...   \n",
              "4755                The hot spot where Satan's waitin'.   \n",
              "4756           It’s better to stand out than to fit in.   \n",
              "4757           She never knew it could happen to her...   \n",
              "4758                                                NaN   \n",
              "4759                                                NaN   \n",
              "\n",
              "                                             Movie_Cast     Movie_Director  \n",
              "0     Tim Roth Antonio Banderas Jennifer Beals Madon...     Allison Anders  \n",
              "1     Mark Hamill Harrison Ford Carrie Fisher Peter ...       George Lucas  \n",
              "2     Albert Brooks Ellen DeGeneres Alexander Gould ...     Andrew Stanton  \n",
              "3     Tom Hanks Robin Wright Gary Sinise Mykelti Wil...    Robert Zemeckis  \n",
              "4     Kevin Spacey Annette Bening Thora Birch Wes Be...         Sam Mendes  \n",
              "...                                                 ...                ...  \n",
              "4755  Lisa Hart Carroll Michael Des Barres Paul Drak...         Pece Dingo  \n",
              "4756  Roni Akurati Brighton Sharbino Jason Lee Anjul...       Frank Lotito  \n",
              "4757  Nicole Smolen Kim Baldwin Ariana Stephens Brys...       Jaco Booyens  \n",
              "4758                                                NaN                NaN  \n",
              "4759                                    Tony Oppedisano  Simon Napier-Bell  \n",
              "\n",
              "[4760 rows x 5 columns]"
            ],
            "text/html": [
              "\n",
              "  <div id=\"df-b23fd7ca-b386-46d5-8af3-77dc452cc0e4\" class=\"colab-df-container\">\n",
              "    <div>\n",
              "<style scoped>\n",
              "    .dataframe tbody tr th:only-of-type {\n",
              "        vertical-align: middle;\n",
              "    }\n",
              "\n",
              "    .dataframe tbody tr th {\n",
              "        vertical-align: top;\n",
              "    }\n",
              "\n",
              "    .dataframe thead th {\n",
              "        text-align: right;\n",
              "    }\n",
              "</style>\n",
              "<table border=\"1\" class=\"dataframe\">\n",
              "  <thead>\n",
              "    <tr style=\"text-align: right;\">\n",
              "      <th></th>\n",
              "      <th>Movie_Genre</th>\n",
              "      <th>Movie_Keywords</th>\n",
              "      <th>Movie_Tagline</th>\n",
              "      <th>Movie_Cast</th>\n",
              "      <th>Movie_Director</th>\n",
              "    </tr>\n",
              "  </thead>\n",
              "  <tbody>\n",
              "    <tr>\n",
              "      <th>0</th>\n",
              "      <td>Crime Comedy</td>\n",
              "      <td>hotel new year's eve witch bet hotel room</td>\n",
              "      <td>Twelve outrageous guests. Four scandalous requ...</td>\n",
              "      <td>Tim Roth Antonio Banderas Jennifer Beals Madon...</td>\n",
              "      <td>Allison Anders</td>\n",
              "    </tr>\n",
              "    <tr>\n",
              "      <th>1</th>\n",
              "      <td>Adventure Action Science Fiction</td>\n",
              "      <td>android galaxy hermit death star lightsaber</td>\n",
              "      <td>A long time ago in a galaxy far, far away...</td>\n",
              "      <td>Mark Hamill Harrison Ford Carrie Fisher Peter ...</td>\n",
              "      <td>George Lucas</td>\n",
              "    </tr>\n",
              "    <tr>\n",
              "      <th>2</th>\n",
              "      <td>Animation Family</td>\n",
              "      <td>father son relationship harbor underwater fish...</td>\n",
              "      <td>There are 3.7 trillion fish in the ocean, they...</td>\n",
              "      <td>Albert Brooks Ellen DeGeneres Alexander Gould ...</td>\n",
              "      <td>Andrew Stanton</td>\n",
              "    </tr>\n",
              "    <tr>\n",
              "      <th>3</th>\n",
              "      <td>Comedy Drama Romance</td>\n",
              "      <td>vietnam veteran hippie mentally disabled runni...</td>\n",
              "      <td>The world will never be the same, once you've ...</td>\n",
              "      <td>Tom Hanks Robin Wright Gary Sinise Mykelti Wil...</td>\n",
              "      <td>Robert Zemeckis</td>\n",
              "    </tr>\n",
              "    <tr>\n",
              "      <th>4</th>\n",
              "      <td>Drama</td>\n",
              "      <td>male nudity female nudity adultery midlife cri...</td>\n",
              "      <td>Look closer.</td>\n",
              "      <td>Kevin Spacey Annette Bening Thora Birch Wes Be...</td>\n",
              "      <td>Sam Mendes</td>\n",
              "    </tr>\n",
              "    <tr>\n",
              "      <th>...</th>\n",
              "      <td>...</td>\n",
              "      <td>...</td>\n",
              "      <td>...</td>\n",
              "      <td>...</td>\n",
              "      <td>...</td>\n",
              "    </tr>\n",
              "    <tr>\n",
              "      <th>4755</th>\n",
              "      <td>Horror</td>\n",
              "      <td>NaN</td>\n",
              "      <td>The hot spot where Satan's waitin'.</td>\n",
              "      <td>Lisa Hart Carroll Michael Des Barres Paul Drak...</td>\n",
              "      <td>Pece Dingo</td>\n",
              "    </tr>\n",
              "    <tr>\n",
              "      <th>4756</th>\n",
              "      <td>Comedy Family Drama</td>\n",
              "      <td>NaN</td>\n",
              "      <td>It’s better to stand out than to fit in.</td>\n",
              "      <td>Roni Akurati Brighton Sharbino Jason Lee Anjul...</td>\n",
              "      <td>Frank Lotito</td>\n",
              "    </tr>\n",
              "    <tr>\n",
              "      <th>4757</th>\n",
              "      <td>Thriller Drama</td>\n",
              "      <td>christian film sex trafficking</td>\n",
              "      <td>She never knew it could happen to her...</td>\n",
              "      <td>Nicole Smolen Kim Baldwin Ariana Stephens Brys...</td>\n",
              "      <td>Jaco Booyens</td>\n",
              "    </tr>\n",
              "    <tr>\n",
              "      <th>4758</th>\n",
              "      <td>Family</td>\n",
              "      <td>NaN</td>\n",
              "      <td>NaN</td>\n",
              "      <td>NaN</td>\n",
              "      <td>NaN</td>\n",
              "    </tr>\n",
              "    <tr>\n",
              "      <th>4759</th>\n",
              "      <td>Documentary</td>\n",
              "      <td>music actors legendary perfomer classic hollyw...</td>\n",
              "      <td>NaN</td>\n",
              "      <td>Tony Oppedisano</td>\n",
              "      <td>Simon Napier-Bell</td>\n",
              "    </tr>\n",
              "  </tbody>\n",
              "</table>\n",
              "<p>4760 rows × 5 columns</p>\n",
              "</div>\n",
              "    <div class=\"colab-df-buttons\">\n",
              "\n",
              "  <div class=\"colab-df-container\">\n",
              "    <button class=\"colab-df-convert\" onclick=\"convertToInteractive('df-b23fd7ca-b386-46d5-8af3-77dc452cc0e4')\"\n",
              "            title=\"Convert this dataframe to an interactive table.\"\n",
              "            style=\"display:none;\">\n",
              "\n",
              "  <svg xmlns=\"http://www.w3.org/2000/svg\" height=\"24px\" viewBox=\"0 -960 960 960\">\n",
              "    <path d=\"M120-120v-720h720v720H120Zm60-500h600v-160H180v160Zm220 220h160v-160H400v160Zm0 220h160v-160H400v160ZM180-400h160v-160H180v160Zm440 0h160v-160H620v160ZM180-180h160v-160H180v160Zm440 0h160v-160H620v160Z\"/>\n",
              "  </svg>\n",
              "    </button>\n",
              "\n",
              "  <style>\n",
              "    .colab-df-container {\n",
              "      display:flex;\n",
              "      gap: 12px;\n",
              "    }\n",
              "\n",
              "    .colab-df-convert {\n",
              "      background-color: #E8F0FE;\n",
              "      border: none;\n",
              "      border-radius: 50%;\n",
              "      cursor: pointer;\n",
              "      display: none;\n",
              "      fill: #1967D2;\n",
              "      height: 32px;\n",
              "      padding: 0 0 0 0;\n",
              "      width: 32px;\n",
              "    }\n",
              "\n",
              "    .colab-df-convert:hover {\n",
              "      background-color: #E2EBFA;\n",
              "      box-shadow: 0px 1px 2px rgba(60, 64, 67, 0.3), 0px 1px 3px 1px rgba(60, 64, 67, 0.15);\n",
              "      fill: #174EA6;\n",
              "    }\n",
              "\n",
              "    .colab-df-buttons div {\n",
              "      margin-bottom: 4px;\n",
              "    }\n",
              "\n",
              "    [theme=dark] .colab-df-convert {\n",
              "      background-color: #3B4455;\n",
              "      fill: #D2E3FC;\n",
              "    }\n",
              "\n",
              "    [theme=dark] .colab-df-convert:hover {\n",
              "      background-color: #434B5C;\n",
              "      box-shadow: 0px 1px 3px 1px rgba(0, 0, 0, 0.15);\n",
              "      filter: drop-shadow(0px 1px 2px rgba(0, 0, 0, 0.3));\n",
              "      fill: #FFFFFF;\n",
              "    }\n",
              "  </style>\n",
              "\n",
              "    <script>\n",
              "      const buttonEl =\n",
              "        document.querySelector('#df-b23fd7ca-b386-46d5-8af3-77dc452cc0e4 button.colab-df-convert');\n",
              "      buttonEl.style.display =\n",
              "        google.colab.kernel.accessAllowed ? 'block' : 'none';\n",
              "\n",
              "      async function convertToInteractive(key) {\n",
              "        const element = document.querySelector('#df-b23fd7ca-b386-46d5-8af3-77dc452cc0e4');\n",
              "        const dataTable =\n",
              "          await google.colab.kernel.invokeFunction('convertToInteractive',\n",
              "                                                    [key], {});\n",
              "        if (!dataTable) return;\n",
              "\n",
              "        const docLinkHtml = 'Like what you see? Visit the ' +\n",
              "          '<a target=\"_blank\" href=https://colab.research.google.com/notebooks/data_table.ipynb>data table notebook</a>'\n",
              "          + ' to learn more about interactive tables.';\n",
              "        element.innerHTML = '';\n",
              "        dataTable['output_type'] = 'display_data';\n",
              "        await google.colab.output.renderOutput(dataTable, element);\n",
              "        const docLink = document.createElement('div');\n",
              "        docLink.innerHTML = docLinkHtml;\n",
              "        element.appendChild(docLink);\n",
              "      }\n",
              "    </script>\n",
              "  </div>\n",
              "\n",
              "\n",
              "<div id=\"df-cc9d7cfe-3720-4b00-b65a-951250474ac1\">\n",
              "  <button class=\"colab-df-quickchart\" onclick=\"quickchart('df-cc9d7cfe-3720-4b00-b65a-951250474ac1')\"\n",
              "            title=\"Suggest charts\"\n",
              "            style=\"display:none;\">\n",
              "\n",
              "<svg xmlns=\"http://www.w3.org/2000/svg\" height=\"24px\"viewBox=\"0 0 24 24\"\n",
              "     width=\"24px\">\n",
              "    <g>\n",
              "        <path d=\"M19 3H5c-1.1 0-2 .9-2 2v14c0 1.1.9 2 2 2h14c1.1 0 2-.9 2-2V5c0-1.1-.9-2-2-2zM9 17H7v-7h2v7zm4 0h-2V7h2v10zm4 0h-2v-4h2v4z\"/>\n",
              "    </g>\n",
              "</svg>\n",
              "  </button>\n",
              "\n",
              "<style>\n",
              "  .colab-df-quickchart {\n",
              "      --bg-color: #E8F0FE;\n",
              "      --fill-color: #1967D2;\n",
              "      --hover-bg-color: #E2EBFA;\n",
              "      --hover-fill-color: #174EA6;\n",
              "      --disabled-fill-color: #AAA;\n",
              "      --disabled-bg-color: #DDD;\n",
              "  }\n",
              "\n",
              "  [theme=dark] .colab-df-quickchart {\n",
              "      --bg-color: #3B4455;\n",
              "      --fill-color: #D2E3FC;\n",
              "      --hover-bg-color: #434B5C;\n",
              "      --hover-fill-color: #FFFFFF;\n",
              "      --disabled-bg-color: #3B4455;\n",
              "      --disabled-fill-color: #666;\n",
              "  }\n",
              "\n",
              "  .colab-df-quickchart {\n",
              "    background-color: var(--bg-color);\n",
              "    border: none;\n",
              "    border-radius: 50%;\n",
              "    cursor: pointer;\n",
              "    display: none;\n",
              "    fill: var(--fill-color);\n",
              "    height: 32px;\n",
              "    padding: 0;\n",
              "    width: 32px;\n",
              "  }\n",
              "\n",
              "  .colab-df-quickchart:hover {\n",
              "    background-color: var(--hover-bg-color);\n",
              "    box-shadow: 0 1px 2px rgba(60, 64, 67, 0.3), 0 1px 3px 1px rgba(60, 64, 67, 0.15);\n",
              "    fill: var(--button-hover-fill-color);\n",
              "  }\n",
              "\n",
              "  .colab-df-quickchart-complete:disabled,\n",
              "  .colab-df-quickchart-complete:disabled:hover {\n",
              "    background-color: var(--disabled-bg-color);\n",
              "    fill: var(--disabled-fill-color);\n",
              "    box-shadow: none;\n",
              "  }\n",
              "\n",
              "  .colab-df-spinner {\n",
              "    border: 2px solid var(--fill-color);\n",
              "    border-color: transparent;\n",
              "    border-bottom-color: var(--fill-color);\n",
              "    animation:\n",
              "      spin 1s steps(1) infinite;\n",
              "  }\n",
              "\n",
              "  @keyframes spin {\n",
              "    0% {\n",
              "      border-color: transparent;\n",
              "      border-bottom-color: var(--fill-color);\n",
              "      border-left-color: var(--fill-color);\n",
              "    }\n",
              "    20% {\n",
              "      border-color: transparent;\n",
              "      border-left-color: var(--fill-color);\n",
              "      border-top-color: var(--fill-color);\n",
              "    }\n",
              "    30% {\n",
              "      border-color: transparent;\n",
              "      border-left-color: var(--fill-color);\n",
              "      border-top-color: var(--fill-color);\n",
              "      border-right-color: var(--fill-color);\n",
              "    }\n",
              "    40% {\n",
              "      border-color: transparent;\n",
              "      border-right-color: var(--fill-color);\n",
              "      border-top-color: var(--fill-color);\n",
              "    }\n",
              "    60% {\n",
              "      border-color: transparent;\n",
              "      border-right-color: var(--fill-color);\n",
              "    }\n",
              "    80% {\n",
              "      border-color: transparent;\n",
              "      border-right-color: var(--fill-color);\n",
              "      border-bottom-color: var(--fill-color);\n",
              "    }\n",
              "    90% {\n",
              "      border-color: transparent;\n",
              "      border-bottom-color: var(--fill-color);\n",
              "    }\n",
              "  }\n",
              "</style>\n",
              "\n",
              "  <script>\n",
              "    async function quickchart(key) {\n",
              "      const quickchartButtonEl =\n",
              "        document.querySelector('#' + key + ' button');\n",
              "      quickchartButtonEl.disabled = true;  // To prevent multiple clicks.\n",
              "      quickchartButtonEl.classList.add('colab-df-spinner');\n",
              "      try {\n",
              "        const charts = await google.colab.kernel.invokeFunction(\n",
              "            'suggestCharts', [key], {});\n",
              "      } catch (error) {\n",
              "        console.error('Error during call to suggestCharts:', error);\n",
              "      }\n",
              "      quickchartButtonEl.classList.remove('colab-df-spinner');\n",
              "      quickchartButtonEl.classList.add('colab-df-quickchart-complete');\n",
              "    }\n",
              "    (() => {\n",
              "      let quickchartButtonEl =\n",
              "        document.querySelector('#df-cc9d7cfe-3720-4b00-b65a-951250474ac1 button');\n",
              "      quickchartButtonEl.style.display =\n",
              "        google.colab.kernel.accessAllowed ? 'block' : 'none';\n",
              "    })();\n",
              "  </script>\n",
              "</div>\n",
              "\n",
              "  <div id=\"id_0d30a4a7-08a4-4ae6-958c-32fb4803b9fe\">\n",
              "    <style>\n",
              "      .colab-df-generate {\n",
              "        background-color: #E8F0FE;\n",
              "        border: none;\n",
              "        border-radius: 50%;\n",
              "        cursor: pointer;\n",
              "        display: none;\n",
              "        fill: #1967D2;\n",
              "        height: 32px;\n",
              "        padding: 0 0 0 0;\n",
              "        width: 32px;\n",
              "      }\n",
              "\n",
              "      .colab-df-generate:hover {\n",
              "        background-color: #E2EBFA;\n",
              "        box-shadow: 0px 1px 2px rgba(60, 64, 67, 0.3), 0px 1px 3px 1px rgba(60, 64, 67, 0.15);\n",
              "        fill: #174EA6;\n",
              "      }\n",
              "\n",
              "      [theme=dark] .colab-df-generate {\n",
              "        background-color: #3B4455;\n",
              "        fill: #D2E3FC;\n",
              "      }\n",
              "\n",
              "      [theme=dark] .colab-df-generate:hover {\n",
              "        background-color: #434B5C;\n",
              "        box-shadow: 0px 1px 3px 1px rgba(0, 0, 0, 0.15);\n",
              "        filter: drop-shadow(0px 1px 2px rgba(0, 0, 0, 0.3));\n",
              "        fill: #FFFFFF;\n",
              "      }\n",
              "    </style>\n",
              "    <button class=\"colab-df-generate\" onclick=\"generateWithVariable('df_features')\"\n",
              "            title=\"Generate code using this dataframe.\"\n",
              "            style=\"display:none;\">\n",
              "\n",
              "  <svg xmlns=\"http://www.w3.org/2000/svg\" height=\"24px\"viewBox=\"0 0 24 24\"\n",
              "       width=\"24px\">\n",
              "    <path d=\"M7,19H8.4L18.45,9,17,7.55,7,17.6ZM5,21V16.75L18.45,3.32a2,2,0,0,1,2.83,0l1.4,1.43a1.91,1.91,0,0,1,.58,1.4,1.91,1.91,0,0,1-.58,1.4L9.25,21ZM18.45,9,17,7.55Zm-12,3A5.31,5.31,0,0,0,4.9,8.1,5.31,5.31,0,0,0,1,6.5,5.31,5.31,0,0,0,4.9,4.9,5.31,5.31,0,0,0,6.5,1,5.31,5.31,0,0,0,8.1,4.9,5.31,5.31,0,0,0,12,6.5,5.46,5.46,0,0,0,6.5,12Z\"/>\n",
              "  </svg>\n",
              "    </button>\n",
              "    <script>\n",
              "      (() => {\n",
              "      const buttonEl =\n",
              "        document.querySelector('#id_0d30a4a7-08a4-4ae6-958c-32fb4803b9fe button.colab-df-generate');\n",
              "      buttonEl.style.display =\n",
              "        google.colab.kernel.accessAllowed ? 'block' : 'none';\n",
              "\n",
              "      buttonEl.onclick = () => {\n",
              "        google.colab.notebook.generateWithVariable('df_features');\n",
              "      }\n",
              "      })();\n",
              "    </script>\n",
              "  </div>\n",
              "\n",
              "    </div>\n",
              "  </div>\n"
            ],
            "application/vnd.google.colaboratory.intrinsic+json": {
              "type": "dataframe",
              "variable_name": "df_features",
              "summary": "{\n  \"name\": \"df_features\",\n  \"rows\": 4760,\n  \"fields\": [\n    {\n      \"column\": \"Movie_Genre\",\n      \"properties\": {\n        \"dtype\": \"category\",\n        \"num_unique_values\": 1164,\n        \"samples\": [\n          \"Family Animation Adventure\",\n          \"Adventure Science Fiction Action\",\n          \"Action Crime Drama Romance Thriller\"\n        ],\n        \"semantic_type\": \"\",\n        \"description\": \"\"\n      }\n    },\n    {\n      \"column\": \"Movie_Keywords\",\n      \"properties\": {\n        \"dtype\": \"string\",\n        \"num_unique_values\": 4202,\n        \"samples\": [\n          \"comedy cheating on partner amusement park summer job carny\",\n          \"dystopia\",\n          \"famous score hero mine vietnam war village\"\n        ],\n        \"semantic_type\": \"\",\n        \"description\": \"\"\n      }\n    },\n    {\n      \"column\": \"Movie_Tagline\",\n      \"properties\": {\n        \"dtype\": \"string\",\n        \"num_unique_values\": 3927,\n        \"samples\": [\n          \"Laughter is contagious\",\n          \"A comedy that doesn't let principles stand in the way of progress.\",\n          \"Evolution Begins\"\n        ],\n        \"semantic_type\": \"\",\n        \"description\": \"\"\n      }\n    },\n    {\n      \"column\": \"Movie_Cast\",\n      \"properties\": {\n        \"dtype\": \"string\",\n        \"num_unique_values\": 4714,\n        \"samples\": [\n          \"Robin Tunney Fairuza Balk Neve Campbell Rachel True Skeet Ulrich\",\n          \"Peter Sellers Christopher Plummer Herbert Lom Catherine Schell Peter Arne\",\n          \"Alan King Angela Bassett Timothy Hutton Mary Steenburgen Clifton James\"\n        ],\n        \"semantic_type\": \"\",\n        \"description\": \"\"\n      }\n    },\n    {\n      \"column\": \"Movie_Director\",\n      \"properties\": {\n        \"dtype\": \"category\",\n        \"num_unique_values\": 2331,\n        \"samples\": [\n          \"Dennis Gansel\",\n          \"\\\\u00c0lex Pastor\",\n          \"Michael D. Sellers\"\n        ],\n        \"semantic_type\": \"\",\n        \"description\": \"\"\n      }\n    }\n  ]\n}"
            }
          },
          "metadata": {},
          "execution_count": 8
        }
      ]
    },
    {
      "cell_type": "code",
      "source": [
        "x = df_features['Movie_Genre']+' '+df_features['Movie_Keywords']+' '+df_features['Movie_Tagline']+' '+df_features['Movie_Cast']+' '+df_features['Movie_Director']\n"
      ],
      "metadata": {
        "id": "KhyzVlqfC6l1"
      },
      "execution_count": 13,
      "outputs": []
    },
    {
      "cell_type": "code",
      "source": [
        "x"
      ],
      "metadata": {
        "colab": {
          "base_uri": "https://localhost:8080/",
          "height": 458
        },
        "id": "VsOcNUpCDPmc",
        "outputId": "b990dc02-aaaa-45d9-f366-37658d46f5e3"
      },
      "execution_count": 14,
      "outputs": [
        {
          "output_type": "execute_result",
          "data": {
            "text/plain": [
              "0       Crime Comedy hotel new year's eve witch bet ho...\n",
              "1       Adventure Action Science Fiction android galax...\n",
              "2       Animation Family father son relationship harbo...\n",
              "3       Comedy Drama Romance vietnam veteran hippie me...\n",
              "4       Drama male nudity female nudity adultery midli...\n",
              "                              ...                        \n",
              "4755                                                  NaN\n",
              "4756                                                  NaN\n",
              "4757    Thriller Drama christian film sex trafficking ...\n",
              "4758                                                  NaN\n",
              "4759                                                  NaN\n",
              "Length: 4760, dtype: object"
            ],
            "text/html": [
              "<div>\n",
              "<style scoped>\n",
              "    .dataframe tbody tr th:only-of-type {\n",
              "        vertical-align: middle;\n",
              "    }\n",
              "\n",
              "    .dataframe tbody tr th {\n",
              "        vertical-align: top;\n",
              "    }\n",
              "\n",
              "    .dataframe thead th {\n",
              "        text-align: right;\n",
              "    }\n",
              "</style>\n",
              "<table border=\"1\" class=\"dataframe\">\n",
              "  <thead>\n",
              "    <tr style=\"text-align: right;\">\n",
              "      <th></th>\n",
              "      <th>0</th>\n",
              "    </tr>\n",
              "  </thead>\n",
              "  <tbody>\n",
              "    <tr>\n",
              "      <th>0</th>\n",
              "      <td>Crime Comedy hotel new year's eve witch bet ho...</td>\n",
              "    </tr>\n",
              "    <tr>\n",
              "      <th>1</th>\n",
              "      <td>Adventure Action Science Fiction android galax...</td>\n",
              "    </tr>\n",
              "    <tr>\n",
              "      <th>2</th>\n",
              "      <td>Animation Family father son relationship harbo...</td>\n",
              "    </tr>\n",
              "    <tr>\n",
              "      <th>3</th>\n",
              "      <td>Comedy Drama Romance vietnam veteran hippie me...</td>\n",
              "    </tr>\n",
              "    <tr>\n",
              "      <th>4</th>\n",
              "      <td>Drama male nudity female nudity adultery midli...</td>\n",
              "    </tr>\n",
              "    <tr>\n",
              "      <th>...</th>\n",
              "      <td>...</td>\n",
              "    </tr>\n",
              "    <tr>\n",
              "      <th>4755</th>\n",
              "      <td>NaN</td>\n",
              "    </tr>\n",
              "    <tr>\n",
              "      <th>4756</th>\n",
              "      <td>NaN</td>\n",
              "    </tr>\n",
              "    <tr>\n",
              "      <th>4757</th>\n",
              "      <td>Thriller Drama christian film sex trafficking ...</td>\n",
              "    </tr>\n",
              "    <tr>\n",
              "      <th>4758</th>\n",
              "      <td>NaN</td>\n",
              "    </tr>\n",
              "    <tr>\n",
              "      <th>4759</th>\n",
              "      <td>NaN</td>\n",
              "    </tr>\n",
              "  </tbody>\n",
              "</table>\n",
              "<p>4760 rows × 1 columns</p>\n",
              "</div><br><label><b>dtype:</b> object</label>"
            ]
          },
          "metadata": {},
          "execution_count": 14
        }
      ]
    },
    {
      "cell_type": "code",
      "source": [
        "x.shape"
      ],
      "metadata": {
        "colab": {
          "base_uri": "https://localhost:8080/"
        },
        "id": "RMrHzRUtD9Qe",
        "outputId": "a046bf75-b0fb-41a0-86c1-469f83f153de"
      },
      "execution_count": 15,
      "outputs": [
        {
          "output_type": "execute_result",
          "data": {
            "text/plain": [
              "(4760,)"
            ]
          },
          "metadata": {},
          "execution_count": 15
        }
      ]
    },
    {
      "cell_type": "markdown",
      "source": [
        "Train test split"
      ],
      "metadata": {
        "id": "UuMJGBheEEyd"
      }
    },
    {
      "cell_type": "code",
      "source": [
        " from sklearn.feature_extraction.text import TfidfVectorizer\n"
      ],
      "metadata": {
        "id": "GMqfLLEdEFw8"
      },
      "execution_count": 60,
      "outputs": []
    },
    {
      "cell_type": "code",
      "source": [
        "for column in ['Movie_Genre', 'Movie_Keywords', 'Movie_Tagline', 'Movie_Cast', 'Movie_Director']:\n",
        "    df_features[column] = df_features[column].fillna('')\n"
      ],
      "metadata": {
        "id": "Yr0cbNbBUGp3"
      },
      "execution_count": 88,
      "outputs": []
    },
    {
      "cell_type": "code",
      "source": [
        "text_data = df_features['Movie_Genre'] + ' ' + df_features['Movie_Keywords'] + ' ' + df_features['Movie_Tagline'] + ' ' + df_features['Movie_Cast'] + ' ' + df_features['Movie_Director']"
      ],
      "metadata": {
        "id": "IYhFHyQcUKOU"
      },
      "execution_count": 89,
      "outputs": []
    },
    {
      "cell_type": "code",
      "source": [
        "tfidf = TfidfVectorizer()\n",
        "x_transformed = tfidf.fit_transform(text_data)"
      ],
      "metadata": {
        "id": "uj-HYBzhUQHB"
      },
      "execution_count": 90,
      "outputs": []
    },
    {
      "cell_type": "code",
      "source": [
        "x.shape"
      ],
      "metadata": {
        "colab": {
          "base_uri": "https://localhost:8080/"
        },
        "id": "u1Qy1bkxUSIG",
        "outputId": "0a5b1543-a2ec-4d4a-fc03-53b7e9d3ceb8"
      },
      "execution_count": 91,
      "outputs": [
        {
          "output_type": "execute_result",
          "data": {
            "text/plain": [
              "(4760, 14759)"
            ]
          },
          "metadata": {},
          "execution_count": 91
        }
      ]
    },
    {
      "cell_type": "code",
      "source": [
        "print(x)"
      ],
      "metadata": {
        "colab": {
          "base_uri": "https://localhost:8080/"
        },
        "id": "Vx-OYs5-UbEe",
        "outputId": "7e1b91c1-bd01-46f4-a037-d013a3a7c492"
      },
      "execution_count": 92,
      "outputs": [
        {
          "output_type": "stream",
          "name": "stdout",
          "text": [
            "  (0, 3068)\t0.06766077826178875\n",
            "  (0, 2757)\t0.05000885914030971\n",
            "  (0, 6188)\t0.25439979383546746\n",
            "  (0, 9289)\t0.17988810859566223\n",
            "  (0, 14588)\t0.25884286484747987\n",
            "  (0, 4335)\t0.29724326682573127\n",
            "  (0, 14430)\t0.12719989691773373\n",
            "  (0, 1358)\t0.15693864017705653\n",
            "  (0, 11145)\t0.14600722340457362\n",
            "  (0, 13455)\t0.17443989409329594\n",
            "  (0, 9689)\t0.18577860357572076\n",
            "  (0, 5550)\t0.18577860357572076\n",
            "  (0, 4869)\t0.14600722340457362\n",
            "  (0, 11495)\t0.19477864361326697\n",
            "  (0, 10871)\t0.19477864361326697\n",
            "  (0, 530)\t0.07717279423932269\n",
            "  (0, 9580)\t0.08254601550838361\n",
            "  (0, 7859)\t0.15005418398894926\n",
            "  (0, 1273)\t0.19477864361326697\n",
            "  (0, 6401)\t0.14921553081605896\n",
            "  (0, 6061)\t0.19730018458027815\n",
            "  (0, 4727)\t0.11432976440217779\n",
            "  (0, 3325)\t0.11965590860182924\n",
            "  (0, 9578)\t0.07368780873237031\n",
            "  (0, 13017)\t0.09959538243705138\n",
            "  :\t:\n",
            "  (4754, 5043)\t0.21130084468662677\n",
            "  (4757, 3850)\t0.06524734955166167\n",
            "  (4757, 9287)\t0.14374223792809548\n",
            "  (4757, 6577)\t0.11402334640583418\n",
            "  (4757, 13165)\t0.09777405967688489\n",
            "  (4757, 13095)\t0.08017430864947132\n",
            "  (4757, 7171)\t0.17916887523686978\n",
            "  (4757, 5948)\t0.1687827404503763\n",
            "  (4757, 7244)\t0.23446549133727584\n",
            "  (4757, 2517)\t0.16786134305412895\n",
            "  (4757, 4685)\t0.13414457066004926\n",
            "  (4757, 9333)\t0.19160522332095334\n",
            "  (4757, 11740)\t0.1512077329810684\n",
            "  (4757, 11830)\t0.16361221671972728\n",
            "  (4757, 5712)\t0.22021783652075877\n",
            "  (4757, 2978)\t0.19673453718663797\n",
            "  (4757, 1010)\t0.18976205224309511\n",
            "  (4757, 12455)\t0.23826360731355334\n",
            "  (4757, 13280)\t0.2425695560678491\n",
            "  (4757, 4987)\t0.2425695560678491\n",
            "  (4757, 12126)\t0.28296704640773407\n",
            "  (4757, 702)\t0.28296704640773407\n",
            "  (4757, 1886)\t0.28296704640773407\n",
            "  (4757, 6612)\t0.28296704640773407\n",
            "  (4757, 1631)\t0.28296704640773407\n"
          ]
        }
      ]
    },
    {
      "cell_type": "markdown",
      "source": [
        " Get Similarity Score Using Cosine Similarity"
      ],
      "metadata": {
        "id": "2YgoNXDUUnt7"
      }
    },
    {
      "cell_type": "code",
      "source": [
        "from sklearn.metrics.pairwise import cosine_similarity"
      ],
      "metadata": {
        "id": "Bh2acdCTUoqH"
      },
      "execution_count": 93,
      "outputs": []
    },
    {
      "cell_type": "code",
      "source": [
        " similarity_score = cosine_similarity(x)"
      ],
      "metadata": {
        "id": "TJz-ft1xUuRX"
      },
      "execution_count": 94,
      "outputs": []
    },
    {
      "cell_type": "code",
      "source": [
        "similarity_score"
      ],
      "metadata": {
        "colab": {
          "base_uri": "https://localhost:8080/"
        },
        "id": "2m6jTHGwUzLe",
        "outputId": "1c7fbbbe-8c53-478f-d8fa-b9d1dff18db8"
      },
      "execution_count": 95,
      "outputs": [
        {
          "output_type": "execute_result",
          "data": {
            "text/plain": [
              "array([[1.        , 0.01383423, 0.03601212, ..., 0.        , 0.        ,\n",
              "        0.        ],\n",
              "       [0.01383423, 1.        , 0.00822535, ..., 0.        , 0.        ,\n",
              "        0.        ],\n",
              "       [0.03601212, 0.00822535, 1.        , ..., 0.        , 0.        ,\n",
              "        0.        ],\n",
              "       ...,\n",
              "       [0.        , 0.        , 0.        , ..., 1.        , 0.        ,\n",
              "        0.        ],\n",
              "       [0.        , 0.        , 0.        , ..., 0.        , 0.        ,\n",
              "        0.        ],\n",
              "       [0.        , 0.        , 0.        , ..., 0.        , 0.        ,\n",
              "        0.        ]])"
            ]
          },
          "metadata": {},
          "execution_count": 95
        }
      ]
    },
    {
      "cell_type": "code",
      "source": [
        "similarity_score.shape"
      ],
      "metadata": {
        "colab": {
          "base_uri": "https://localhost:8080/"
        },
        "id": "4ZOrj4FQU5wS",
        "outputId": "dd04b162-7237-4e4e-8b39-3f9f1dbcf2ee"
      },
      "execution_count": 96,
      "outputs": [
        {
          "output_type": "execute_result",
          "data": {
            "text/plain": [
              "(4760, 4760)"
            ]
          },
          "metadata": {},
          "execution_count": 96
        }
      ]
    },
    {
      "cell_type": "markdown",
      "source": [
        "Get Movie Name as Input from User and Validate for\n",
        " Closest Spelling"
      ],
      "metadata": {
        "id": "sG9HqJRfVABC"
      }
    },
    {
      "cell_type": "code",
      "source": [
        " Favourite_Movie_Name = input('Enter your favourite movie name :')"
      ],
      "metadata": {
        "colab": {
          "base_uri": "https://localhost:8080/"
        },
        "id": "vcbnZ5_JVBgy",
        "outputId": "b22f7dc0-cc0b-4aee-afa3-953391f9a429"
      },
      "execution_count": 101,
      "outputs": [
        {
          "name": "stdout",
          "output_type": "stream",
          "text": [
            "Enter your favourite movie name :Avataar\n"
          ]
        }
      ]
    },
    {
      "cell_type": "code",
      "source": [
        "All_Movies_Title_List = df['Movie_Title'].tolist()"
      ],
      "metadata": {
        "id": "yXpN_LyrVSqr"
      },
      "execution_count": 102,
      "outputs": []
    },
    {
      "cell_type": "code",
      "source": [
        " import difflib"
      ],
      "metadata": {
        "id": "rdb6TXLdWWVD"
      },
      "execution_count": 103,
      "outputs": []
    },
    {
      "cell_type": "code",
      "source": [
        " Movie_Recommendation = difflib.get_close_matches(Favourite_Movie_Name, All_Movies_Title_List)\n",
        " print(Movie_Recommendation)"
      ],
      "metadata": {
        "colab": {
          "base_uri": "https://localhost:8080/"
        },
        "id": "cUHYGKOoWZ1g",
        "outputId": "e1ec7eb9-4362-47e3-829f-27465d588fc7"
      },
      "execution_count": 108,
      "outputs": [
        {
          "output_type": "stream",
          "name": "stdout",
          "text": [
            "['Avatar', 'Anastasia']\n"
          ]
        }
      ]
    },
    {
      "cell_type": "code",
      "source": [
        " Close_Match = Movie_Recommendation[0]\n",
        " print(Close_Match)"
      ],
      "metadata": {
        "colab": {
          "base_uri": "https://localhost:8080/"
        },
        "id": "siD6jBvwW5zU",
        "outputId": "200abb81-0816-4c6c-8b8d-6338d660f630"
      },
      "execution_count": 109,
      "outputs": [
        {
          "output_type": "stream",
          "name": "stdout",
          "text": [
            "Avatar\n"
          ]
        }
      ]
    },
    {
      "cell_type": "code",
      "source": [
        " Index_of_Close_Match_Movie = df[df.Movie_Title == Close_Match]['Movie_ID'].values[0]\n",
        " print(Index_of_Close_Match_Movie)"
      ],
      "metadata": {
        "colab": {
          "base_uri": "https://localhost:8080/"
        },
        "id": "d-o_ej3wXBer",
        "outputId": "891e9ca0-9827-40b6-9e53-268f05b90e23"
      },
      "execution_count": 111,
      "outputs": [
        {
          "output_type": "stream",
          "name": "stdout",
          "text": [
            "2692\n"
          ]
        }
      ]
    },
    {
      "cell_type": "code",
      "source": [
        "Recommendation_Score = list(enumerate(similarity_score[Index_of_Close_Match_Movie]))\n",
        "print(Recommendation_Score)"
      ],
      "metadata": {
        "colab": {
          "base_uri": "https://localhost:8080/"
        },
        "id": "xgVliwrZXTKE",
        "outputId": "2af9324a-108f-4f80-cfc4-6920d330a57f"
      },
      "execution_count": 113,
      "outputs": [
        {
          "output_type": "stream",
          "name": "stdout",
          "text": [
            "[(0, 0.010441147279099505), (1, 0.0), (2, 0.0), (3, 0.00895327074374604), (4, 0.0035269207415170936), (5, 0.010947051178122173), (6, 0.005451098568769252), (7, 0.013458604229000611), (8, 0.0), (9, 0.006307533346415295), (10, 0.00809104619072816), (11, 0.0034763795711818127), (12, 0.0035995461227360573), (13, 0.01293777926177687), (14, 0.0), (15, 0.023521196099947923), (16, 0.007046668573323063), (17, 0.0), (18, 0.015400394657807157), (19, 0.009830896740030078), (20, 0.003506798589362555), (21, 0.017132709169881816), (22, 0.006730814107924867), (23, 0.003473948754672922), (24, 0.0022012955140284173), (25, 0.02839036470408457), (26, 0.0032607854472017006), (27, 0.0052793784325264785), (28, 0.0), (29, 0.024262588780957925), (30, 0.005134977495097245), (31, 0.00793449887672365), (32, 0.00879128635470753), (33, 0.019171913442634102), (34, 0.008817182255328324), (35, 0.006298910429252719), (36, 0.0), (37, 0.0), (38, 0.008638597026283461), (39, 0.00510285026437801), (40, 0.0), (41, 0.003746679490735347), (42, 0.007841870429272103), (43, 0.01623323664280102), (44, 0.04063632694524282), (45, 0.09094486392420562), (46, 0.019041671126082838), (47, 0.011330186286435569), (48, 0.017572438499074382), (49, 0.0), (50, 0.0075212297332106545), (51, 0.016776155738304585), (52, 0.01532931960674764), (53, 0.0), (54, 0.0), (55, 0.0), (56, 0.0069461336571447355), (57, 0.011322732589940607), (58, 0.0), (59, 0.0), (60, 0.008733301385413072), (61, 0.018280050830389798), (62, 0.10357177015737198), (63, 0.008102208172435116), (64, 0.0), (65, 0.031016714244679684), (66, 0.0033670634956066065), (67, 0.04541083403792426), (68, 0.025138484748313986), (69, 0.0), (70, 0.013875266981185408), (71, 0.0034156056047519247), (72, 0.012334747295025967), (73, 0.0), (74, 0.00356883065400862), (75, 0.012823302751804077), (76, 0.004131988319748353), (77, 0.003844656831846205), (78, 0.0099968404347772), (79, 0.010166181530774044), (80, 0.004668793703389937), (81, 0.007576975040192393), (82, 0.012945155656242295), (83, 0.019685537617614608), (84, 0.062168221438908655), (85, 0.01716683374084807), (86, 0.01246226157499776), (87, 0.015537461309249873), (88, 0.023166407004939653), (89, 0.04275788281825452), (90, 0.004969605787555426), (91, 0.0), (92, 0.002970335971339719), (93, 0.004869793435336991), (94, 0.004658027988493124), (95, 0.0052358353705436135), (96, 0.010115570309482605), (97, 0.002967056336488607), (98, 0.00328309346695385), (99, 0.011074306545669908), (100, 0.0), (101, 0.0), (102, 0.005546045994530095), (103, 0.002924685978776197), (104, 0.010162001093338), (105, 0.010841940916790617), (106, 0.01890997271620975), (107, 0.009533462078035314), (108, 0.04029053631380267), (109, 0.04063773196812309), (110, 0.08704482797337142), (111, 0.010212705836912488), (112, 0.029855394997696016), (113, 0.008288837239934727), (114, 0.0033411995866222278), (115, 0.003439057174807375), (116, 0.02504488955404048), (117, 0.0), (118, 0.005134638252220813), (119, 0.009890855969312298), (120, 0.0), (121, 0.003097425214058687), (122, 0.007061058219344097), (123, 0.020295744825989406), (124, 0.02703101536804587), (125, 0.013604923513669065), (126, 0.03921529959604783), (127, 0.0032510511733387136), (128, 0.005641008854403184), (129, 0.002332768340435474), (130, 0.012341530113626584), (131, 0.0069303543804745136), (132, 0.002986852536390335), (133, 0.0), (134, 0.0), (135, 0.005104000718530785), (136, 0.003100797564372226), (137, 0.053022702679887665), (138, 0.03475681367151989), (139, 0.0), (140, 0.0), (141, 0.0), (142, 0.02105696867762678), (143, 0.008019465971023204), (144, 0.018418699309289292), (145, 0.020630601878486077), (146, 0.0), (147, 0.01971319512896856), (148, 0.011543306421215368), (149, 0.013156881701437296), (150, 0.0), (151, 0.0), (152, 0.004907269069964706), (153, 0.0), (154, 0.003147117164915322), (155, 0.02407022780357132), (156, 0.008293792350641285), (157, 0.0), (158, 0.003031751862225431), (159, 0.007982912843428865), (160, 0.01866886097283423), (161, 0.04431285337732354), (162, 0.008357869754944198), (163, 0.0), (164, 0.00973617916855954), (165, 0.0029225986746936614), (166, 0.03446416332751979), (167, 0.02756253875436289), (168, 0.0053517019645748), (169, 0.0033002618940765984), (170, 0.011411846240908574), (171, 0.0), (172, 0.04240830990437774), (173, 0.01859386654290649), (174, 0.0), (175, 0.024162819138217495), (176, 0.0), (177, 0.0058292382753677135), (178, 0.0034964967208471697), (179, 0.030248838695618136), (180, 0.008161044835392199), (181, 0.015189304668432092), (182, 0.010274249094582164), (183, 0.009293243670984653), (184, 0.002961649107015193), (185, 0.04015907460321893), (186, 0.0), (187, 0.0044704931044067964), (188, 0.0), (189, 0.0), (190, 0.013816567109124812), (191, 0.004554582456518894), (192, 0.003583508716847384), (193, 0.030032826124419775), (194, 0.0026900961653491787), (195, 0.002825808369106307), (196, 0.002830371513418719), (197, 0.0), (198, 0.0034103347819838203), (199, 0.020887077905198028), (200, 0.007503716476197307), (201, 0.013215112763798328), (202, 0.002194537274335569), (203, 0.017654893213925667), (204, 0.01941144616384506), (205, 0.0), (206, 0.01161066399368013), (207, 0.014259310156958728), (208, 0.016171277949164488), (209, 0.0179108848511678), (210, 0.0), (211, 0.003491047097011981), (212, 0.017443797760172484), (213, 0.049524527491749695), (214, 0.0), (215, 0.0032940244398751467), (216, 0.011310166456405996), (217, 0.007393465868036351), (218, 0.016967515179986587), (219, 0.0), (220, 0.0053557728251997965), (221, 0.003205087148826625), (222, 0.019403992797244994), (223, 0.0), (224, 0.008391731800709446), (225, 0.0), (226, 0.003367241282102508), (227, 0.0), (228, 0.002532750793419837), (229, 0.003143355797287558), (230, 0.006665305805061796), (231, 0.014327139096663343), (232, 0.007381867044546623), (233, 0.005047388046816989), (234, 0.004360495093152513), (235, 0.003804944823006163), (236, 0.01514358437731287), (237, 0.0), (238, 0.008577684516256645), (239, 0.005379328007390946), (240, 0.028148177600360834), (241, 0.030323125517956972), (242, 0.008771121936834329), (243, 0.010716448043334223), (244, 0.012471546021817704), (245, 0.0), (246, 0.003559958266591297), (247, 0.0033110696472194536), (248, 0.006297967519814373), (249, 0.0029507996649409977), (250, 0.0325626232608969), (251, 0.015376714062482802), (252, 0.0), (253, 0.003666620769151949), (254, 0.0), (255, 0.008816598418502705), (256, 0.00826555150496484), (257, 0.02216420565438005), (258, 0.0), (259, 0.0), (260, 0.004851656938768162), (261, 0.022580776198962073), (262, 0.003552809124715839), (263, 0.006408901265284806), (264, 0.0), (265, 0.0), (266, 0.011684878446525573), (267, 0.0028550952913357036), (268, 0.003004342638823055), (269, 0.02621325648045156), (270, 0.011453564848460402), (271, 0.01167233077786663), (272, 0.0), (273, 0.011502214879338763), (274, 0.012552144861550549), (275, 0.0), (276, 0.015097285692711062), (277, 0.043280160740857845), (278, 0.002896289905781822), (279, 0.017319924414334005), (280, 0.01776758303365026), (281, 0.0), (282, 0.06046216599520296), (283, 0.0074543667130862815), (284, 0.029126532126418178), (285, 0.009872656436205947), (286, 0.002884887759095117), (287, 0.016667296018882893), (288, 0.010143437746966848), (289, 0.004096951209035392), (290, 0.004185458375325828), (291, 0.01155714778618191), (292, 0.05334160610985483), (293, 0.0024006710274271743), (294, 0.004059648128604232), (295, 0.004165612609952358), (296, 0.01651574051053309), (297, 0.0), (298, 0.0), (299, 0.0), (300, 0.006503306230945066), (301, 0.007210438834710549), (302, 0.0), (303, 0.005512146171172557), (304, 0.011712364879963215), (305, 0.005030668534778388), (306, 0.004672917815340487), (307, 0.009566741113403459), (308, 0.0), (309, 0.008093770335149488), (310, 0.004840908716607892), (311, 0.007164825694240686), (312, 0.0), (313, 0.0123552267894712), (314, 0.004262537493416928), (315, 0.005082513338848587), (316, 0.004688769494867632), (317, 0.014854970524428985), (318, 0.0036250112189676613), (319, 0.0), (320, 0.005295193436296233), (321, 0.011452679697907177), (322, 0.011655031832387053), (323, 0.004551132380842873), (324, 0.003079740425576205), (325, 0.0031754804770943402), (326, 0.0), (327, 0.010650195279233977), (328, 0.04355087948464337), (329, 0.02138115809867528), (330, 0.021242198588742923), (331, 0.0), (332, 0.014100202145251966), (333, 0.011293839292437258), (334, 0.0339347701261996), (335, 0.0), (336, 0.004898779470293777), (337, 0.0), (338, 0.0), (339, 0.0), (340, 0.007326372177863346), (341, 0.012763881339438173), (342, 0.019323975177937408), (343, 0.016998208929760658), (344, 0.0), (345, 0.024948353638593393), (346, 0.010078601426336223), (347, 0.0050833378278208954), (348, 0.003332022443212166), (349, 0.0032634880954688166), (350, 0.009185158867023573), (351, 0.0025646468737283343), (352, 0.0), (353, 0.010268662977370004), (354, 0.010866182868191807), (355, 0.003101383055419599), (356, 0.014517199673522685), (357, 0.0028785687993959238), (358, 0.01642039919552467), (359, 0.0030802013234055717), (360, 0.04203955871231365), (361, 0.0), (362, 0.0), (363, 0.007427098188668905), (364, 0.018750017082365997), (365, 0.0), (366, 0.0), (367, 0.007328506959496074), (368, 0.009064580310258504), (369, 0.005846225766202846), (370, 0.015954563468143786), (371, 0.02921111732367956), (372, 0.00313592668972567), (373, 0.003172929966356068), (374, 0.01668730648852644), (375, 0.0049890405170781435), (376, 0.0), (377, 0.003438288775768876), (378, 0.0033717478469410724), (379, 0.0), (380, 0.0058078210236377015), (381, 0.025505995119359595), (382, 0.0), (383, 0.021471167887002506), (384, 0.05199669563126275), (385, 0.00841995998815767), (386, 0.007065814348695397), (387, 0.03223848561365769), (388, 0.003177302779932158), (389, 0.004979239387505058), (390, 0.0), (391, 0.0), (392, 0.0), (393, 0.0), (394, 0.0), (395, 0.0035925697966044602), (396, 0.010645359074229794), (397, 0.0046274472068197564), (398, 0.02423022404383733), (399, 0.0031070274845855445), (400, 0.003322217624678419), (401, 0.0), (402, 0.0), (403, 0.008638326059226691), (404, 0.0), (405, 0.0), (406, 0.0), (407, 0.013541463151029446), (408, 0.04417778483634111), (409, 0.016749162793515304), (410, 0.0031067077215060157), (411, 0.0), (412, 0.04566741865356107), (413, 0.007266825114964164), (414, 0.005132288439737325), (415, 0.0), (416, 0.003066169696221299), (417, 0.011866890726181231), (418, 0.013478473392950822), (419, 0.0), (420, 0.005485388996189593), (421, 0.02751616495622169), (422, 0.007187507666351081), (423, 0.0), (424, 0.061826637949077515), (425, 0.005744639187568279), (426, 0.004766578214389362), (427, 0.0), (428, 0.030910582231360385), (429, 0.016742619032783096), (430, 0.030709956923950853), (431, 0.0), (432, 0.002871490749313782), (433, 0.018052639765238805), (434, 0.010402155702198514), (435, 0.010372512751822096), (436, 0.009420082071178108), (437, 0.0), (438, 0.04314914872417265), (439, 0.0), (440, 0.0), (441, 0.008417811516888328), (442, 0.022249676604478), (443, 0.009758581239106744), (444, 0.003725213895634271), (445, 0.00872361928677088), (446, 0.009928264027029041), (447, 0.016651090525753223), (448, 0.0038539010874092117), (449, 0.009195280470380436), (450, 0.01761146615793186), (451, 0.00507860398327855), (452, 0.012881664060739964), (453, 0.0025774459116353495), (454, 0.0), (455, 0.04217174261289937), (456, 0.003535407978258373), (457, 0.0030763812186766696), (458, 0.017911855373718744), (459, 0.02642911766757472), (460, 0.005049209609452484), (461, 0.0), (462, 0.0), (463, 0.021234497997945707), (464, 0.010027259733678861), (465, 0.02946540743016978), (466, 0.0033118895369891113), (467, 0.00503406056323572), (468, 0.01111939369464143), (469, 0.004223688735755713), (470, 0.016168921520036857), (471, 0.0031429337801775294), (472, 0.01047346343023321), (473, 0.0), (474, 0.00804537159357806), (475, 0.0035876431895629658), (476, 0.0), (477, 0.005478483527568773), (478, 0.0), (479, 0.05274849527473978), (480, 0.0029699601742031964), (481, 0.01740681481176687), (482, 0.0), (483, 0.011624069045163062), (484, 0.0), (485, 0.011676002998492552), (486, 0.0), (487, 0.0), (488, 0.0), (489, 0.0), (490, 0.0033194521389866274), (491, 0.0), (492, 0.0), (493, 0.008941840312852424), (494, 0.007666679501625998), (495, 0.00293574960899136), (496, 0.01457442676857829), (497, 0.006823098340127917), (498, 0.0), (499, 0.003634002507766113), (500, 0.012395429695081825), (501, 0.011466211155211185), (502, 0.016817797849197832), (503, 0.007492154973193403), (504, 0.0033677391648528586), (505, 0.0), (506, 0.0), (507, 0.0031780147874951137), (508, 0.003809741956656306), (509, 0.008657816539074638), (510, 0.014913374374574769), (511, 0.01704701600132333), (512, 0.006018375566887244), (513, 0.005507552758210319), (514, 0.005525099384749518), (515, 0.0235923298792243), (516, 0.0), (517, 0.0), (518, 0.0), (519, 0.0509461865097736), (520, 0.0), (521, 0.0064908659457451915), (522, 0.02787676798687544), (523, 0.012429518803231992), (524, 0.0030709722650848056), (525, 0.0), (526, 0.0), (527, 0.013478280822943263), (528, 0.0), (529, 0.0), (530, 0.030263556606418933), (531, 0.0), (532, 0.011826543477210426), (533, 0.0), (534, 0.01588078253035058), (535, 0.0), (536, 0.0), (537, 0.013544716941936354), (538, 0.01130684621260917), (539, 0.007405220851075734), (540, 0.034366728443048444), (541, 0.0032638533581283314), (542, 0.0112778529378363), (543, 0.016735093895318087), (544, 0.011127266485748386), (545, 0.013421646918445652), (546, 0.0), (547, 0.03503396955515583), (548, 0.0), (549, 0.0), (550, 0.0055818594450798625), (551, 0.017467179328131015), (552, 0.0), (553, 0.019458851327040255), (554, 0.0), (555, 0.011261302758735884), (556, 0.0), (557, 0.0), (558, 0.010163771264412213), (559, 0.00455602678636934), (560, 0.01270349824213746), (561, 0.00506697801148739), (562, 0.006427778293190243), (563, 0.007609055133921901), (564, 0.0), (565, 0.0), (566, 0.02076882056298481), (567, 0.0), (568, 0.006322895094963208), (569, 0.0), (570, 0.0), (571, 0.0064992283955627745), (572, 0.0), (573, 0.0), (574, 0.0), (575, 0.0), (576, 0.0), (577, 0.0), (578, 0.03352267371489324), (579, 0.0033728033049884604), (580, 0.008801159804703005), (581, 0.007623390474940041), (582, 0.007963743572101813), (583, 0.006199562082635334), (584, 0.016630936941237955), (585, 0.0), (586, 0.015916342043190642), (587, 0.003655182061720922), (588, 0.0034872610642052437), (589, 0.0031153725603589467), (590, 0.06339649113460472), (591, 0.0), (592, 0.0), (593, 0.0), (594, 0.0030225769875847283), (595, 0.0), (596, 0.0), (597, 0.009164680343903529), (598, 0.0031457239312587676), (599, 0.0), (600, 0.007122870095287047), (601, 0.0), (602, 0.0), (603, 0.0), (604, 0.014719507016650615), (605, 0.002968217684925487), (606, 0.008718482653249284), (607, 0.002590958967280622), (608, 0.007635318120257029), (609, 0.013534743891723603), (610, 0.0), (611, 0.005410544646453907), (612, 0.0035946653638146515), (613, 0.022678329974407486), (614, 0.003835935605415583), (615, 0.04409401030033924), (616, 0.008469728655651973), (617, 0.007154716769759479), (618, 0.03126554146232058), (619, 0.005053966639960652), (620, 0.016373428245213668), (621, 0.010829951440420666), (622, 0.01701003607153983), (623, 0.0035639349819101994), (624, 0.00309681162641648), (625, 0.004366862736974103), (626, 0.0028655568620767446), (627, 0.0), (628, 0.08210066456199591), (629, 0.02975742007207806), (630, 0.0), (631, 0.010474687683174208), (632, 0.03903808411601434), (633, 0.004987610134129894), (634, 0.00499054692514084), (635, 0.01300883091953779), (636, 0.008519936300519029), (637, 0.04521891913294707), (638, 0.0173260042064094), (639, 0.004307887623152008), (640, 0.004267796882069472), (641, 0.024180203773415725), (642, 0.007268295846286265), (643, 0.022174184600985962), (644, 0.007919640845409453), (645, 0.0027751472190390455), (646, 0.0), (647, 0.00292737464381968), (648, 0.012685849539105721), (649, 0.0), (650, 0.0), (651, 0.009830437738094618), (652, 0.016354952121349728), (653, 0.013993140128167575), (654, 0.0134393178104565), (655, 0.0031436789375048333), (656, 0.0), (657, 0.025220518231362767), (658, 0.0), (659, 0.003141228869699572), (660, 0.008787418914328889), (661, 0.004729353878643255), (662, 0.0), (663, 0.0), (664, 0.012808935420658148), (665, 0.0), (666, 0.005712010360102816), (667, 0.0), (668, 0.01013085428878989), (669, 0.020997375267836866), (670, 0.02881649108763601), (671, 0.0070221610914984085), (672, 0.024423002336288455), (673, 0.04496408866366691), (674, 0.0), (675, 0.06318722872786424), (676, 0.015613494296549978), (677, 0.016768641759283727), (678, 0.013813933337876744), (679, 0.0), (680, 0.003587560587349206), (681, 0.0), (682, 0.04447112836779135), (683, 0.012259835791772776), (684, 0.013020454730816453), (685, 0.005211205869159977), (686, 0.0), (687, 0.0), (688, 0.009362244741915016), (689, 0.02014724569155779), (690, 0.004764538537643769), (691, 0.02291230895642457), (692, 0.016790789528196008), (693, 0.0), (694, 0.03657611819973393), (695, 0.011715961831822523), (696, 0.008462275119040269), (697, 0.010110510497737393), (698, 0.0031727053367145925), (699, 0.0), (700, 0.0), (701, 0.017928669544551735), (702, 0.0), (703, 0.0030038989723836984), (704, 0.0), (705, 0.009021411265061938), (706, 0.02428426306972399), (707, 0.0028074688881138004), (708, 0.0), (709, 0.0), (710, 0.03524505360359023), (711, 0.0), (712, 0.002943380764060967), (713, 0.0), (714, 0.0), (715, 0.011144048775056627), (716, 0.008877023438681016), (717, 0.003489156317756842), (718, 0.0), (719, 0.012198425210637954), (720, 0.0), (721, 0.0), (722, 0.0030167378365937737), (723, 0.004299674028280782), (724, 0.0), (725, 0.0), (726, 0.0), (727, 0.008328350912566573), (728, 0.00909649940834218), (729, 0.009395861540978856), (730, 0.0), (731, 0.0032243770057492184), (732, 0.013655497651675102), (733, 0.01393660270384529), (734, 0.009457372545435855), (735, 0.0), (736, 0.0), (737, 0.01136985749573325), (738, 0.00417706368092823), (739, 0.0038185090447387013), (740, 0.0022436738909146574), (741, 0.0), (742, 0.014351325010212804), (743, 0.008687050718998163), (744, 0.007836263135267287), (745, 0.007080851553819188), (746, 0.0), (747, 0.0), (748, 0.00720306669432303), (749, 0.003357895198058811), (750, 0.008604040739570482), (751, 0.0), (752, 0.007068952983555793), (753, 0.0), (754, 0.0), (755, 0.003253529732801083), (756, 0.004467029593333367), (757, 0.019616764875198662), (758, 0.006786364356330567), (759, 0.0030607867179033746), (760, 0.014383995660774876), (761, 0.0), (762, 0.01625232175068089), (763, 0.02072783344813544), (764, 0.0), (765, 0.005358889047762906), (766, 0.03157066596312923), (767, 0.0031852919004856815), (768, 0.018538324361926), (769, 0.008337798326086549), (770, 0.0), (771, 0.0), (772, 0.0), (773, 0.0), (774, 0.0369481416114831), (775, 0.014384900510575619), (776, 0.016760362585343747), (777, 0.0), (778, 0.006957417228955692), (779, 0.020048195317796762), (780, 0.0), (781, 0.0), (782, 0.009866851073219399), (783, 0.0), (784, 0.0), (785, 0.0), (786, 0.0), (787, 0.03128306145779291), (788, 0.040624043738778204), (789, 0.0), (790, 0.012283385761270022), (791, 0.0036059425405444118), (792, 0.011683663491249895), (793, 0.005275733940416759), (794, 0.018367253191746896), (795, 0.018007612108606935), (796, 0.018077691582434857), (797, 0.0), (798, 0.003204084969734308), (799, 0.015716522315392716), (800, 0.013609125146486085), (801, 0.01169152136769449), (802, 0.00556150777791556), (803, 0.004532794697037885), (804, 0.007591315803254098), (805, 0.003121807610637122), (806, 0.011341166691723165), (807, 0.0), (808, 0.019468602636889206), (809, 0.0122331881646227), (810, 0.004740527659164416), (811, 0.005141738484680945), (812, 0.032189752997273), (813, 0.0037571773601177503), (814, 0.01388407673750333), (815, 0.0029920318233193567), (816, 0.008963163901108547), (817, 0.009817244729076104), (818, 0.03472383228299413), (819, 0.0), (820, 0.0), (821, 0.006231160238979948), (822, 0.0), (823, 0.0), (824, 0.02471554726327453), (825, 0.01235670794886468), (826, 0.0), (827, 0.011937352291060275), (828, 0.010353804069916305), (829, 0.014803575225763489), (830, 0.03562495310246652), (831, 0.005965392838904394), (832, 0.026905855701060057), (833, 0.013587559456932404), (834, 0.006774825172753426), (835, 0.006456791982883005), (836, 0.027660962163615896), (837, 0.0), (838, 0.009370713999018643), (839, 0.0), (840, 0.0), (841, 0.0), (842, 0.015425729785816758), (843, 0.008360851096267167), (844, 0.01457982742063901), (845, 0.008843771911248613), (846, 0.0), (847, 0.011539145087030828), (848, 0.0033981585020606982), (849, 0.0050650813981242175), (850, 0.010341656617702682), (851, 0.009636472137901992), (852, 0.027222978926104834), (853, 0.017706679550115668), (854, 0.0032087611028546862), (855, 0.005770351304266245), (856, 0.0030036312340233112), (857, 0.0037142989299726245), (858, 0.019570613835994167), (859, 0.0), (860, 0.0), (861, 0.007294123625528266), (862, 0.0065256375404016895), (863, 0.007704007670748006), (864, 0.03336210319968806), (865, 0.0034445217074973093), (866, 0.014986404681165416), (867, 0.016692177267614242), (868, 0.00786788875578202), (869, 0.007825857675138008), (870, 0.022362379971396954), (871, 0.0034331572074586016), (872, 0.003576814313592202), (873, 0.04982060692535271), (874, 0.037343117950991545), (875, 0.013956851344854863), (876, 0.0), (877, 0.05019403365257691), (878, 0.015163831680102213), (879, 0.016813174621492687), (880, 0.00825624764302708), (881, 0.0), (882, 0.0), (883, 0.0032178055456886846), (884, 0.0035030809370087935), (885, 0.025916980178771486), (886, 0.0031171114326628995), (887, 0.0036577610177713363), (888, 0.017808822270551132), (889, 0.0), (890, 0.0035233767342922953), (891, 0.00534829538569888), (892, 0.0), (893, 0.0045775896915065195), (894, 0.010913641282300022), (895, 0.015769002598336242), (896, 0.017380498047414247), (897, 0.010237374586621887), (898, 0.004578086448489511), (899, 0.01564834092741655), (900, 0.014282928694477164), (901, 0.002792140457343324), (902, 0.005205771845951247), (903, 0.0), (904, 0.046332038971351464), (905, 0.014590610024282186), (906, 0.013629329797218221), (907, 0.003084191400331473), (908, 0.007697920041844574), (909, 0.0), (910, 0.007732981398376375), (911, 0.036739623885276546), (912, 0.0), (913, 0.0), (914, 0.0), (915, 0.012251232382294735), (916, 0.01802892453083093), (917, 0.0), (918, 0.013051599610565769), (919, 0.0051232723057327385), (920, 0.0), (921, 0.009480722102878973), (922, 0.0), (923, 0.008095440213019504), (924, 0.008891968931112632), (925, 0.0), (926, 0.0), (927, 0.0049969821412219366), (928, 0.013211124980469127), (929, 0.015480217438052588), (930, 0.008915224967326794), (931, 0.012750548901495174), (932, 0.00453692224020151), (933, 0.0), (934, 0.015390968040943682), (935, 0.03213590714206125), (936, 0.013753700168320369), (937, 0.0), (938, 0.0), (939, 0.010334988623658715), (940, 0.007185906674375465), (941, 0.0), (942, 0.025449500121747452), (943, 0.0), (944, 0.00313065019847117), (945, 0.0), (946, 0.0), (947, 0.0), (948, 0.009612208884711447), (949, 0.01203120688496108), (950, 0.0), (951, 0.0028369431176414888), (952, 0.03107671905511413), (953, 0.006744283023429465), (954, 0.0), (955, 0.0), (956, 0.0), (957, 0.01552069675909727), (958, 0.0061880524476424165), (959, 0.0032713293316060576), (960, 0.0), (961, 0.0), (962, 0.009569590811167287), (963, 0.014243540329830887), (964, 0.0), (965, 0.0), (966, 0.009648237406623196), (967, 0.026080591528945013), (968, 0.019949313698854446), (969, 0.0034260302248156397), (970, 0.010117846859519372), (971, 0.0), (972, 0.0), (973, 0.0033148144472038266), (974, 0.00479069032570434), (975, 0.003139777641715875), (976, 0.029483720663318704), (977, 0.0), (978, 0.0), (979, 0.010516826338601706), (980, 0.008739877272557787), (981, 0.007615785810885949), (982, 0.0), (983, 0.0), (984, 0.0031892656831436043), (985, 0.0038311382072450783), (986, 0.0), (987, 0.003484073665152855), (988, 0.015917568698717362), (989, 0.015791873090469727), (990, 0.0), (991, 0.009081957728310585), (992, 0.005392118635608791), (993, 0.0033389295926902983), (994, 0.011160623756435617), (995, 0.0), (996, 0.0), (997, 0.004558247766961742), (998, 0.0), (999, 0.0), (1000, 0.01446367023255319), (1001, 0.007996423151279453), (1002, 0.0031802830344107875), (1003, 0.020810340297017373), (1004, 0.0030005562714145013), (1005, 0.013646033906770888), (1006, 0.010563849513365748), (1007, 0.0035365364777890517), (1008, 0.0), (1009, 0.013452299706564946), (1010, 0.0), (1011, 0.0), (1012, 0.011827676687912719), (1013, 0.0), (1014, 0.00784067288138829), (1015, 0.024798639624400737), (1016, 0.0), (1017, 0.02230962900987477), (1018, 0.01717163016766722), (1019, 0.0), (1020, 0.0), (1021, 0.05980206504689929), (1022, 0.0), (1023, 0.04633147060125288), (1024, 0.03952068598222784), (1025, 0.0), (1026, 0.003286076531967687), (1027, 0.003224646704548115), (1028, 0.0), (1029, 0.0), (1030, 0.051719088735586324), (1031, 0.0), (1032, 0.0031847619372266105), (1033, 0.02270928809090176), (1034, 0.0032013719334384725), (1035, 0.01565869844749372), (1036, 0.003180053385925971), (1037, 0.008236716625334763), (1038, 0.0), (1039, 0.0), (1040, 0.0), (1041, 0.007968510135050247), (1042, 0.002834648704909133), (1043, 0.030988352723167356), (1044, 0.008143342663654827), (1045, 0.015648122657118523), (1046, 0.028601120714472072), (1047, 0.013328830139825774), (1048, 0.010532403173162256), (1049, 0.0), (1050, 0.009304914889561906), (1051, 0.0), (1052, 0.020061852231534307), (1053, 0.0), (1054, 0.011992669869822512), (1055, 0.0), (1056, 0.0), (1057, 0.025763008465341745), (1058, 0.015538337051921453), (1059, 0.028408406069282337), (1060, 0.027619485331754786), (1061, 0.011473094155001171), (1062, 0.0), (1063, 0.03526879528737007), (1064, 0.0), (1065, 0.0), (1066, 0.0), (1067, 0.0), (1068, 0.032036807409049614), (1069, 0.007607898744250459), (1070, 0.0), (1071, 0.008961150450478772), (1072, 0.0), (1073, 0.0), (1074, 0.019487824049557942), (1075, 0.0107177590242792), (1076, 0.00732712970492284), (1077, 0.0), (1078, 0.009199916471569595), (1079, 0.0031032135273808526), (1080, 0.0030097743299321287), (1081, 0.0), (1082, 0.004998701459267808), (1083, 0.0), (1084, 0.0032853302981843404), (1085, 0.036047421150730924), (1086, 0.0), (1087, 0.010327633897755262), (1088, 0.002882261218538896), (1089, 0.0), (1090, 0.01197101712751069), (1091, 0.0), (1092, 0.010638126848090707), (1093, 0.0), (1094, 0.00666727317170069), (1095, 0.028895802228661175), (1096, 0.009901770598585786), (1097, 0.0), (1098, 0.022394131283987994), (1099, 0.012482524672164381), (1100, 0.003291111034298195), (1101, 0.0), (1102, 0.051486396692071584), (1103, 0.0), (1104, 0.013236575503638041), (1105, 0.0), (1106, 0.0), (1107, 0.014963238574060431), (1108, 0.0), (1109, 0.003694308982561771), (1110, 0.003295767112799767), (1111, 0.006963372677812101), (1112, 0.018535866902230493), (1113, 0.0), (1114, 0.015633335985073934), (1115, 0.016314689004274865), (1116, 0.015218600907082843), (1117, 0.00322787243265554), (1118, 0.06121094777567532), (1119, 0.017068255658150924), (1120, 0.0043544587493206935), (1121, 0.0), (1122, 0.0034256358340308667), (1123, 0.008060603591098729), (1124, 0.010464052041709289), (1125, 0.007355364969586169), (1126, 0.0), (1127, 0.004991727614462873), (1128, 0.014053247950158734), (1129, 0.018774471797075126), (1130, 0.0), (1131, 0.0033524574425260485), (1132, 0.022526412123090114), (1133, 0.0), (1134, 0.06220382248382895), (1135, 0.0), (1136, 0.008952138838782688), (1137, 0.03012009075986963), (1138, 0.008554122112850778), (1139, 0.0), (1140, 0.009046104285125617), (1141, 0.024463315387806446), (1142, 0.0), (1143, 0.0), (1144, 0.008052667357794937), (1145, 0.0), (1146, 0.03465899397243697), (1147, 0.0), (1148, 0.0), (1149, 0.0), (1150, 0.005465251975448633), (1151, 0.0), (1152, 0.014217056307768972), (1153, 0.003578678684464303), (1154, 0.004526424509306878), (1155, 0.0), (1156, 0.0), (1157, 0.01243391437966466), (1158, 0.0), (1159, 0.0), (1160, 0.0), (1161, 0.0), (1162, 0.028760242681570607), (1163, 0.0033609090782127354), (1164, 0.0041330428232603895), (1165, 0.0), (1166, 0.0), (1167, 0.005495516957994539), (1168, 0.003997289309675235), (1169, 0.00389129036093386), (1170, 0.0033695235273045764), (1171, 0.0), (1172, 0.006815323855566544), (1173, 0.031254299239497414), (1174, 0.008627357377908769), (1175, 0.01880539059567194), (1176, 0.0034317813204792274), (1177, 0.007980648933111387), (1178, 0.0), (1179, 0.008370979453914773), (1180, 0.0), (1181, 0.027167878616666852), (1182, 0.0), (1183, 0.015020714573280244), (1184, 0.018220957841955703), (1185, 0.013376338745058607), (1186, 0.025150422898897663), (1187, 0.0), (1188, 0.008837183296057927), (1189, 0.0), (1190, 0.0), (1191, 0.008471615833112253), (1192, 0.01590333226565988), (1193, 0.0), (1194, 0.012663555523964138), (1195, 0.03333336196732801), (1196, 0.0), (1197, 0.004684248395216191), (1198, 0.0), (1199, 0.00296906552303365), (1200, 0.0), (1201, 0.0), (1202, 0.019995041295917296), (1203, 0.045227626731575946), (1204, 0.003405600789018213), (1205, 0.02689315599665929), (1206, 0.009541632669073055), (1207, 0.004844335886390848), (1208, 0.004235494569345835), (1209, 0.0027931771237518976), (1210, 0.0037091540173076116), (1211, 0.0048239996289310035), (1212, 0.0), (1213, 0.006666693793955068), (1214, 0.006426065640773941), (1215, 0.013096751011586607), (1216, 0.016899543566294653), (1217, 0.0029068813744840107), (1218, 0.0), (1219, 0.003013761025679274), (1220, 0.013841072064988072), (1221, 0.0), (1222, 0.0), (1223, 0.008489311940174157), (1224, 0.016665432866359686), (1225, 0.008855960298019501), (1226, 0.01934935813174576), (1227, 0.0), (1228, 0.0), (1229, 0.00874432864605327), (1230, 0.012275478346163493), (1231, 0.00729470275939581), (1232, 0.01604507649666689), (1233, 0.0), (1234, 0.011563950597560728), (1235, 0.0), (1236, 0.03466615521377068), (1237, 0.014628088973887201), (1238, 0.006740660188636788), (1239, 0.013502308204613062), (1240, 0.0), (1241, 0.03762034409407976), (1242, 0.0), (1243, 0.05563189623838444), (1244, 0.0), (1245, 0.018009673680942726), (1246, 0.0), (1247, 0.00325716276128455), (1248, 0.044804968175662034), (1249, 0.011865196564876118), (1250, 0.0069932535122700715), (1251, 0.0029823535590957125), (1252, 0.01590254111889527), (1253, 0.0), (1254, 0.017246819747471553), (1255, 0.014505436981553127), (1256, 0.0), (1257, 0.046719099749403005), (1258, 0.0), (1259, 0.01151069002602629), (1260, 0.008510118016426023), (1261, 0.04569289152717705), (1262, 0.0), (1263, 0.0), (1264, 0.0), (1265, 0.0), (1266, 0.012228424736293788), (1267, 0.006591559327807388), (1268, 0.0), (1269, 0.0), (1270, 0.021319523651621992), (1271, 0.0), (1272, 0.03499415974869356), (1273, 0.0031886034577324257), (1274, 0.01737130072872313), (1275, 0.018444886974446864), (1276, 0.009526137529538323), (1277, 0.002509552636630921), (1278, 0.015303965762983509), (1279, 0.010010088469065509), (1280, 0.0053372071461109455), (1281, 0.004655891501876045), (1282, 0.008211742045266751), (1283, 0.023825798308133528), (1284, 0.0032703154871074596), (1285, 0.0), (1286, 0.0032990175990098057), (1287, 0.0), (1288, 0.0), (1289, 0.0), (1290, 0.016430449741666058), (1291, 0.0), (1292, 0.04387658527680939), (1293, 0.013062629594358787), (1294, 0.0034729867693496968), (1295, 0.0), (1296, 0.0), (1297, 0.0), (1298, 0.0033415499191719275), (1299, 0.0), (1300, 0.010742058219668824), (1301, 0.002944829027856193), (1302, 0.04440095461393821), (1303, 0.013016794973714604), (1304, 0.0033540443553088783), (1305, 0.002780437690951113), (1306, 0.007450804829779551), (1307, 0.006386729886939072), (1308, 0.009349386774740766), (1309, 0.0043441396733188585), (1310, 0.012351265882260215), (1311, 0.03414885221417218), (1312, 0.008597584960543105), (1313, 0.0033166868107334887), (1314, 0.02754291367485181), (1315, 0.0), (1316, 0.006071923251139433), (1317, 0.014322950799436733), (1318, 0.003003125402538796), (1319, 0.003265265710031449), (1320, 0.03895690677596543), (1321, 0.0), (1322, 0.0), (1323, 0.0), (1324, 0.003570758607420762), (1325, 0.017347982829925165), (1326, 0.0), (1327, 0.0064889750727292915), (1328, 0.0), (1329, 0.0066967865374115655), (1330, 0.007423246754992902), (1331, 0.014013198750290858), (1332, 0.005632319505773707), (1333, 0.0), (1334, 0.011216274009739735), (1335, 0.016164507438342454), (1336, 0.0), (1337, 0.016367020910928974), (1338, 0.010818810212680788), (1339, 0.011605971324175788), (1340, 0.002866041641809237), (1341, 0.0765965650197033), (1342, 0.012783509553196864), (1343, 0.015037203067828162), (1344, 0.006160918460739993), (1345, 0.0067787786509158334), (1346, 0.0), (1347, 0.004898957326114957), (1348, 0.011097148520856545), (1349, 0.003769250413633976), (1350, 0.0), (1351, 0.0262325240678416), (1352, 0.0028708338747264355), (1353, 0.0), (1354, 0.0), (1355, 0.003455421002108039), (1356, 0.007155610878013531), (1357, 0.0031147477534511627), (1358, 0.043048950015454335), (1359, 0.010890542457831307), (1360, 0.01467649766808029), (1361, 0.015483038466038681), (1362, 0.0227794132334951), (1363, 0.02891379872600993), (1364, 0.0034652392540079316), (1365, 0.018325828242314966), (1366, 0.003036357047605472), (1367, 0.03323296232776666), (1368, 0.0), (1369, 0.04360501180242733), (1370, 0.002898139059321855), (1371, 0.0), (1372, 0.0031227907686526527), (1373, 0.0), (1374, 0.006830240472715386), (1375, 0.007991473174039986), (1376, 0.012964590283956735), (1377, 0.018300490152895234), (1378, 0.003369417594931279), (1379, 0.03373837557694733), (1380, 0.005348867403092227), (1381, 0.00579389420431164), (1382, 0.01051266268247613), (1383, 0.08533771667155277), (1384, 0.018030667823781956), (1385, 0.0227874326974522), (1386, 0.018639943821437303), (1387, 0.009966448870453233), (1388, 0.007687138901834436), (1389, 0.03357842204499142), (1390, 0.0), (1391, 0.0056575981301759), (1392, 0.0029712445124504107), (1393, 0.04183610238089261), (1394, 0.0029609384048878197), (1395, 0.004123433334486798), (1396, 0.012408524043788966), (1397, 0.0), (1398, 0.03164915606639454), (1399, 0.0), (1400, 0.008865913443542702), (1401, 0.014339002610215947), (1402, 0.00351428645458195), (1403, 0.018333445670616084), (1404, 0.0031752404025098837), (1405, 0.02817668662556221), (1406, 0.012413460780668864), (1407, 0.012503814299656347), (1408, 0.0032519925801849973), (1409, 0.003588931211199683), (1410, 0.003372853837777243), (1411, 0.0032874154788205628), (1412, 0.02511544392613198), (1413, 0.015437216264066876), (1414, 0.0075252339964386045), (1415, 0.0), (1416, 0.003196533100555581), (1417, 0.01785022476444182), (1418, 0.010507067134596799), (1419, 0.012826135600924313), (1420, 0.01188190762041622), (1421, 0.008057334486435011), (1422, 0.0032694372174851528), (1423, 0.0029914492633433248), (1424, 0.0), (1425, 0.006931160120666765), (1426, 0.005388374023690005), (1427, 0.0027747030433217597), (1428, 0.0048078234540410315), (1429, 0.0), (1430, 0.02828445128385489), (1431, 0.005171183581989123), (1432, 0.013245188552977214), (1433, 0.007818100393801807), (1434, 0.0), (1435, 0.005160977337941287), (1436, 0.013442262957296607), (1437, 0.0), (1438, 0.010904877221168927), (1439, 0.0034782284733554294), (1440, 0.011152466921656605), (1441, 0.0), (1442, 0.011664471111827673), (1443, 0.01933241579357356), (1444, 0.0), (1445, 0.015987625256558564), (1446, 0.009748835050693912), (1447, 0.0), (1448, 0.007759316034091946), (1449, 0.0), (1450, 0.002875385913405028), (1451, 0.004765831211715422), (1452, 0.005370085538867179), (1453, 0.005488639737796023), (1454, 0.009255063499719015), (1455, 0.012701836497396223), (1456, 0.0031193080048393215), (1457, 0.0), (1458, 0.004299826521672727), (1459, 0.0), (1460, 0.0), (1461, 0.01466876943487318), (1462, 0.007750476091080347), (1463, 0.0032269405994539016), (1464, 0.032776587359883605), (1465, 0.014776367202784909), (1466, 0.0), (1467, 0.0), (1468, 0.0), (1469, 0.005270901887105277), (1470, 0.0), (1471, 0.022012697966411646), (1472, 0.008494276043730162), (1473, 0.0), (1474, 0.0037386966430615785), (1475, 0.01054703734385569), (1476, 0.0033832957913752784), (1477, 0.009313202281451348), (1478, 0.015292768051157007), (1479, 0.003698674803591594), (1480, 0.004724383328737802), (1481, 0.015465640686853788), (1482, 0.0284102716386288), (1483, 0.015947090481268064), (1484, 0.008916113452030637), (1485, 0.0), (1486, 0.0074866032001830824), (1487, 0.0), (1488, 0.008360560248673442), (1489, 0.009367321634746864), (1490, 0.0), (1491, 0.0), (1492, 0.021798665615467047), (1493, 0.017942490571859284), (1494, 0.010488451133216002), (1495, 0.0), (1496, 0.0), (1497, 0.0), (1498, 0.009391804802881258), (1499, 0.0), (1500, 0.0279270538144079), (1501, 0.006787766964365046), (1502, 0.005380407107233745), (1503, 0.003050560297615784), (1504, 0.007497344911243569), (1505, 0.022235030255921474), (1506, 0.04396420271433917), (1507, 0.008636607709357447), (1508, 0.0), (1509, 0.015734107038206185), (1510, 0.02202798647576428), (1511, 0.0), (1512, 0.015414420753645809), (1513, 0.0), (1514, 0.009406097089722384), (1515, 0.022181805491342216), (1516, 0.003445160311473003), (1517, 0.0), (1518, 0.003622384725734383), (1519, 0.014127139296871937), (1520, 0.0), (1521, 0.0), (1522, 0.0), (1523, 0.015621223522081798), (1524, 0.0), (1525, 0.0), (1526, 0.006452448412028296), (1527, 0.040488053323491466), (1528, 0.0030518169916176874), (1529, 0.0), (1530, 0.024944823169547076), (1531, 0.005356679749970225), (1532, 0.0), (1533, 0.0034083214604668155), (1534, 0.0), (1535, 0.0), (1536, 0.00792688297299414), (1537, 0.009044182891472347), (1538, 0.009183243761238554), (1539, 0.009086632375876213), (1540, 0.008803618140631056), (1541, 0.0), (1542, 0.013071741985744848), (1543, 0.0031076016526580537), (1544, 0.024822074430687326), (1545, 0.0), (1546, 0.004394076605274075), (1547, 0.0), (1548, 0.0), (1549, 0.0), (1550, 0.0033193795765694405), (1551, 0.011707542309843277), (1552, 0.0064689896063583755), (1553, 0.008933143240090742), (1554, 0.00555343412113894), (1555, 0.00784486649712089), (1556, 0.0), (1557, 0.0), (1558, 0.003131502288402713), (1559, 0.004403843049624983), (1560, 0.0), (1561, 0.0), (1562, 0.00472994154812388), (1563, 0.0), (1564, 0.0), (1565, 0.0028526178979002594), (1566, 0.005078924704274251), (1567, 0.013157123066690963), (1568, 0.034103028396957766), (1569, 0.0), (1570, 0.0), (1571, 0.00847035076132951), (1572, 0.0270257775528749), (1573, 0.005041001949999588), (1574, 0.003400315381947965), (1575, 0.005373173638897564), (1576, 0.004077816886476857), (1577, 0.0), (1578, 0.0), (1579, 0.017215881700153594), (1580, 0.0036816144837979064), (1581, 0.0), (1582, 0.01050131437948382), (1583, 0.007400565671485708), (1584, 0.0), (1585, 0.02337232869561562), (1586, 0.0), (1587, 0.005158704671626593), (1588, 0.005303494645015702), (1589, 0.0), (1590, 0.004433524347272985), (1591, 0.0), (1592, 0.0), (1593, 0.0), (1594, 0.0037695230175998863), (1595, 0.014591313048807824), (1596, 0.0), (1597, 0.003217472721369646), (1598, 0.003290782648907399), (1599, 0.0), (1600, 0.0), (1601, 0.0), (1602, 0.0), (1603, 0.0), (1604, 0.0), (1605, 0.0030244146345542694), (1606, 0.0), (1607, 0.0), (1608, 0.007488782119968533), (1609, 0.016413782013585128), (1610, 0.0), (1611, 0.0), (1612, 0.010129935293979481), (1613, 0.0), (1614, 0.005390351094277571), (1615, 0.0), (1616, 0.0029765777066008527), (1617, 0.003256166750273789), (1618, 0.0), (1619, 0.010799345836266318), (1620, 0.010352291451816549), (1621, 0.01575295481685969), (1622, 0.005005417577065742), (1623, 0.004689021406059247), (1624, 0.002737196217520789), (1625, 0.003022694741863195), (1626, 0.0), (1627, 0.007100044083445956), (1628, 0.0), (1629, 0.023322960345599927), (1630, 0.01205908520498944), (1631, 0.004811627986207946), (1632, 0.00487200256820167), (1633, 0.004842879099053305), (1634, 0.028390899910692886), (1635, 0.0049921130236094445), (1636, 0.0), (1637, 0.003606749624541215), (1638, 0.0), (1639, 0.0), (1640, 0.0), (1641, 0.0031240783027122123), (1642, 0.003108957700640764), (1643, 0.008850914564398337), (1644, 0.006824252910086289), (1645, 0.003246083509380121), (1646, 0.0), (1647, 0.09420396650132257), (1648, 0.02978098982751496), (1649, 0.0), (1650, 0.009454256370832389), (1651, 0.0), (1652, 0.04241810085341914), (1653, 0.008213848138295024), (1654, 0.013015521668125437), (1655, 0.0), (1656, 0.0), (1657, 0.02175795766838527), (1658, 0.0), (1659, 0.005382414806367185), (1660, 0.003517971590695284), (1661, 0.0), (1662, 0.0111048936900307), (1663, 0.003145824118375038), (1664, 0.006471385561848233), (1665, 0.01497645026848558), (1666, 0.003321544443528331), (1667, 0.01482449200846575), (1668, 0.0), (1669, 0.0), (1670, 0.0), (1671, 0.022902482370674035), (1672, 0.0030754060548341747), (1673, 0.0), (1674, 0.0), (1675, 0.04338081998309056), (1676, 0.03675177582367422), (1677, 0.0026593046037641983), (1678, 0.02281445516575388), (1679, 0.0), (1680, 0.014617466165577617), (1681, 0.013934038373278883), (1682, 0.015847523637099833), (1683, 0.0), (1684, 0.0059835165731631276), (1685, 0.0), (1686, 0.0), (1687, 0.016975920065575988), (1688, 0.010394711131635785), (1689, 0.0), (1690, 0.009158840084896178), (1691, 0.0028440971295580616), (1692, 0.006801616132535384), (1693, 0.003137031084339195), (1694, 0.01129146441648652), (1695, 0.005500700408052561), (1696, 0.011649312048812423), (1697, 0.0), (1698, 0.0), (1699, 0.004417565695024054), (1700, 0.0), (1701, 0.009377122994278047), (1702, 0.033814485297360336), (1703, 0.003477102931741737), (1704, 0.0), (1705, 0.00816530913848031), (1706, 0.0033605497221245507), (1707, 0.023770638793830352), (1708, 0.0), (1709, 0.0), (1710, 0.00960107701892654), (1711, 0.0), (1712, 0.0), (1713, 0.0), (1714, 0.012418445082814112), (1715, 0.0060944859839233674), (1716, 0.01804926151755412), (1717, 0.0034576179286449267), (1718, 0.007096771859436999), (1719, 0.003028375482196359), (1720, 0.026883856144911542), (1721, 0.0268633367019026), (1722, 0.0033922062211686984), (1723, 0.011143089067222264), (1724, 0.005458726807848642), (1725, 0.0), (1726, 0.0), (1727, 0.011472351961701882), (1728, 0.0), (1729, 0.0), (1730, 0.009243336790322243), (1731, 0.0), (1732, 0.0), (1733, 0.0036750750019112484), (1734, 0.0), (1735, 0.007799147742041117), (1736, 0.011501543458872667), (1737, 0.0072342299314531846), (1738, 0.007207942556563854), (1739, 0.014419510561607951), (1740, 0.016446989389685862), (1741, 0.01533551872903662), (1742, 0.0031950705752726597), (1743, 0.00854949173732031), (1744, 0.003168361410379536), (1745, 0.0), (1746, 0.0063651015921102685), (1747, 0.007980357042335393), (1748, 0.0), (1749, 0.026956440782699244), (1750, 0.030091804168175515), (1751, 0.0), (1752, 0.03379511406215372), (1753, 0.004390837539540081), (1754, 0.012086765168034481), (1755, 0.0), (1756, 0.0), (1757, 0.023539760423371296), (1758, 0.0), (1759, 0.017422296545455813), (1760, 0.007780711769797157), (1761, 0.012159517584199137), (1762, 0.009100086526044288), (1763, 0.026099767016819916), (1764, 0.008748393429198845), (1765, 0.0034622757929141487), (1766, 0.0), (1767, 0.0), (1768, 0.0034318315348771953), (1769, 0.0), (1770, 0.0346174949264752), (1771, 0.0), (1772, 0.004417683142543738), (1773, 0.01172731038367809), (1774, 0.017390811531901154), (1775, 0.0), (1776, 0.009693474775956251), (1777, 0.0), (1778, 0.0), (1779, 0.016178146943285177), (1780, 0.0022084474564376374), (1781, 0.010746739513729085), (1782, 0.0030747606065498144), (1783, 0.0), (1784, 0.004605507794506124), (1785, 0.0), (1786, 0.0), (1787, 0.012972535675265129), (1788, 0.03038909260199671), (1789, 0.01165953811862486), (1790, 0.0), (1791, 0.005422947891093437), (1792, 0.0), (1793, 0.009510716128735452), (1794, 0.0), (1795, 0.02922222436874245), (1796, 0.014634866499985308), (1797, 0.00671847802083914), (1798, 0.010843909110829553), (1799, 0.0129352363108887), (1800, 0.0), (1801, 0.0028399700120672576), (1802, 0.01303495412880651), (1803, 0.0), (1804, 0.0), (1805, 0.003620452573133872), (1806, 0.008376321940275048), (1807, 0.00998361626366812), (1808, 0.0030154231751012895), (1809, 0.053613301439803925), (1810, 0.0), (1811, 0.008357676228732073), (1812, 0.012656563755654278), (1813, 0.0032703216230857857), (1814, 0.0030810079569653787), (1815, 0.014717987638234415), (1816, 0.006895695856020301), (1817, 0.02097913933499656), (1818, 0.006475989261094452), (1819, 0.007893111423262333), (1820, 0.0), (1821, 0.04440603331855582), (1822, 0.0), (1823, 0.0), (1824, 0.0), (1825, 0.0), (1826, 0.0), (1827, 0.0030349013315743587), (1828, 0.0028917686806610625), (1829, 0.005485305005564813), (1830, 0.002909157501675735), (1831, 0.0033012513903025475), (1832, 0.0), (1833, 0.008655699002048545), (1834, 0.0), (1835, 0.0), (1836, 0.0), (1837, 0.0322369829607819), (1838, 0.020138183502815973), (1839, 0.0), (1840, 0.0046090657391466205), (1841, 0.007087539364345441), (1842, 0.0), (1843, 0.0), (1844, 0.0), (1845, 0.028289949387375217), (1846, 0.004956908990122782), (1847, 0.026511379935315937), (1848, 0.0036214875554398326), (1849, 0.0067138175830612525), (1850, 0.0409983040502226), (1851, 0.003476082850000807), (1852, 0.01171106901059605), (1853, 0.0), (1854, 0.010428284603612333), (1855, 0.0), (1856, 0.0), (1857, 0.005019704462653834), (1858, 0.012319077805666294), (1859, 0.005344779386715833), (1860, 0.010472964733853988), (1861, 0.022061627450990176), (1862, 0.0), (1863, 0.005895362926733134), (1864, 0.014683194425002797), (1865, 0.02421952287755591), (1866, 0.00916660452513392), (1867, 0.0067282467760271854), (1868, 0.030121103236002464), (1869, 0.003048842447209556), (1870, 0.01216615839896959), (1871, 0.04150421127060545), (1872, 0.018974872187811978), (1873, 0.01187817305255362), (1874, 0.011773849761989124), (1875, 0.009411497693793416), (1876, 0.015317312935787518), (1877, 0.0032311953952321136), (1878, 0.04861139400358211), (1879, 0.0), (1880, 0.014899261385704706), (1881, 0.005277445155543024), (1882, 0.0032960486840823548), (1883, 0.0), (1884, 0.0031166547817374213), (1885, 0.0), (1886, 0.06590434465481541), (1887, 0.0037951400821568007), (1888, 0.0), (1889, 0.0), (1890, 0.0036827572260429773), (1891, 0.0033225380076665713), (1892, 0.0), (1893, 0.0035357562565431987), (1894, 0.0), (1895, 0.014320059675069633), (1896, 0.003553233909700351), (1897, 0.01654702040771593), (1898, 0.0), (1899, 0.0), (1900, 0.00985123711524154), (1901, 0.00517327315211037), (1902, 0.008868556004185034), (1903, 0.0063500082376524315), (1904, 0.0), (1905, 0.0), (1906, 0.015248674542061816), (1907, 0.003631143296352258), (1908, 0.006807654847502003), (1909, 0.0), (1910, 0.004275294903055469), (1911, 0.0070358471220890355), (1912, 0.0), (1913, 0.0067097097932169785), (1914, 0.0047845653984377136), (1915, 0.0), (1916, 0.003542633676486127), (1917, 0.0), (1918, 0.008883104381854787), (1919, 0.015165487417601976), (1920, 0.009391667113130855), (1921, 0.003004476201053177), (1922, 0.011061642766081686), (1923, 0.012055641745060637), (1924, 0.009591592593084172), (1925, 0.004408258243155402), (1926, 0.0), (1927, 0.020116985824897324), (1928, 0.0), (1929, 0.0032116467057198045), (1930, 0.005145042238886817), (1931, 0.00862587147521549), (1932, 0.0), (1933, 0.004934345830534985), (1934, 0.013436721758758912), (1935, 0.022626222461653786), (1936, 0.010335320007203172), (1937, 0.020016932804180067), (1938, 0.0), (1939, 0.0), (1940, 0.005864345218489701), (1941, 0.0), (1942, 0.023090764526385647), (1943, 0.002942245371392525), (1944, 0.0), (1945, 0.014519321198222048), (1946, 0.003465045590911859), (1947, 0.0), (1948, 0.00937913758197503), (1949, 0.013261790645956057), (1950, 0.008349742006968263), (1951, 0.010701151305013798), (1952, 0.0054416206855428225), (1953, 0.004939589535655276), (1954, 0.002969630500212192), (1955, 0.0), (1956, 0.0), (1957, 0.011513879209895364), (1958, 0.012963432348598886), (1959, 0.0036093108155933135), (1960, 0.0), (1961, 0.0), (1962, 0.005645170539986519), (1963, 0.0), (1964, 0.007588192246313503), (1965, 0.0), (1966, 0.0), (1967, 0.015531370036478876), (1968, 0.009879939324462319), (1969, 0.00323864299224838), (1970, 0.05412985630116679), (1971, 0.00932216244034122), (1972, 0.0), (1973, 0.03081943791532285), (1974, 0.0), (1975, 0.005351854729407074), (1976, 0.03245635278395793), (1977, 0.07961587620931053), (1978, 0.0), (1979, 0.0), (1980, 0.0030067705139688425), (1981, 0.00641979745693703), (1982, 0.07124044246586964), (1983, 0.016700371088071854), (1984, 0.0), (1985, 0.022980186470077962), (1986, 0.014274504977435362), (1987, 0.007040600014030203), (1988, 0.012907778657569546), (1989, 0.012941193712420066), (1990, 0.029363621231721357), (1991, 0.035962747716187154), (1992, 0.011885681994076781), (1993, 0.0048795939709357855), (1994, 0.08498629104509339), (1995, 0.0), (1996, 0.022232694570160166), (1997, 0.025434254029864267), (1998, 0.005146190560536242), (1999, 0.027065851984055905), (2000, 0.013542715970373133), (2001, 0.0), (2002, 0.0), (2003, 0.0), (2004, 0.0031566785608946224), (2005, 0.01231614818366842), (2006, 0.0), (2007, 0.0), (2008, 0.014891921098716215), (2009, 0.0), (2010, 0.0), (2011, 0.02571570073505429), (2012, 0.04306078210447855), (2013, 0.028592090333906313), (2014, 0.03023020780966681), (2015, 0.0053476474876550245), (2016, 0.011427767886380143), (2017, 0.0), (2018, 0.03893562923363367), (2019, 0.0), (2020, 0.026223109042287147), (2021, 0.0), (2022, 0.005365366910132861), (2023, 0.031977018112808106), (2024, 0.015467513738314256), (2025, 0.0), (2026, 0.05330264626112982), (2027, 0.016425192779314354), (2028, 0.0), (2029, 0.010679667085959594), (2030, 0.0), (2031, 0.007632984000112074), (2032, 0.0), (2033, 0.0), (2034, 0.0027973837095892256), (2035, 0.01839309612019703), (2036, 0.0), (2037, 0.03240573752251649), (2038, 0.0), (2039, 0.0028435423167188383), (2040, 0.025208124538659723), (2041, 0.0), (2042, 0.0), (2043, 0.0), (2044, 0.0053836769011522964), (2045, 0.015542020563691989), (2046, 0.0), (2047, 0.002980244597875309), (2048, 0.0), (2049, 0.0), (2050, 0.0), (2051, 0.0), (2052, 0.0), (2053, 0.01658179910316427), (2054, 0.0), (2055, 0.02221747738324103), (2056, 0.00656701314360483), (2057, 0.012348184419588924), (2058, 0.006125079195345053), (2059, 0.0), (2060, 0.003330144765909921), (2061, 0.008521542968291043), (2062, 0.011538743391128536), (2063, 0.0), (2064, 0.005032636929880134), (2065, 0.00986969947283905), (2066, 0.014196406297523109), (2067, 0.0033735507724678387), (2068, 0.0031512073243565196), (2069, 0.008312202046931623), (2070, 0.019587167645802622), (2071, 0.0), (2072, 0.0034653429147266227), (2073, 0.003415467573156232), (2074, 0.010469212972506702), (2075, 0.0), (2076, 0.009274541673655665), (2077, 0.0), (2078, 0.004043587411630375), (2079, 0.0), (2080, 0.0), (2081, 0.0), (2082, 0.034009079674626325), (2083, 0.0034879396221413894), (2084, 0.005503081903223336), (2085, 0.0), (2086, 0.0), (2087, 0.0), (2088, 0.008848269189826985), (2089, 0.0), (2090, 0.0), (2091, 0.008527903076334876), (2092, 0.0), (2093, 0.018696808684766), (2094, 0.025563130597934566), (2095, 0.006597990937405928), (2096, 0.02432361775495821), (2097, 0.011865254091370231), (2098, 0.005784288299460618), (2099, 0.003148625882244082), (2100, 0.031238569660142327), (2101, 0.007459890253487317), (2102, 0.02955193076944164), (2103, 0.009920688409998877), (2104, 0.009022589004681432), (2105, 0.0035703601735783807), (2106, 0.0), (2107, 0.0), (2108, 0.0), (2109, 0.035569461727546964), (2110, 0.017998566752288326), (2111, 0.0032751967619501538), (2112, 0.06429244080556178), (2113, 0.00535186033622022), (2114, 0.030036118287953526), (2115, 0.0), (2116, 0.0), (2117, 0.0032253853239472517), (2118, 0.0), (2119, 0.018040758072972986), (2120, 0.0), (2121, 0.014523683741466481), (2122, 0.034061590876161035), (2123, 0.034894596158327226), (2124, 0.0), (2125, 0.0), (2126, 0.011275797491587263), (2127, 0.0027993308546564646), (2128, 0.0), (2129, 0.0031044134401485585), (2130, 0.005152558374493238), (2131, 0.003218094908744367), (2132, 0.0028048936105619596), (2133, 0.04948699679786373), (2134, 0.0), (2135, 0.0), (2136, 0.005507499913451413), (2137, 0.0), (2138, 0.0), (2139, 0.0048270457269343455), (2140, 0.0), (2141, 0.003208527513465323), (2142, 0.0), (2143, 0.00973508523816189), (2144, 0.010214053505236938), (2145, 0.012015867774030414), (2146, 0.0), (2147, 0.03249901586596133), (2148, 0.0034973787954746963), (2149, 0.01733148642536965), (2150, 0.0), (2151, 0.0451644162447877), (2152, 0.0), (2153, 0.0), (2154, 0.0), (2155, 0.04125059073000484), (2156, 0.006095150274537235), (2157, 0.02392974818477759), (2158, 0.008890157670561984), (2159, 0.0), (2160, 0.006425478430255909), (2161, 0.016280278477420206), (2162, 0.01175459769516372), (2163, 0.0029633789936457863), (2164, 0.0), (2165, 0.0), (2166, 0.0031738084124313644), (2167, 0.017383977794305394), (2168, 0.0), (2169, 0.003381566616250822), (2170, 0.0), (2171, 0.0), (2172, 0.0), (2173, 0.0), (2174, 0.022742944309018173), (2175, 0.006288981014538355), (2176, 0.0), (2177, 0.013204880598953998), (2178, 0.012394198767623616), (2179, 0.0), (2180, 0.0), (2181, 0.005764942300342098), (2182, 0.0), (2183, 0.0), (2184, 0.0072078372413060835), (2185, 0.006073167413826491), (2186, 0.0), (2187, 0.03876832458508755), (2188, 0.0), (2189, 0.0), (2190, 0.0036047371090620313), (2191, 0.05144642674629977), (2192, 0.0033891203578848813), (2193, 0.010345245463851654), (2194, 0.0), (2195, 0.0033541632574802718), (2196, 0.01701042938634657), (2197, 0.010044467332580846), (2198, 0.030962451769075167), (2199, 0.0), (2200, 0.0), (2201, 0.0031232737362819492), (2202, 0.006426676040639335), (2203, 0.006203312026421321), (2204, 0.0), (2205, 0.006349249168713258), (2206, 0.012220090472990766), (2207, 0.016728583360504687), (2208, 0.005340771556182831), (2209, 0.0), (2210, 0.024094290140012804), (2211, 0.00853149923666941), (2212, 0.03809449456188599), (2213, 0.00300392749328266), (2214, 0.050606396522557454), (2215, 0.0), (2216, 0.01575009990577406), (2217, 0.0), (2218, 0.0), (2219, 0.0), (2220, 0.0), (2221, 0.02921923008961102), (2222, 0.0), (2223, 0.0), (2224, 0.015262969168144288), (2225, 0.0), (2226, 0.003285406083665383), (2227, 0.0), (2228, 0.0), (2229, 0.0), (2230, 0.003433889455463185), (2231, 0.0), (2232, 0.00497242717540917), (2233, 0.0), (2234, 0.0), (2235, 0.0), (2236, 0.009182658780839695), (2237, 0.018993862324587347), (2238, 0.0), (2239, 0.006614850542148017), (2240, 0.0029346551681970214), (2241, 0.0), (2242, 0.003205673812382107), (2243, 0.0), (2244, 0.007402943694559995), (2245, 0.004860033019522193), (2246, 0.005066009213797824), (2247, 0.0), (2248, 0.0), (2249, 0.0), (2250, 0.010948899155927982), (2251, 0.0), (2252, 0.013680804193434655), (2253, 0.0), (2254, 0.017146696532330044), (2255, 0.0), (2256, 0.0), (2257, 0.0), (2258, 0.01662748283557821), (2259, 0.0), (2260, 0.0), (2261, 0.0), (2262, 0.0), (2263, 0.0), (2264, 0.009763672346346423), (2265, 0.009139305058784896), (2266, 0.0), (2267, 0.0), (2268, 0.003227085445891787), (2269, 0.0), (2270, 0.00291458498901594), (2271, 0.0), (2272, 0.0), (2273, 0.0), (2274, 0.0), (2275, 0.0), (2276, 0.027767205307804417), (2277, 0.010286676538316015), (2278, 0.00516543353312366), (2279, 0.0), (2280, 0.01260751781547872), (2281, 0.0), (2282, 0.0), (2283, 0.005404699354968445), (2284, 0.01614973149195373), (2285, 0.009155363680144687), (2286, 0.0), (2287, 0.0027916685010055515), (2288, 0.0), (2289, 0.0), (2290, 0.015560514111096945), (2291, 0.005836367589192031), (2292, 0.003427159353405849), (2293, 0.0036307030067996514), (2294, 0.04942236517585988), (2295, 0.0), (2296, 0.0), (2297, 0.0), (2298, 0.015010904821586755), (2299, 0.0), (2300, 0.0), (2301, 0.021737305385437198), (2302, 0.0), (2303, 0.00954636739792932), (2304, 0.008498179011275312), (2305, 0.0), (2306, 0.0), (2307, 0.0), (2308, 0.0), (2309, 0.009764575197681268), (2310, 0.0), (2311, 0.0), (2312, 0.0), (2313, 0.0033724797335286986), (2314, 0.0), (2315, 0.0), (2316, 0.03683391821102614), (2317, 0.003106388097684824), (2318, 0.06170728471681888), (2319, 0.003490029985304747), (2320, 0.0038884018565764965), (2321, 0.04253282339203861), (2322, 0.0), (2323, 0.003019376750470316), (2324, 0.0), (2325, 0.0), (2326, 0.0040126364118031905), (2327, 0.0), (2328, 0.0), (2329, 0.0), (2330, 0.005363323139207283), (2331, 0.0), (2332, 0.0), (2333, 0.0), (2334, 0.016564092584834073), (2335, 0.0068056766832764355), (2336, 0.01261806717048998), (2337, 0.0), (2338, 0.0030479116314638325), (2339, 0.007749126296334249), (2340, 0.0033682068368314534), (2341, 0.0), (2342, 0.0), (2343, 0.0), (2344, 0.0), (2345, 0.0), (2346, 0.0), (2347, 0.01708199192651861), (2348, 0.007894336660331272), (2349, 0.0), (2350, 0.0), (2351, 0.0), (2352, 0.0), (2353, 0.0), (2354, 0.0033623870397563455), (2355, 0.007050869072585097), (2356, 0.0), (2357, 0.0), (2358, 0.0), (2359, 0.0028024023197712592), (2360, 0.0), (2361, 0.0), (2362, 0.01961401439691526), (2363, 0.0), (2364, 0.0), (2365, 0.0), (2366, 0.01362607030314129), (2367, 0.003200217581580922), (2368, 0.0), (2369, 0.0), (2370, 0.0035113003099211436), (2371, 0.035142235345369754), (2372, 0.0), (2373, 0.0), (2374, 0.04811324558324261), (2375, 0.036752231222391324), (2376, 0.01601869443668364), (2377, 0.0), (2378, 0.0), (2379, 0.0), (2380, 0.0), (2381, 0.0), (2382, 0.002896579369201086), (2383, 0.0), (2384, 0.0), (2385, 0.0035034196676507396), (2386, 0.0), (2387, 0.003363319484351806), (2388, 0.0), (2389, 0.0), (2390, 0.0), (2391, 0.0035648767311253805), (2392, 0.0), (2393, 0.003570479920112173), (2394, 0.0), (2395, 0.0), (2396, 0.0033515844528974057), (2397, 0.0033910562358868885), (2398, 0.0), (2399, 0.003047036444746687), (2400, 0.0), (2401, 0.003284746550629828), (2402, 0.0030430766349984263), (2403, 0.0), (2404, 0.0), (2405, 0.0034649999221868103), (2406, 0.018695564676745546), (2407, 0.0), (2408, 0.025167267999176193), (2409, 0.0), (2410, 0.003691826600634762), (2411, 0.0), (2412, 0.013942172676865356), (2413, 0.03192768908786238), (2414, 0.0), (2415, 0.0), (2416, 0.0033041695104038837), (2417, 0.0), (2418, 0.010638485884180744), (2419, 0.0035229144416925214), (2420, 0.0), (2421, 0.012028624910310754), (2422, 0.0032881856675709936), (2423, 0.0), (2424, 0.006924914675373582), (2425, 0.0), (2426, 0.005999809219380953), (2427, 0.009698760035485612), (2428, 0.009287770247919222), (2429, 0.0118020008349968), (2430, 0.003374640794317363), (2431, 0.0), (2432, 0.0048662909476712354), (2433, 0.0), (2434, 0.003987544904501088), (2435, 0.0), (2436, 0.011359607519292252), (2437, 0.0), (2438, 0.0), (2439, 0.00561051042938706), (2440, 0.021959875453385413), (2441, 0.0027144414503697282), (2442, 0.004699616488974241), (2443, 0.031124909510694868), (2444, 0.0), (2445, 0.0), (2446, 0.003129019838619194), (2447, 0.01378333148805708), (2448, 0.004395868737359025), (2449, 0.0), (2450, 0.0), (2451, 0.0), (2452, 0.0), (2453, 0.0030849674371180424), (2454, 0.0), (2455, 0.0), (2456, 0.0), (2457, 0.0030360074399757644), (2458, 0.0), (2459, 0.010184382051833571), (2460, 0.013293567028168406), (2461, 0.0032459608636003436), (2462, 0.0), (2463, 0.010038258881467017), (2464, 0.0), (2465, 0.0), (2466, 0.0), (2467, 0.027449602933270024), (2468, 0.0), (2469, 0.01996416184546807), (2470, 0.0), (2471, 0.0), (2472, 0.0), (2473, 0.009677290745083746), (2474, 0.012999006903986596), (2475, 0.0), (2476, 0.0), (2477, 0.009098613664604661), (2478, 0.0), (2479, 0.0), (2480, 0.011672456474412143), (2481, 0.029360367848361074), (2482, 0.003034727227362019), (2483, 0.0), (2484, 0.0), (2485, 0.0), (2486, 0.014391705739118781), (2487, 0.03009984427735676), (2488, 0.0), (2489, 0.011204757062646599), (2490, 0.0), (2491, 0.0), (2492, 0.0), (2493, 0.0), (2494, 0.0), (2495, 0.003337953404600192), (2496, 0.00792713452723335), (2497, 0.0), (2498, 0.0), (2499, 0.0), (2500, 0.0), (2501, 0.02050791241898068), (2502, 0.0029717848698597883), (2503, 0.006772213728604281), (2504, 0.0), (2505, 0.0), (2506, 0.005115527079770715), (2507, 0.0), (2508, 0.0), (2509, 0.0027485656651054964), (2510, 0.007759224089652161), (2511, 0.0), (2512, 0.010887418084521051), (2513, 0.0188384780940817), (2514, 0.0), (2515, 0.0), (2516, 0.0), (2517, 0.03204084737093091), (2518, 0.0), (2519, 0.007901998012555153), (2520, 0.002931168860112983), (2521, 0.0), (2522, 0.017183339820437734), (2523, 0.0), (2524, 0.02125896300854812), (2525, 0.0031397979134620345), (2526, 0.002739804482290703), (2527, 0.0028877584572930726), (2528, 0.0031158216794028417), (2529, 0.0), (2530, 0.04564770228921245), (2531, 0.0), (2532, 0.0), (2533, 0.0033363373857915814), (2534, 0.001504277418455226), (2535, 0.0), (2536, 0.0), (2537, 0.0), (2538, 0.06788630890280603), (2539, 0.0), (2540, 0.03778065739489065), (2541, 0.00431563411356573), (2542, 0.0), (2543, 0.0), (2544, 0.0), (2545, 0.0), (2546, 0.011375504600078686), (2547, 0.0), (2548, 0.0), (2549, 0.0), (2550, 0.0), (2551, 0.0), (2552, 0.0031417858838789572), (2553, 0.018113083092344398), (2554, 0.00338745238354381), (2555, 0.013423960986429529), (2556, 0.0), (2557, 0.0), (2558, 0.08174341092349155), (2559, 0.0), (2560, 0.0), (2561, 0.0), (2562, 0.0), (2563, 0.008378991098220831), (2564, 0.0), (2565, 0.010769483426786302), (2566, 0.0), (2567, 0.0), (2568, 0.0), (2569, 0.0), (2570, 0.003890224622330772), (2571, 0.0032478898077458935), (2572, 0.009623620958153743), (2573, 0.004164218574871432), (2574, 0.0), (2575, 0.0), (2576, 0.0), (2577, 0.0), (2578, 0.0), (2579, 0.0), (2580, 0.0075238872756223365), (2581, 0.0), (2582, 0.020734259888397208), (2583, 0.0), (2584, 0.0), (2585, 0.003685286542509575), (2586, 0.0), (2587, 0.009043656148093418), (2588, 0.0), (2589, 0.0), (2590, 0.0), (2591, 0.0), (2592, 0.003705415704028781), (2593, 0.0030906857778686255), (2594, 0.0), (2595, 0.0036322342242225943), (2596, 0.0), (2597, 0.0), (2598, 0.022433941637947676), (2599, 0.0), (2600, 0.0), (2601, 0.010604010776068129), (2602, 0.013351922945362197), (2603, 0.008559682359510068), (2604, 0.0), (2605, 0.0), (2606, 0.008493002604559024), (2607, 0.020490378987182745), (2608, 0.0), (2609, 0.0035815057345078795), (2610, 0.0035560879857414337), (2611, 0.002889089681393818), (2612, 0.0032409665510211), (2613, 0.0), (2614, 0.0328246495521767), (2615, 0.0), (2616, 0.0), (2617, 0.014170071661494196), (2618, 0.0), (2619, 0.0040138743010773685), (2620, 0.0), (2621, 0.03310249075704616), (2622, 0.03752611508357059), (2623, 0.0), (2624, 0.003670525397661493), (2625, 0.012622496388218754), (2626, 0.005571197567456557), (2627, 0.0), (2628, 0.0), (2629, 0.003820300149513473), (2630, 0.0), (2631, 0.0), (2632, 0.014887012769984725), (2633, 0.0), (2634, 0.003163359568156988), (2635, 0.0), (2636, 0.002541229771502112), (2637, 0.0), (2638, 0.0), (2639, 0.015044167536536878), (2640, 0.010618283979193986), (2641, 0.0), (2642, 0.0032461451561108697), (2643, 0.0), (2644, 0.014509888101667992), (2645, 0.0), (2646, 0.021806362883201032), (2647, 0.02400141375871991), (2648, 0.0), (2649, 0.0), (2650, 0.01934416057602694), (2651, 0.0031743143481724415), (2652, 0.0), (2653, 0.047578072324789944), (2654, 0.016711069526039575), (2655, 0.0), (2656, 0.0), (2657, 0.0), (2658, 0.0), (2659, 0.0), (2660, 0.004493108724806249), (2661, 0.0), (2662, 0.0), (2663, 0.0), (2664, 0.0), (2665, 0.005601047216033759), (2666, 0.0), (2667, 0.0), (2668, 0.023515033687692366), (2669, 0.0), (2670, 0.0), (2671, 0.0), (2672, 0.0), (2673, 0.0), (2674, 0.0), (2675, 0.0), (2676, 0.0), (2677, 0.0), (2678, 0.0), (2679, 0.0031870836802403166), (2680, 0.011400794752188161), (2681, 0.0), (2682, 0.004744389652324102), (2683, 0.005710779723283196), (2684, 0.0), (2685, 0.0), (2686, 0.0), (2687, 0.028180126931983778), (2688, 0.01172251499305029), (2689, 0.02485793531103011), (2690, 0.0), (2691, 0.007049782461756984), (2692, 1.0000000000000002), (2693, 0.0), (2694, 0.0), (2695, 0.016079702620233137), (2696, 0.003858406085899771), (2697, 0.013057396228334147), (2698, 0.009825788844998252), (2699, 0.023740686707670267), (2700, 0.0), (2701, 0.0), (2702, 0.0), (2703, 0.0), (2704, 0.0), (2705, 0.0), (2706, 0.03255594153961655), (2707, 0.0), (2708, 0.0), (2709, 0.0), (2710, 0.030179187905230286), (2711, 0.004835438525471591), (2712, 0.0), (2713, 0.025039635445935474), (2714, 0.008957775260852698), (2715, 0.0), (2716, 0.037504125614194396), (2717, 0.0), (2718, 0.023698714731337337), (2719, 0.0), (2720, 0.003912535369227957), (2721, 0.0029276003347219813), (2722, 0.0), (2723, 0.03087563021986425), (2724, 0.007506672921339757), (2725, 0.0036221226914521193), (2726, 0.006988186562327794), (2727, 0.0), (2728, 0.003072583647452849), (2729, 0.0), (2730, 0.0), (2731, 0.0), (2732, 0.006899835761333141), (2733, 0.0), (2734, 0.0), (2735, 0.0), (2736, 0.019445493928587583), (2737, 0.0), (2738, 0.003911184066420547), (2739, 0.012088863540971814), (2740, 0.011374212720439023), (2741, 0.003066142951695661), (2742, 0.018153159987527277), (2743, 0.0), (2744, 0.010432797586622782), (2745, 0.0443644131864996), (2746, 0.003421165816652575), (2747, 0.002902832591407182), (2748, 0.0), (2749, 0.0), (2750, 0.0), (2751, 0.0), (2752, 0.010441105662108567), (2753, 0.002961566692912437), (2754, 0.0), (2755, 0.0035718548038169372), (2756, 0.0), (2757, 0.0), (2758, 0.0028251446702721368), (2759, 0.0), (2760, 0.021116546133908478), (2761, 0.026238982851781126), (2762, 0.02583895870702624), (2763, 0.0), (2764, 0.0), (2765, 0.0031984526402591496), (2766, 0.0026538746363453597), (2767, 0.021304286296195164), (2768, 0.0), (2769, 0.011913565292130451), (2770, 0.0), (2771, 0.013636747194558273), (2772, 0.0), (2773, 0.0), (2774, 0.005477237302974374), (2775, 0.0), (2776, 0.0), (2777, 0.023639316122859005), (2778, 0.0), (2779, 0.003206370422738767), (2780, 0.013261287878193386), (2781, 0.0), (2782, 0.031928390679817356), (2783, 0.003373527792362901), (2784, 0.016465448536432975), (2785, 0.0), (2786, 0.0), (2787, 0.0048703025151634926), (2788, 0.012979764147440016), (2789, 0.009873597614086712), (2790, 0.0053294618220517094), (2791, 0.02813981536096717), (2792, 0.0035537521139847417), (2793, 0.0), (2794, 0.0), (2795, 0.020096018529154082), (2796, 0.0), (2797, 0.0), (2798, 0.01034702578027059), (2799, 0.0), (2800, 0.0031656065509242117), (2801, 0.004349241091185926), (2802, 0.02808798492307684), (2803, 0.01388359355553219), (2804, 0.0), (2805, 0.01321234288536874), (2806, 0.0), (2807, 0.0), (2808, 0.02213437123855744), (2809, 0.007063672791521178), (2810, 0.0), (2811, 0.0), (2812, 0.00955259717014785), (2813, 0.0), (2814, 0.0), (2815, 0.015273044492461049), (2816, 0.006988766961596558), (2817, 0.0), (2818, 0.0), (2819, 0.005380430636613597), (2820, 0.01037619124813387), (2821, 0.0035905914784153973), (2822, 0.02191024708685692), (2823, 0.01725584387403392), (2824, 0.0), (2825, 0.007483150896356833), (2826, 0.0033864479308662646), (2827, 0.0), (2828, 0.0), (2829, 0.0), (2830, 0.0037556066661050607), (2831, 0.0), (2832, 0.0), (2833, 0.006801071665129143), (2834, 0.0), (2835, 0.0), (2836, 0.0), (2837, 0.0), (2838, 0.0), (2839, 0.0), (2840, 0.0), (2841, 0.01993514469528808), (2842, 0.0), (2843, 0.0), (2844, 0.008388329158511792), (2845, 0.0030848362841689406), (2846, 0.0), (2847, 0.005030884314172019), (2848, 0.0), (2849, 0.0), (2850, 0.0), (2851, 0.0), (2852, 0.0), (2853, 0.0033395100580028655), (2854, 0.0), (2855, 0.0), (2856, 0.0), (2857, 0.004096948964967086), (2858, 0.0), (2859, 0.03905904315605439), (2860, 0.0), (2861, 0.0), (2862, 0.0031392533458596186), (2863, 0.0034757522639908204), (2864, 0.0), (2865, 0.0), (2866, 0.0), (2867, 0.01941645753552691), (2868, 0.038051039225965075), (2869, 0.03935347389991554), (2870, 0.0), (2871, 0.01120888606542764), (2872, 0.0), (2873, 0.0), (2874, 0.01332870742207597), (2875, 0.0), (2876, 0.02833290198871911), (2877, 0.0), (2878, 0.003532890428361236), (2879, 0.0), (2880, 0.0), (2881, 0.0), (2882, 0.0036109573216494203), (2883, 0.0), (2884, 0.003864316847560915), (2885, 0.0), (2886, 0.0), (2887, 0.0), (2888, 0.0), (2889, 0.0), (2890, 0.0), (2891, 0.0), (2892, 0.0), (2893, 0.0), (2894, 0.0034402003533524615), (2895, 0.0), (2896, 0.0), (2897, 0.0072690905596032845), (2898, 0.0), (2899, 0.007913004117944726), (2900, 0.0), (2901, 0.0), (2902, 0.0024636788827221297), (2903, 0.10023663860400708), (2904, 0.0034689397568612125), (2905, 0.0), (2906, 0.0), (2907, 0.0031218246171073015), (2908, 0.036942396581510065), (2909, 0.003273362123836759), (2910, 0.015532159053094042), (2911, 0.0034773760462735418), (2912, 0.027905548757757262), (2913, 0.01246354481221681), (2914, 0.0), (2915, 0.0), (2916, 0.0), (2917, 0.017402841174191212), (2918, 0.012324379834096053), (2919, 0.01650738960645342), (2920, 0.02793115210404294), (2921, 0.0), (2922, 0.0), (2923, 0.0), (2924, 0.003896644889694956), (2925, 0.012950503377269277), (2926, 0.0), (2927, 0.0), (2928, 0.0), (2929, 0.01066366246506201), (2930, 0.0), (2931, 0.01585706269017214), (2932, 0.0), (2933, 0.008649817882087418), (2934, 0.0), (2935, 0.005981759311026059), (2936, 0.0), (2937, 0.0), (2938, 0.0), (2939, 0.0), (2940, 0.0035968755355527304), (2941, 0.0), (2942, 0.008862143959991773), (2943, 0.0), (2944, 0.05318020777963821), (2945, 0.0032680378274149912), (2946, 0.0), (2947, 0.005235802384059866), (2948, 0.0), (2949, 0.00905851214348513), (2950, 0.024040134797655946), (2951, 0.0), (2952, 0.0), (2953, 0.0035424161470267728), (2954, 0.0030707853783379486), (2955, 0.0), (2956, 0.0), (2957, 0.0), (2958, 0.0), (2959, 0.0053705110143161035), (2960, 0.005160924551046424), (2961, 0.0), (2962, 0.007300964370744261), (2963, 0.013601011323190674), (2964, 0.01075601943148866), (2965, 0.003182136409444673), (2966, 0.0), (2967, 0.0), (2968, 0.0), (2969, 0.014157030895863301), (2970, 0.0), (2971, 0.0477641698357783), (2972, 0.027123480333492867), (2973, 0.0), (2974, 0.0), (2975, 0.008972505968115075), (2976, 0.002978960579507584), (2977, 0.010329915095879591), (2978, 0.013759741001934313), (2979, 0.0), (2980, 0.009983518510999833), (2981, 0.03601338846943701), (2982, 0.0), (2983, 0.0), (2984, 0.0046590156799055735), (2985, 0.05683174551768792), (2986, 0.0), (2987, 0.0), (2988, 0.015598265353228873), (2989, 0.0), (2990, 0.0), (2991, 0.0), (2992, 0.011122372412669057), (2993, 0.0), (2994, 0.0076908189762618295), (2995, 0.020556603903773753), (2996, 0.017534801530902405), (2997, 0.0), (2998, 0.0), (2999, 0.0), (3000, 0.019069908500979813), (3001, 0.0), (3002, 0.0), (3003, 0.0037086922133090193), (3004, 0.0), (3005, 0.005144142565838397), (3006, 0.0), (3007, 0.0), (3008, 0.0), (3009, 0.0), (3010, 0.05079265082487949), (3011, 0.004915010043009315), (3012, 0.0), (3013, 0.0037523014473899866), (3014, 0.00317112731685805), (3015, 0.0), (3016, 0.0), (3017, 0.0), (3018, 0.0), (3019, 0.0), (3020, 0.0), (3021, 0.0), (3022, 0.0058874559742315875), (3023, 0.04643209059465005), (3024, 0.002749429630223749), (3025, 0.0), (3026, 0.0), (3027, 0.0030275926016397527), (3028, 0.027724092948389463), (3029, 0.0), (3030, 0.0), (3031, 0.0), (3032, 0.0), (3033, 0.006820817678630758), (3034, 0.0), (3035, 0.0), (3036, 0.01773012934211105), (3037, 0.0), (3038, 0.0), (3039, 0.007738531620186105), (3040, 0.0), (3041, 0.0), (3042, 0.0), (3043, 0.018139953725395994), (3044, 0.0), (3045, 0.036012167097758827), (3046, 0.009882417362485263), (3047, 0.0), (3048, 0.0), (3049, 0.0), (3050, 0.0), (3051, 0.0), (3052, 0.0), (3053, 0.07551730820541247), (3054, 0.0), (3055, 0.0), (3056, 0.0027840067430133096), (3057, 0.0031406277214296144), (3058, 0.0), (3059, 0.0), (3060, 0.0), (3061, 0.0), (3062, 0.0), (3063, 0.0), (3064, 0.0), (3065, 0.0), (3066, 0.006657951507414893), (3067, 0.009590774341391764), (3068, 0.02249271121992902), (3069, 0.003247035818380939), (3070, 0.011238396964774685), (3071, 0.00311644924955959), (3072, 0.0), (3073, 0.0), (3074, 0.0), (3075, 0.003242910436350942), (3076, 0.014255724415923144), (3077, 0.0), (3078, 0.0), (3079, 0.0), (3080, 0.0), (3081, 0.0), (3082, 0.0), (3083, 0.02227751254641777), (3084, 0.0), (3085, 0.01872890969344923), (3086, 0.0173943008576986), (3087, 0.0), (3088, 0.0), (3089, 0.0), (3090, 0.0), (3091, 0.04552761028913391), (3092, 0.0), (3093, 0.0), (3094, 0.0), (3095, 0.024467045889106517), (3096, 0.008863510908680759), (3097, 0.02049913147412008), (3098, 0.016482764803132047), (3099, 0.011291142929420166), (3100, 0.004763756772397282), (3101, 0.0036957997025493976), (3102, 0.03425706182249601), (3103, 0.0), (3104, 0.0), (3105, 0.0), (3106, 0.0), (3107, 0.0), (3108, 0.013712505333397493), (3109, 0.0), (3110, 0.01416250625743366), (3111, 0.01924621103763316), (3112, 0.0), (3113, 0.0), (3114, 0.0062986988931687145), (3115, 0.0), (3116, 0.0), (3117, 0.0057981751896557816), (3118, 0.011855167089646266), (3119, 0.0), (3120, 0.010136243493549442), (3121, 0.0), (3122, 0.00808888062984964), (3123, 0.0), (3124, 0.005245027994524037), (3125, 0.008405437334988147), (3126, 0.004861325745639591), (3127, 0.03690440302035476), (3128, 0.0), (3129, 0.017582066411412092), (3130, 0.0), (3131, 0.0053715642952359), (3132, 0.0), (3133, 0.004783418044555583), (3134, 0.005319658374649367), (3135, 0.004781437511634633), (3136, 0.004735338659167176), (3137, 0.03431967283359238), (3138, 0.0), (3139, 0.0), (3140, 0.004198615018632278), (3141, 0.0), (3142, 0.0), (3143, 0.004747976909746449), (3144, 0.01855064369925237), (3145, 0.0), (3146, 0.0), (3147, 0.0031149791005137414), (3148, 0.0), (3149, 0.007360099857421982), (3150, 0.003511428139313786), (3151, 0.009589723731589039), (3152, 0.008005692477098756), (3153, 0.024559192074105767), (3154, 0.02890296146157772), (3155, 0.011084263730440913), (3156, 0.028171066324258687), (3157, 0.03148968126736347), (3158, 0.005657855239625482), (3159, 0.004156181702630929), (3160, 0.004455016400450705), (3161, 0.0050154666402138495), (3162, 0.0), (3163, 0.005514237705286988), (3164, 0.005793434266750939), (3165, 0.0), (3166, 0.0), (3167, 0.027351952170167042), (3168, 0.005728052096795692), (3169, 0.0), (3170, 0.0), (3171, 0.0), (3172, 0.0), (3173, 0.003311958731000111), (3174, 0.028753676211246998), (3175, 0.0), (3176, 0.0), (3177, 0.0), (3178, 0.0), (3179, 0.005228365576638773), (3180, 0.005670572364635061), (3181, 0.0), (3182, 0.0034349039033234638), (3183, 0.003651491587304073), (3184, 0.0035687912049719448), (3185, 0.0), (3186, 0.0038021952972806705), (3187, 0.0035317692417041343), (3188, 0.0), (3189, 0.0), (3190, 0.0), (3191, 0.005215175549646316), (3192, 0.008338597685793847), (3193, 0.0), (3194, 0.003158924647324445), (3195, 0.008316475365404976), (3196, 0.009426001305102747), (3197, 0.0), (3198, 0.0034412598951124684), (3199, 0.0026119997253802696), (3200, 0.0028610156746575873), (3201, 0.0), (3202, 0.0), (3203, 0.0), (3204, 0.0), (3205, 0.005084279756456559), (3206, 0.004046461041281967), (3207, 0.0), (3208, 0.0), (3209, 0.040282900174695074), (3210, 0.016165092106226277), (3211, 0.0029349516152627026), (3212, 0.0), (3213, 0.01706411753357518), (3214, 0.0031847766825555566), (3215, 0.010031122544974791), (3216, 0.0033400028101339503), (3217, 0.0), (3218, 0.010729778873945252), (3219, 0.0043731523786042234), (3220, 0.0032912361281503166), (3221, 0.0), (3222, 0.02099704303863732), (3223, 0.0), (3224, 0.0), (3225, 0.003465900443599385), (3226, 0.018629188598516033), (3227, 0.0), (3228, 0.0), (3229, 0.0), (3230, 0.0038582843329819463), (3231, 0.0), (3232, 0.011124711522356848), (3233, 0.008670370258587802), (3234, 0.0), (3235, 0.0), (3236, 0.0), (3237, 0.010000039984424516), (3238, 0.002892466631611041), (3239, 0.0), (3240, 0.013109424990844578), (3241, 0.003473913555740371), (3242, 0.0035220393727134233), (3243, 0.0031456794853556625), (3244, 0.006246693475953228), (3245, 0.0), (3246, 0.009704616349803316), (3247, 0.004588395639573687), (3248, 0.0), (3249, 0.0), (3250, 0.0), (3251, 0.0), (3252, 0.002805275455024217), (3253, 0.0), (3254, 0.02225999961187932), (3255, 0.0), (3256, 0.0), (3257, 0.0), (3258, 0.0), (3259, 0.008047082271769819), (3260, 0.028162381195819115), (3261, 0.0), (3262, 0.0), (3263, 0.0), (3264, 0.010745275210256275), (3265, 0.007011901978510181), (3266, 0.0), (3267, 0.010031222470990777), (3268, 0.0), (3269, 0.0036243395922729215), (3270, 0.0), (3271, 0.00361393485098038), (3272, 0.0), (3273, 0.0037443845584297524), (3274, 0.0), (3275, 0.0), (3276, 0.0), (3277, 0.0), (3278, 0.0030706756615017897), (3279, 0.017549156335381306), (3280, 0.036340627613517196), (3281, 0.0), (3282, 0.00430390239759537), (3283, 0.0033898178365873327), (3284, 0.0), (3285, 0.025811809569512643), (3286, 0.0), (3287, 0.0), (3288, 0.006627368909857252), (3289, 0.0034491730387652244), (3290, 0.0034532036150716422), (3291, 0.0), (3292, 0.0), (3293, 0.0), (3294, 0.04535303891303763), (3295, 0.014023284429744244), (3296, 0.0), (3297, 0.011592757818477292), (3298, 0.00325696767426788), (3299, 0.01681048714245683), (3300, 0.003176909670995186), (3301, 0.0), (3302, 0.004110242096333521), (3303, 0.008580032414966805), (3304, 0.0030620804581991666), (3305, 0.0), (3306, 0.016983809049261528), (3307, 0.0), (3308, 0.003942952351051507), (3309, 0.0), (3310, 0.0), (3311, 0.003037231856848047), (3312, 0.0), (3313, 0.029005811620304415), (3314, 0.003559291011041308), (3315, 0.03430060933275857), (3316, 0.0), (3317, 0.013131346326596368), (3318, 0.01460886279811241), (3319, 0.022481818646428488), (3320, 0.0), (3321, 0.0), (3322, 0.0), (3323, 0.0), (3324, 0.0), (3325, 0.0), (3326, 0.03024400940061508), (3327, 0.003036354865884205), (3328, 0.03091470121310445), (3329, 0.009309910732902072), (3330, 0.03530726291643152), (3331, 0.007043169338225481), (3332, 0.0), (3333, 0.0), (3334, 0.0588903253212906), (3335, 0.00337649350932326), (3336, 0.0030216864241309617), (3337, 0.0), (3338, 0.004756143635305318), (3339, 0.004382008077141919), (3340, 0.0), (3341, 0.0033843388000701032), (3342, 0.007832020944161086), (3343, 0.0), (3344, 0.028454600523865343), (3345, 0.0), (3346, 0.0101061878892288), (3347, 0.002809722605395998), (3348, 0.003228842286997626), (3349, 0.0), (3350, 0.0), (3351, 0.035351096040999896), (3352, 0.02069793928945812), (3353, 0.0), (3354, 0.0), (3355, 0.0), (3356, 0.013831145515600865), (3357, 0.004134630350371195), (3358, 0.0), (3359, 0.0), (3360, 0.052275269304507016), (3361, 0.004805731159829983), (3362, 0.0388422222154841), (3363, 0.0), (3364, 0.0), (3365, 0.0023756948972693762), (3366, 0.0), (3367, 0.005078681007349859), (3368, 0.0), (3369, 0.003087360101502029), (3370, 0.015610479705162775), (3371, 0.0), (3372, 0.0), (3373, 0.04055308981360917), (3374, 0.047678095418292044), (3375, 0.014829684664526112), (3376, 0.031285031158928694), (3377, 0.0), (3378, 0.0), (3379, 0.0032925369574994395), (3380, 0.002991084072779542), (3381, 0.0033118775683038688), (3382, 0.011538839679048956), (3383, 0.0), (3384, 0.022816721494548838), (3385, 0.05963329571301179), (3386, 0.010356991812687889), (3387, 0.013113697733167583), (3388, 0.003510182175002465), (3389, 0.009348323507896404), (3390, 0.0031892963243520833), (3391, 0.0), (3392, 0.0022426315494257403), (3393, 0.0028978349213234075), (3394, 0.0), (3395, 0.04872181018043124), (3396, 0.0), (3397, 0.0), (3398, 0.005214446975697893), (3399, 0.009535472950057196), (3400, 0.0), (3401, 0.0), (3402, 0.0032415988074686406), (3403, 0.020912347887184067), (3404, 0.005144200913188807), (3405, 0.004294403065338544), (3406, 0.003525659720120745), (3407, 0.016614838842926596), (3408, 0.04437594090374688), (3409, 0.03922391169908085), (3410, 0.008224638523380024), (3411, 0.0), (3412, 0.0032573185643362786), (3413, 0.0), (3414, 0.0037468825396265457), (3415, 0.0), (3416, 0.019510710489165015), (3417, 0.0), (3418, 0.009949155063757226), (3419, 0.0), (3420, 0.0), (3421, 0.014990165468067645), (3422, 0.0), (3423, 0.0), (3424, 0.0), (3425, 0.0038220542829385503), (3426, 0.011120993407061724), (3427, 0.04379126640933394), (3428, 0.0), (3429, 0.0033902454355801445), (3430, 0.035023824956141494), (3431, 0.0), (3432, 0.005015703130032336), (3433, 0.022399290103765304), (3434, 0.0), (3435, 0.008375743131141073), (3436, 0.008482951850512116), (3437, 0.016742386014118815), (3438, 0.005462040636762239), (3439, 0.0), (3440, 0.005846186148974873), (3441, 0.0), (3442, 0.0), (3443, 0.0050088262218589774), (3444, 0.0), (3445, 0.0034461272787969692), (3446, 0.023939545171121554), (3447, 0.027662661967598083), (3448, 0.006169001878898796), (3449, 0.003597481268545316), (3450, 0.06488883045618868), (3451, 0.0054405539453348944), (3452, 0.007904188971371826), (3453, 0.008380260596473935), (3454, 0.0), (3455, 0.0), (3456, 0.008174470194302726), (3457, 0.007273669612071088), (3458, 0.006984920644143251), (3459, 0.0), (3460, 0.007787081399104152), (3461, 0.0), (3462, 0.05923981837714444), (3463, 0.06061232672662257), (3464, 0.008033541206111185), (3465, 0.07650828344536541), (3466, 0.03366716420073901), (3467, 0.0), (3468, 0.00548178845972937), (3469, 0.020439761046349345), (3470, 0.035864846666108084), (3471, 0.021303882475684644), (3472, 0.0), (3473, 0.0), (3474, 0.007733992456247358), (3475, 0.0), (3476, 0.0), (3477, 0.003291103051896836), (3478, 0.0033683804745030673), (3479, 0.0), (3480, 0.06711425775029933), (3481, 0.0), (3482, 0.0), (3483, 0.024234810401348117), (3484, 0.004238600923554256), (3485, 0.0), (3486, 0.037245189209273784), (3487, 0.008108326681594611), (3488, 0.0), (3489, 0.0), (3490, 0.0), (3491, 0.003349985337111737), (3492, 0.02165895172237486), (3493, 0.003535828537953902), (3494, 0.0), (3495, 0.004542646044960151), (3496, 0.0035943889798426658), (3497, 0.003626804723446866), (3498, 0.0372205658420635), (3499, 0.008306957549841358), (3500, 0.0031102647408678416), (3501, 0.0), (3502, 0.0), (3503, 0.003231041644288816), (3504, 0.021988985427511636), (3505, 0.0), (3506, 0.0038617854464779847), (3507, 0.0131789677578723), (3508, 0.020962577354982626), (3509, 0.005906212780028205), (3510, 0.0), (3511, 0.03780007507007146), (3512, 0.0), (3513, 0.0), (3514, 0.008813362726473681), (3515, 0.0), (3516, 0.00907907294289447), (3517, 0.003441145136024421), (3518, 0.04414301306990983), (3519, 0.0), (3520, 0.005142157437343688), (3521, 0.0), (3522, 0.0), (3523, 0.0), (3524, 0.011889387411704016), (3525, 0.0), (3526, 0.003477557822377454), (3527, 0.0), (3528, 0.016840106577459497), (3529, 0.0), (3530, 0.0), (3531, 0.007406848280096524), (3532, 0.0), (3533, 0.0), (3534, 0.0055498815864051055), (3535, 0.0), (3536, 0.01049409109691563), (3537, 0.004164942927757491), (3538, 0.0026786313817679327), (3539, 0.0), (3540, 0.0), (3541, 0.01693888315778459), (3542, 0.0), (3543, 0.0), (3544, 0.0), (3545, 0.0), (3546, 0.0024948884214230664), (3547, 0.0), (3548, 0.0027410651795016817), (3549, 0.0), (3550, 0.0), (3551, 0.0034078378976083517), (3552, 0.0), (3553, 0.0), (3554, 0.0), (3555, 0.004914801938657607), (3556, 0.03484989742645901), (3557, 0.0032817037631523997), (3558, 0.015577991873804438), (3559, 0.04558945491630417), (3560, 0.0037482851222645215), (3561, 0.004478867561565747), (3562, 0.0), (3563, 0.003065366269332681), (3564, 0.003370014341675494), (3565, 0.003339452466445916), (3566, 0.006451362561577593), (3567, 0.0), (3568, 0.0), (3569, 0.002896064602886001), (3570, 0.007592966130201116), (3571, 0.008612768450508512), (3572, 0.029954130060812614), (3573, 0.0), (3574, 0.02739960268456302), (3575, 0.002695221007165155), (3576, 0.0), (3577, 0.0), (3578, 0.0), (3579, 0.0), (3580, 0.01494133216002564), (3581, 0.0), (3582, 0.012243685265976594), (3583, 0.004939787807752228), (3584, 0.005450494508268333), (3585, 0.0), (3586, 0.008236893691796046), (3587, 0.0037808574516971553), (3588, 0.0), (3589, 0.0), (3590, 0.0), (3591, 0.0), (3592, 0.0), (3593, 0.003737157544699523), (3594, 0.0), (3595, 0.0), (3596, 0.010047091613450212), (3597, 0.03114068710889289), (3598, 0.006043904958796171), (3599, 0.010526791480640669), (3600, 0.0), (3601, 0.0), (3602, 0.004977787902914155), (3603, 0.0), (3604, 0.005566897934098344), (3605, 0.029007723747430388), (3606, 0.0033862352810440696), (3607, 0.0), (3608, 0.002221101475925196), (3609, 0.0), (3610, 0.0), (3611, 0.0037929832896229343), (3612, 0.01094299363039707), (3613, 0.0), (3614, 0.0030310312806482794), (3615, 0.0), (3616, 0.0), (3617, 0.0), (3618, 0.008840222568910636), (3619, 0.004463162325562455), (3620, 0.0), (3621, 0.0), (3622, 0.0), (3623, 0.00866586078183404), (3624, 0.00830454069344993), (3625, 0.0), (3626, 0.002539096069943456), (3627, 0.0), (3628, 0.0), (3629, 0.0), (3630, 0.013256763270373846), (3631, 0.0), (3632, 0.006898549869803103), (3633, 0.0), (3634, 0.008605121843017994), (3635, 0.0), (3636, 0.0), (3637, 0.014133168358552783), (3638, 0.0), (3639, 0.0037823938772331193), (3640, 0.017784768901210314), (3641, 0.003240723450725341), (3642, 0.01731514889072721), (3643, 0.010295049976474813), (3644, 0.0), (3645, 0.0082347869356487), (3646, 0.0031615643341556476), (3647, 0.0033012754325138912), (3648, 0.007032156489808556), (3649, 0.0), (3650, 0.0), (3651, 0.0), (3652, 0.0), (3653, 0.008534832588127811), (3654, 0.0035470338162797124), (3655, 0.051533802491023156), (3656, 0.03431197614494293), (3657, 0.002862330317988773), (3658, 0.0064046142085868165), (3659, 0.01380195328535214), (3660, 0.015423988633206591), (3661, 0.0), (3662, 0.0), (3663, 0.0), (3664, 0.004871546613580696), (3665, 0.021590265265071854), (3666, 0.008753701255627674), (3667, 0.010427509911607553), (3668, 0.0028735984941647367), (3669, 0.0028525837199956127), (3670, 0.01620193686334959), (3671, 0.0), (3672, 0.0), (3673, 0.0033561961127937597), (3674, 0.010796287555113436), (3675, 0.0), (3676, 0.0), (3677, 0.0036935047234820657), (3678, 0.003553616889386679), (3679, 0.0), (3680, 0.0), (3681, 0.0), (3682, 0.0), (3683, 0.0), (3684, 0.0269579800289238), (3685, 0.0), (3686, 0.0), (3687, 0.0), (3688, 0.028025816589670856), (3689, 0.01056545229795028), (3690, 0.0), (3691, 0.0031922564473179657), (3692, 0.025514195937403568), (3693, 0.0), (3694, 0.017296518221579734), (3695, 0.0), (3696, 0.008152867726599917), (3697, 0.0), (3698, 0.0), (3699, 0.01630530571785036), (3700, 0.0), (3701, 0.02931111857710724), (3702, 0.0), (3703, 0.0), (3704, 0.0), (3705, 0.007656313553095888), (3706, 0.0032824227334791057), (3707, 0.0), (3708, 0.0), (3709, 0.0), (3710, 0.005411982339372476), (3711, 0.0258760146269369), (3712, 0.0), (3713, 0.016417442527671314), (3714, 0.0), (3715, 0.0), (3716, 0.0), (3717, 0.0), (3718, 0.0), (3719, 0.0), (3720, 0.031022938950289472), (3721, 0.0), (3722, 0.0), (3723, 0.004800376353631762), (3724, 0.0), (3725, 0.003111229052273664), (3726, 0.0), (3727, 0.0), (3728, 0.05865377227403336), (3729, 0.0), (3730, 0.0), (3731, 0.03534072772435533), (3732, 0.0), (3733, 0.009685210397424747), (3734, 0.007975353792417277), (3735, 0.0), (3736, 0.0), (3737, 0.0037295445571806645), (3738, 0.0), (3739, 0.003399072601733443), (3740, 0.0), (3741, 0.014715983105463378), (3742, 0.0030705582138241235), (3743, 0.0), (3744, 0.0), (3745, 0.0), (3746, 0.024977577565755818), (3747, 0.012520440284779066), (3748, 0.0), (3749, 0.0), (3750, 0.01234909873048225), (3751, 0.02924716702341275), (3752, 0.005792065457488486), (3753, 0.04455051206435645), (3754, 0.0), (3755, 0.0), (3756, 0.013103143527338545), (3757, 0.0036104766475599796), (3758, 0.0), (3759, 0.0), (3760, 0.0), (3761, 0.0), (3762, 0.0), (3763, 0.003938340106425999), (3764, 0.0), (3765, 0.003253320378242235), (3766, 0.0), (3767, 0.031054881281052646), (3768, 0.0), (3769, 0.005290952554864484), (3770, 0.0035271649682227365), (3771, 0.009086564736783088), (3772, 0.0038178916524733452), (3773, 0.02486503972819114), (3774, 0.005443771583424688), (3775, 0.01170987716232082), (3776, 0.004364759095399037), (3777, 0.01696918961219559), (3778, 0.022284014083948155), (3779, 0.0), (3780, 0.008912060822269488), (3781, 0.0), (3782, 0.005429900141255227), (3783, 0.0), (3784, 0.009741606004409797), (3785, 0.0), (3786, 0.0), (3787, 0.0055631501650805415), (3788, 0.0047590507054450166), (3789, 0.0), (3790, 0.0), (3791, 0.0), (3792, 0.003409455174241986), (3793, 0.046532403246699605), (3794, 0.012093596375128853), (3795, 0.0030093053624841333), (3796, 0.0), (3797, 0.01685188164475151), (3798, 0.0), (3799, 0.0), (3800, 0.0), (3801, 0.026684400916526282), (3802, 0.0), (3803, 0.0), (3804, 0.0), (3805, 0.0), (3806, 0.004329881792104378), (3807, 0.016077513133159683), (3808, 0.0), (3809, 0.0), (3810, 0.0), (3811, 0.0031732781959132993), (3812, 0.0), (3813, 0.0), (3814, 0.029987205369855535), (3815, 0.005184338800610734), (3816, 0.0), (3817, 0.0), (3818, 0.0), (3819, 0.015201432098068773), (3820, 0.0), (3821, 0.008548365035315895), (3822, 0.011384420378039111), (3823, 0.004758147000723984), (3824, 0.004790959981878689), (3825, 0.006159054828896768), (3826, 0.009772015264988672), (3827, 0.0), (3828, 0.0), (3829, 0.009421497319253753), (3830, 0.0), (3831, 0.0), (3832, 0.0), (3833, 0.0051491302698107935), (3834, 0.0), (3835, 0.024447940023379192), (3836, 0.0), (3837, 0.0), (3838, 0.0), (3839, 0.02341456366102128), (3840, 0.0), (3841, 0.007587207423533769), (3842, 0.0069623293986803055), (3843, 0.0), (3844, 0.0), (3845, 0.0035209200424313127), (3846, 0.0), (3847, 0.0), (3848, 0.0), (3849, 0.013079215687804307), (3850, 0.03253461874836033), (3851, 0.0), (3852, 0.027873418001758993), (3853, 0.01915239675125539), (3854, 0.06185131738704314), (3855, 0.0028474570802353516), (3856, 0.0), (3857, 0.02078645294781004), (3858, 0.0), (3859, 0.0), (3860, 0.011524340836177187), (3861, 0.013561073256580463), (3862, 0.016798979259125317), (3863, 0.003027767396491295), (3864, 0.006393897836429207), (3865, 0.0060856225732958515), (3866, 0.0038690428889766857), (3867, 0.04066565426606677), (3868, 0.02627665869017669), (3869, 0.0), (3870, 0.0), (3871, 0.028103167693144675), (3872, 0.0245838873522394), (3873, 0.003608576288553271), (3874, 0.0), (3875, 0.019405340608400684), (3876, 0.007763215381710106), (3877, 0.003732570115965935), (3878, 0.004411417517000342), (3879, 0.0), (3880, 0.031139128330342058), (3881, 0.004773840897810589), (3882, 0.0035429459044519092), (3883, 0.0), (3884, 0.0), (3885, 0.0), (3886, 0.004887608704136195), (3887, 0.0), (3888, 0.010872517292749115), (3889, 0.0036586542217727264), (3890, 0.003236242289966074), (3891, 0.0), (3892, 0.0), (3893, 0.00362202891325904), (3894, 0.0029521599006797727), (3895, 0.01624242188889721), (3896, 0.0), (3897, 0.00534153196659438), (3898, 0.0), (3899, 0.0), (3900, 0.0), (3901, 0.010148696287917869), (3902, 0.0), (3903, 0.011584305263393902), (3904, 0.0), (3905, 0.008093748749069719), (3906, 0.003318513263472907), (3907, 0.005254030574725933), (3908, 0.005119224589511237), (3909, 0.006357578512534317), (3910, 0.007324911026778418), (3911, 0.0), (3912, 0.0), (3913, 0.025099939111501116), (3914, 0.0), (3915, 0.0036568245760442413), (3916, 0.02162109471007276), (3917, 0.0032073131757027295), (3918, 0.0), (3919, 0.010626608044540123), (3920, 0.0034832401403108327), (3921, 0.0), (3922, 0.0), (3923, 0.022014838584247538), (3924, 0.012012583689223318), (3925, 0.0), (3926, 0.0068430554228861035), (3927, 0.021318421571705992), (3928, 0.0), (3929, 0.0), (3930, 0.0), (3931, 0.0), (3932, 0.0062109475356219536), (3933, 0.0), (3934, 0.019315841687212173), (3935, 0.0), (3936, 0.0), (3937, 0.0), (3938, 0.005470177394873108), (3939, 0.0), (3940, 0.005619915363274527), (3941, 0.010257519406364442), (3942, 0.0), (3943, 0.0), (3944, 0.00412615398649565), (3945, 0.0), (3946, 0.0691388637522516), (3947, 0.04182436755173483), (3948, 0.0), (3949, 0.0), (3950, 0.0), (3951, 0.011713497577943415), (3952, 0.0), (3953, 0.0030526482384781715), (3954, 0.00958059822164415), (3955, 0.03905504300407865), (3956, 0.009829804928299461), (3957, 0.012649636332610173), (3958, 0.01326411626091905), (3959, 0.029590293438101906), (3960, 0.009522662908672503), (3961, 0.03464951465723199), (3962, 0.0037731085174827965), (3963, 0.025069320377763167), (3964, 0.0), (3965, 0.0), (3966, 0.0047215960863957705), (3967, 0.0), (3968, 0.0), (3969, 0.0), (3970, 0.0048531067499988385), (3971, 0.0), (3972, 0.0), (3973, 0.043369141523369716), (3974, 0.04810159474746709), (3975, 0.0), (3976, 0.016372092005025107), (3977, 0.0), (3978, 0.0224093459512674), (3979, 0.0), (3980, 0.0), (3981, 0.0), (3982, 0.0), (3983, 0.034456419233997504), (3984, 0.0), (3985, 0.0), (3986, 0.002985973567167538), (3987, 0.0), (3988, 0.0), (3989, 0.00411634447755357), (3990, 0.0), (3991, 0.0), (3992, 0.0), (3993, 0.011752773879702583), (3994, 0.0), (3995, 0.005268224145535812), (3996, 0.0), (3997, 0.0054254279210845646), (3998, 0.006592760902079441), (3999, 0.0), (4000, 0.016006051666318043), (4001, 0.006846578387637322), (4002, 0.0038853344061761104), (4003, 0.0), (4004, 0.03176765644663362), (4005, 0.03750596389685617), (4006, 0.0), (4007, 0.0), (4008, 0.00710719643409215), (4009, 0.006301504025268002), (4010, 0.0), (4011, 0.003143444968729888), (4012, 0.017280708492297917), (4013, 0.00915868835685306), (4014, 0.0), (4015, 0.0027642433100649646), (4016, 0.02143444771568046), (4017, 0.0), (4018, 0.0), (4019, 0.0), (4020, 0.003304522298861037), (4021, 0.0), (4022, 0.0), (4023, 0.0), (4024, 0.0), (4025, 0.010608267116892982), (4026, 0.0), (4027, 0.0), (4028, 0.0), (4029, 0.0), (4030, 0.0), (4031, 0.0), (4032, 0.0), (4033, 0.011505082718688787), (4034, 0.0), (4035, 0.029668504435477895), (4036, 0.003305092847032188), (4037, 0.0), (4038, 0.008982707955413647), (4039, 0.004979016332792142), (4040, 0.0), (4041, 0.0), (4042, 0.0), (4043, 0.0), (4044, 0.004611222450929693), (4045, 0.008073051852204449), (4046, 0.00923532442344316), (4047, 0.0), (4048, 0.0), (4049, 0.003401478284095822), (4050, 0.02242949681880534), (4051, 0.0037269845841980086), (4052, 0.0), (4053, 0.02387825274619399), (4054, 0.0035403154133669497), (4055, 0.006188520691035773), (4056, 0.0033538145962589204), (4057, 0.00612215464331115), (4058, 0.0), (4059, 0.003154950828838655), (4060, 0.010935346112146938), (4061, 0.007406747287686814), (4062, 0.0), (4063, 0.0), (4064, 0.0), (4065, 0.0), (4066, 0.00294844546988848), (4067, 0.0), (4068, 0.016348477285072466), (4069, 0.0032449038477877653), (4070, 0.0), (4071, 0.004802656309368302), (4072, 0.0), (4073, 0.0), (4074, 0.003005862445032487), (4075, 0.0), (4076, 0.00544584208544671), (4077, 0.007477253157837711), (4078, 0.0), (4079, 0.0), (4080, 0.0030238879219797584), (4081, 0.018777245220742193), (4082, 0.0), (4083, 0.0035104146841850683), (4084, 0.0), (4085, 0.0031977840018812724), (4086, 0.0), (4087, 0.003628166662714097), (4088, 0.020917251976382296), (4089, 0.00875776827918363), (4090, 0.005450038006639241), (4091, 0.0), (4092, 0.0), (4093, 0.007813715065146096), (4094, 0.00815866453901885), (4095, 0.013701224353551315), (4096, 0.03295095119001082), (4097, 0.0), (4098, 0.008636509303698548), (4099, 0.006812735136423775), (4100, 0.0), (4101, 0.0036754709185732007), (4102, 0.0), (4103, 0.005106592227740524), (4104, 0.04759143531763558), (4105, 0.008574177062669929), (4106, 0.010623609053091163), (4107, 0.0), (4108, 0.0), (4109, 0.0), (4110, 0.006051953989906793), (4111, 0.0), (4112, 0.0), (4113, 0.003724258063904116), (4114, 0.0), (4115, 0.0), (4116, 0.07326875404758469), (4117, 0.0038346175520335324), (4118, 0.008242344791642495), (4119, 0.005620123785182054), (4120, 0.005680582681462866), (4121, 0.014379288956697479), (4122, 0.0), (4123, 0.05451130200668501), (4124, 0.015351550162876003), (4125, 0.0), (4126, 0.0), (4127, 0.0), (4128, 0.02384550988095097), (4129, 0.0), (4130, 0.0036565470201255553), (4131, 0.0), (4132, 0.0036199914845318907), (4133, 0.0), (4134, 0.0), (4135, 0.003393044556040305), (4136, 0.0034817455139639773), (4137, 0.06330851685481129), (4138, 0.0), (4139, 0.0032369297166809623), (4140, 0.0036609011165114375), (4141, 0.028662471621257582), (4142, 0.004327924522159578), (4143, 0.0029899584801580887), (4144, 0.0), (4145, 0.0), (4146, 0.0), (4147, 0.0), (4148, 0.01269643200947474), (4149, 0.018394928843581543), (4150, 0.0), (4151, 0.00574739165835145), (4152, 0.034246786164943005), (4153, 0.0), (4154, 0.0076778725825236045), (4155, 0.003223372558176298), (4156, 0.02093635128964998), (4157, 0.0), (4158, 0.01025446712577343), (4159, 0.0), (4160, 0.0), (4161, 0.0), (4162, 0.0), (4163, 0.0), (4164, 0.011571546742808036), (4165, 0.03686949600016794), (4166, 0.0), (4167, 0.0), (4168, 0.0), (4169, 0.0), (4170, 0.0), (4171, 0.0023941389259956257), (4172, 0.0), (4173, 0.0), (4174, 0.0030790486404654173), (4175, 0.030294527406170203), (4176, 0.021911220678713816), (4177, 0.0), (4178, 0.016754316241999856), (4179, 0.0), (4180, 0.0), (4181, 0.0), (4182, 0.007767625678611023), (4183, 0.003283124359614968), (4184, 0.007679823844001591), (4185, 0.0), (4186, 0.0), (4187, 0.012493556289776893), (4188, 0.0), (4189, 0.023291070434375512), (4190, 0.0), (4191, 0.0), (4192, 0.010630793836801825), (4193, 0.004631619542099127), (4194, 0.0), (4195, 0.03243588030566208), (4196, 0.007410692375492521), (4197, 0.0034053681822850497), (4198, 0.0), (4199, 0.0), (4200, 0.0027877596476128404), (4201, 0.0), (4202, 0.0), (4203, 0.020470304925018615), (4204, 0.0), (4205, 0.009034171462358569), (4206, 0.0031430456351792197), (4207, 0.0), (4208, 0.0), (4209, 0.03524677836076574), (4210, 0.006901038336983478), (4211, 0.004977617042188507), (4212, 0.0), (4213, 0.0), (4214, 0.0), (4215, 0.0), (4216, 0.01230843588814573), (4217, 0.006535786810552328), (4218, 0.0), (4219, 0.0), (4220, 0.002983531061312868), (4221, 0.0), (4222, 0.0), (4223, 0.0), (4224, 0.0), (4225, 0.0), (4226, 0.007420806110187647), (4227, 0.0), (4228, 0.0), (4229, 0.0), (4230, 0.0), (4231, 0.0), (4232, 0.009573960383867555), (4233, 0.008039005579324705), (4234, 0.0), (4235, 0.011755876741294646), (4236, 0.0063710633784467945), (4237, 0.0), (4238, 0.0), (4239, 0.0), (4240, 0.005520832741893121), (4241, 0.0), (4242, 0.0), (4243, 0.0), (4244, 0.0), (4245, 0.0), (4246, 0.017446730516822197), (4247, 0.0029623835800766975), (4248, 0.005042455717783939), (4249, 0.0), (4250, 0.0), (4251, 0.005202335163083019), (4252, 0.06064641050182288), (4253, 0.0), (4254, 0.0032088508945569507), (4255, 0.015450535349702255), (4256, 0.0), (4257, 0.009615766351169222), (4258, 0.0), (4259, 0.0037482516356691516), (4260, 0.0), (4261, 0.0057199637237094515), (4262, 0.0035106655507994387), (4263, 0.0), (4264, 0.004991920479497659), (4265, 0.013350700830361845), (4266, 0.0034053351767141106), (4267, 0.003836540953607892), (4268, 0.049258128249005835), (4269, 0.0036029174301822633), (4270, 0.0), (4271, 0.0), (4272, 0.030627899895393426), (4273, 0.0034546853881795396), (4274, 0.004687517730891956), (4275, 0.00526091896734647), (4276, 0.0), (4277, 0.003080709683465849), (4278, 0.0), (4279, 0.0), (4280, 0.003957868555055502), (4281, 0.023375513963745972), (4282, 0.0077730848935482835), (4283, 0.02715864314353423), (4284, 0.008319948020089774), (4285, 0.0), (4286, 0.0035488894079286596), (4287, 0.0034782111674061767), (4288, 0.02505050615056467), (4289, 0.00815134848963829), (4290, 0.004570673145539061), (4291, 0.0), (4292, 0.004783833901615499), (4293, 0.0), (4294, 0.025992780479894447), (4295, 0.0), (4296, 0.0), (4297, 0.0), (4298, 0.0), (4299, 0.008227332616926177), (4300, 0.0), (4301, 0.0), (4302, 0.0), (4303, 0.006570770434681919), (4304, 0.002984501709265906), (4305, 0.0), (4306, 0.0), (4307, 0.005675806370886361), (4308, 0.0), (4309, 0.008263104675317028), (4310, 0.005079450973509425), (4311, 0.0), (4312, 0.005447568122353272), (4313, 0.0), (4314, 0.01482593963265099), (4315, 0.0), (4316, 0.0), (4317, 0.0), (4318, 0.0), (4319, 0.0), (4320, 0.0033706746180870682), (4321, 0.017840791429359883), (4322, 0.004666059048418874), (4323, 0.0), (4324, 0.0), (4325, 0.01184384497114969), (4326, 0.0), (4327, 0.0), (4328, 0.004764010427445577), (4329, 0.0), (4330, 0.003313309979462128), (4331, 0.005864668287479057), (4332, 0.0), (4333, 0.00376792345821864), (4334, 0.0034838652338788256), (4335, 0.008681381880583677), (4336, 0.009804902305418115), (4337, 0.012986882779311058), (4338, 0.0), (4339, 0.004638028706635492), (4340, 0.0034875105637803775), (4341, 0.0), (4342, 0.006317845935872991), (4343, 0.002987746098046725), (4344, 0.013108554537921856), (4345, 0.0031799197484969244), (4346, 0.0), (4347, 0.0), (4348, 0.0030994948040730433), (4349, 0.01824229472261821), (4350, 0.0030021196220787628), (4351, 0.0), (4352, 0.0), (4353, 0.0), (4354, 0.0), (4355, 0.0035588176976663706), (4356, 0.003088405346942398), (4357, 0.0), (4358, 0.0), (4359, 0.0030791630137843745), (4360, 0.005095534718469111), (4361, 0.0035193107372722635), (4362, 0.037777559186449386), (4363, 0.0035126876592662675), (4364, 0.0), (4365, 0.00444587903621883), (4366, 0.011425393331233706), (4367, 0.006592469571902001), (4368, 0.0037689530938882702), (4369, 0.003885375329822243), (4370, 0.0), (4371, 0.01090871260038639), (4372, 0.0), (4373, 0.00516971829278826), (4374, 0.015285466424358367), (4375, 0.09101762850129298), (4376, 0.005225517273539149), (4377, 0.0052002462327558905), (4378, 0.07845401905575669), (4379, 0.0167386125038642), (4380, 0.020656465091196556), (4381, 0.00325753573852447), (4382, 0.020881580254331313), (4383, 0.0051060115171272765), (4384, 0.005330458293436767), (4385, 0.005985531928162601), (4386, 0.0), (4387, 0.01573564377501898), (4388, 0.006999905258680022), (4389, 0.06046464348081406), (4390, 0.0), (4391, 0.0), (4392, 0.005356159529255728), (4393, 0.0), (4394, 0.003317972971566314), (4395, 0.02099100868138764), (4396, 0.03783221371526302), (4397, 0.0), (4398, 0.05935153378787746), (4399, 0.01759066827176409), (4400, 0.0), (4401, 0.003763881285581684), (4402, 0.031425270319119555), (4403, 0.03973874097108934), (4404, 0.0), (4405, 0.0), (4406, 0.0), (4407, 0.0), (4408, 0.0), (4409, 0.003344061831044302), (4410, 0.0), (4411, 0.0028733206160543034), (4412, 0.0), (4413, 0.0), (4414, 0.0), (4415, 0.0), (4416, 0.0), (4417, 0.0), (4418, 0.0), (4419, 0.0), (4420, 0.0035087826402107098), (4421, 0.0), (4422, 0.0), (4423, 0.0), (4424, 0.0), (4425, 0.0), (4426, 0.004415704336534027), (4427, 0.0033840345525955723), (4428, 0.0031953149857655272), (4429, 0.0), (4430, 0.0), (4431, 0.009045440861940639), (4432, 0.007412762787356407), (4433, 0.0), (4434, 0.0), (4435, 0.01110824406773444), (4436, 0.02117522248948389), (4437, 0.0), (4438, 0.004863550790008208), (4439, 0.0), (4440, 0.0), (4441, 0.004824034465198995), (4442, 0.010712450827952223), (4443, 0.0), (4444, 0.0), (4445, 0.002539277994010439), (4446, 0.0036595612878282655), (4447, 0.0), (4448, 0.003513116253841672), (4449, 0.0), (4450, 0.027244264010208918), (4451, 0.0), (4452, 0.03672387124829007), (4453, 0.0), (4454, 0.0), (4455, 0.0), (4456, 0.046218638225772664), (4457, 0.0), (4458, 0.0), (4459, 0.006530867217790051), (4460, 0.0), (4461, 0.0), (4462, 0.005743989900668028), (4463, 0.0), (4464, 0.0), (4465, 0.02141328696205937), (4466, 0.021358180435145705), (4467, 0.0070556128627895925), (4468, 0.004434181096608966), (4469, 0.0), (4470, 0.008705100387304654), (4471, 0.0), (4472, 0.0032699638067410146), (4473, 0.0029237284756884097), (4474, 0.016893713091386063), (4475, 0.0), (4476, 0.002899678811418627), (4477, 0.012789900098547417), (4478, 0.0), (4479, 0.003081695327325502), (4480, 0.0), (4481, 0.01219878955617047), (4482, 0.015184415907237184), (4483, 0.0), (4484, 0.0), (4485, 0.0), (4486, 0.014997079463393955), (4487, 0.0033183917887277324), (4488, 0.04226788137786842), (4489, 0.0035667137408780638), (4490, 0.0), (4491, 0.0), (4492, 0.019507928233512592), (4493, 0.0), (4494, 0.009453754266409622), (4495, 0.0035555138489000515), (4496, 0.0), (4497, 0.003509716037988737), (4498, 0.0), (4499, 0.0), (4500, 0.0), (4501, 0.003413765695403765), (4502, 0.010068434440323619), (4503, 0.052239221322401115), (4504, 0.01782775890818677), (4505, 0.0035799504370183687), (4506, 0.0), (4507, 0.0), (4508, 0.0), (4509, 0.0), (4510, 0.013499914345040949), (4511, 0.009970224015225322), (4512, 0.0), (4513, 0.004206148339216342), (4514, 0.0), (4515, 0.0), (4516, 0.0), (4517, 0.008458245854703674), (4518, 0.006168392859800552), (4519, 0.0), (4520, 0.0), (4521, 0.0), (4522, 0.0), (4523, 0.008079056798570097), (4524, 0.01416475964399332), (4525, 0.0), (4526, 0.0), (4527, 0.0), (4528, 0.0), (4529, 0.0), (4530, 0.0), (4531, 0.01779008116872536), (4532, 0.0), (4533, 0.034278250969543705), (4534, 0.022735301503913403), (4535, 0.0037605722734847715), (4536, 0.0032137120325919926), (4537, 0.0), (4538, 0.02928691697950085), (4539, 0.0), (4540, 0.0), (4541, 0.0), (4542, 0.0), (4543, 0.012312551564256306), (4544, 0.0), (4545, 0.003620862177916465), (4546, 0.0), (4547, 0.0), (4548, 0.028571347843282066), (4549, 0.0), (4550, 0.003263861471142169), (4551, 0.012142024013539074), (4552, 0.00523750474730688), (4553, 0.011122249222411668), (4554, 0.0), (4555, 0.0), (4556, 0.0), (4557, 0.008054669528464039), (4558, 0.0), (4559, 0.0), (4560, 0.0), (4561, 0.0), (4562, 0.0), (4563, 0.0034075770300636536), (4564, 0.006581718979419451), (4565, 0.0), (4566, 0.003520093724317317), (4567, 0.0032327160767905167), (4568, 0.0), (4569, 0.0), (4570, 0.0), (4571, 0.0), (4572, 0.0), (4573, 0.0), (4574, 0.00358457158127183), (4575, 0.0035757372720397786), (4576, 0.01482493548049954), (4577, 0.0), (4578, 0.0), (4579, 0.0), (4580, 0.0), (4581, 0.007732679366614017), (4582, 0.00450766339671145), (4583, 0.01552777466011609), (4584, 0.003935500302073976), (4585, 0.0047847062944906885), (4586, 0.0), (4587, 0.004843177230692984), (4588, 0.04204522666079102), (4589, 0.0), (4590, 0.03181720876482489), (4591, 0.007881788513697323), (4592, 0.0), (4593, 0.0), (4594, 0.06500763253571161), (4595, 0.005498542935704906), (4596, 0.012038587512982637), (4597, 0.0), (4598, 0.0026089813838200957), (4599, 0.0), (4600, 0.0), (4601, 0.009270420758316439), (4602, 0.032934929474185116), (4603, 0.0), (4604, 0.0033782315618920648), (4605, 0.011232523220843659), (4606, 0.004260828805984501), (4607, 0.0), (4608, 0.0), (4609, 0.0), (4610, 0.014797022850839742), (4611, 0.0), (4612, 0.010442541501270011), (4613, 0.0), (4614, 0.09285769048463566), (4615, 0.0), (4616, 0.0), (4617, 0.0), (4618, 0.0), (4619, 0.0), (4620, 0.0030797623666385127), (4621, 0.005303477229225215), (4622, 0.0), (4623, 0.012657862442382525), (4624, 0.00884735736932923), (4625, 0.0), (4626, 0.0027502665578124906), (4627, 0.015907287339427673), (4628, 0.0), (4629, 0.008729812323378956), (4630, 0.005722900511543295), (4631, 0.0), (4632, 0.0), (4633, 0.003939603669624529), (4634, 0.00313513574017937), (4635, 0.0), (4636, 0.0028437195051490543), (4637, 0.0), (4638, 0.003087532441001579), (4639, 0.005330070400701778), (4640, 0.01868628562764236), (4641, 0.034789999132429625), (4642, 0.0), (4643, 0.0), (4644, 0.0), (4645, 0.0), (4646, 0.0), (4647, 0.0), (4648, 0.0), (4649, 0.009320338249437616), (4650, 0.0038541641456846035), (4651, 0.0), (4652, 0.007817813972249768), (4653, 0.006160843655931058), (4654, 0.0), (4655, 0.0), (4656, 0.0), (4657, 0.0), (4658, 0.02192655913991469), (4659, 0.0), (4660, 0.0), (4661, 0.00746116896375587), (4662, 0.0), (4663, 0.033745669485880724), (4664, 0.009397186895132746), (4665, 0.00508267341480061), (4666, 0.0), (4667, 0.0), (4668, 0.0), (4669, 0.01725946624106242), (4670, 0.008134053791431988), (4671, 0.0), (4672, 0.0), (4673, 0.015639656544542985), (4674, 0.006794042635310492), (4675, 0.0), (4676, 0.0), (4677, 0.00850815771044932), (4678, 0.005214274907067027), (4679, 0.02065969158007424), (4680, 0.00360561483869299), (4681, 0.0), (4682, 0.04877710509442447), (4683, 0.0), (4684, 0.02841209402816297), (4685, 0.009967592504276422), (4686, 0.0033514644153274493), (4687, 0.003302153010145641), (4688, 0.0), (4689, 0.04327561568357327), (4690, 0.0), (4691, 0.0), (4692, 0.004155494581919511), (4693, 0.0), (4694, 0.0), (4695, 0.0), (4696, 0.0), (4697, 0.0), (4698, 0.0), (4699, 0.0), (4700, 0.0), (4701, 0.0), (4702, 0.0), (4703, 0.03419271913775372), (4704, 0.0), (4705, 0.0), (4706, 0.0), (4707, 0.0), (4708, 0.005037445499689178), (4709, 0.0), (4710, 0.0), (4711, 0.0), (4712, 0.0030241011050450317), (4713, 0.0), (4714, 0.0), (4715, 0.008497143708286952), (4716, 0.0), (4717, 0.0), (4718, 0.0), (4719, 0.0), (4720, 0.0), (4721, 0.0), (4722, 0.0), (4723, 0.0), (4724, 0.0), (4725, 0.0), (4726, 0.005550136990507604), (4727, 0.0), (4728, 0.0), (4729, 0.0), (4730, 0.0), (4731, 0.0), (4732, 0.003658200166185695), (4733, 0.007009417705307899), (4734, 0.0), (4735, 0.0), (4736, 0.0), (4737, 0.0), (4738, 0.006802317072062227), (4739, 0.0), (4740, 0.0), (4741, 0.0), (4742, 0.0), (4743, 0.0032807880305105314), (4744, 0.0), (4745, 0.0), (4746, 0.0), (4747, 0.0), (4748, 0.00885187186954977), (4749, 0.0), (4750, 0.0), (4751, 0.0), (4752, 0.0023969242756319694), (4753, 0.0), (4754, 0.0), (4755, 0.0), (4756, 0.0), (4757, 0.008861141165108059), (4758, 0.0), (4759, 0.0)]\n"
          ]
        }
      ]
    },
    {
      "cell_type": "code",
      "source": [
        "len(Recommendation_Score)"
      ],
      "metadata": {
        "colab": {
          "base_uri": "https://localhost:8080/"
        },
        "id": "DFzvxLmlXbTt",
        "outputId": "da84d4a9-1b0e-451f-c5f7-c2a856397c1a"
      },
      "execution_count": 114,
      "outputs": [
        {
          "output_type": "execute_result",
          "data": {
            "text/plain": [
              "4760"
            ]
          },
          "metadata": {},
          "execution_count": 114
        }
      ]
    },
    {
      "cell_type": "code",
      "source": [
        " Sorted_Similar_Movies = sorted(Recommendation_Score, key = lambda x:x[1], reverse = True)\n",
        " print(Sorted_Similar_Movies)"
      ],
      "metadata": {
        "colab": {
          "base_uri": "https://localhost:8080/"
        },
        "id": "vm5dFRCRXlnZ",
        "outputId": "80b0d35c-1d58-4db3-8037-3fbac484845b"
      },
      "execution_count": 115,
      "outputs": [
        {
          "output_type": "stream",
          "name": "stdout",
          "text": [
            "[(2692, 1.0000000000000002), (62, 0.10357177015737198), (2903, 0.10023663860400708), (1647, 0.09420396650132257), (4614, 0.09285769048463566), (4375, 0.09101762850129298), (45, 0.09094486392420562), (110, 0.08704482797337142), (1383, 0.08533771667155277), (1994, 0.08498629104509339), (628, 0.08210066456199591), (2558, 0.08174341092349155), (1977, 0.07961587620931053), (4378, 0.07845401905575669), (1341, 0.0765965650197033), (3465, 0.07650828344536541), (3053, 0.07551730820541247), (4116, 0.07326875404758469), (1982, 0.07124044246586964), (3946, 0.0691388637522516), (2538, 0.06788630890280603), (3480, 0.06711425775029933), (1886, 0.06590434465481541), (4594, 0.06500763253571161), (3450, 0.06488883045618868), (2112, 0.06429244080556178), (590, 0.06339649113460472), (4137, 0.06330851685481129), (675, 0.06318722872786424), (1134, 0.06220382248382895), (84, 0.062168221438908655), (3854, 0.06185131738704314), (424, 0.061826637949077515), (2318, 0.06170728471681888), (1118, 0.06121094777567532), (4252, 0.06064641050182288), (3463, 0.06061232672662257), (4389, 0.06046464348081406), (282, 0.06046216599520296), (1021, 0.05980206504689929), (3385, 0.05963329571301179), (4398, 0.05935153378787746), (3462, 0.05923981837714444), (3334, 0.0588903253212906), (3728, 0.05865377227403336), (2985, 0.05683174551768792), (1243, 0.05563189623838444), (4123, 0.05451130200668501), (1970, 0.05412985630116679), (1809, 0.053613301439803925), (292, 0.05334160610985483), (2026, 0.05330264626112982), (2944, 0.05318020777963821), (137, 0.053022702679887665), (479, 0.05274849527473978), (3360, 0.052275269304507016), (4503, 0.052239221322401115), (384, 0.05199669563126275), (1030, 0.051719088735586324), (3655, 0.051533802491023156), (1102, 0.051486396692071584), (2191, 0.05144642674629977), (519, 0.0509461865097736), (3010, 0.05079265082487949), (2214, 0.050606396522557454), (877, 0.05019403365257691), (873, 0.04982060692535271), (213, 0.049524527491749695), (2133, 0.04948699679786373), (2294, 0.04942236517585988), (4268, 0.049258128249005835), (4682, 0.04877710509442447), (3395, 0.04872181018043124), (1878, 0.04861139400358211), (2374, 0.04811324558324261), (3974, 0.04810159474746709), (2971, 0.0477641698357783), (3374, 0.047678095418292044), (4104, 0.04759143531763558), (2653, 0.047578072324789944), (1257, 0.046719099749403005), (3793, 0.046532403246699605), (3023, 0.04643209059465005), (904, 0.046332038971351464), (1023, 0.04633147060125288), (4456, 0.046218638225772664), (1261, 0.04569289152717705), (412, 0.04566741865356107), (2530, 0.04564770228921245), (3559, 0.04558945491630417), (3091, 0.04552761028913391), (67, 0.04541083403792426), (3294, 0.04535303891303763), (1203, 0.045227626731575946), (637, 0.04521891913294707), (2151, 0.0451644162447877), (673, 0.04496408866366691), (1248, 0.044804968175662034), (3753, 0.04455051206435645), (682, 0.04447112836779135), (1821, 0.04440603331855582), (1302, 0.04440095461393821), (3408, 0.04437594090374688), (2745, 0.0443644131864996), (161, 0.04431285337732354), (408, 0.04417778483634111), (3518, 0.04414301306990983), (615, 0.04409401030033924), (1506, 0.04396420271433917), (1292, 0.04387658527680939), (3427, 0.04379126640933394), (1369, 0.04360501180242733), (328, 0.04355087948464337), (1675, 0.04338081998309056), (3973, 0.043369141523369716), (277, 0.043280160740857845), (4689, 0.04327561568357327), (438, 0.04314914872417265), (2012, 0.04306078210447855), (1358, 0.043048950015454335), (89, 0.04275788281825452), (2321, 0.04253282339203861), (1652, 0.04241810085341914), (172, 0.04240830990437774), (4488, 0.04226788137786842), (455, 0.04217174261289937), (4588, 0.04204522666079102), (360, 0.04203955871231365), (1393, 0.04183610238089261), (3947, 0.04182436755173483), (1871, 0.04150421127060545), (2155, 0.04125059073000484), (1850, 0.0409983040502226), (3867, 0.04066565426606677), (109, 0.04063773196812309), (44, 0.04063632694524282), (788, 0.040624043738778204), (3373, 0.04055308981360917), (1527, 0.040488053323491466), (108, 0.04029053631380267), (3209, 0.040282900174695074), (185, 0.04015907460321893), (4403, 0.03973874097108934), (1024, 0.03952068598222784), (2869, 0.03935347389991554), (3409, 0.03922391169908085), (126, 0.03921529959604783), (2859, 0.03905904315605439), (3955, 0.03905504300407865), (632, 0.03903808411601434), (1320, 0.03895690677596543), (2018, 0.03893562923363367), (3362, 0.0388422222154841), (2187, 0.03876832458508755), (2212, 0.03809449456188599), (2868, 0.038051039225965075), (4396, 0.03783221371526302), (3511, 0.03780007507007146), (2540, 0.03778065739489065), (4362, 0.037777559186449386), (1241, 0.03762034409407976), (2622, 0.03752611508357059), (4005, 0.03750596389685617), (2716, 0.037504125614194396), (874, 0.037343117950991545), (3486, 0.037245189209273784), (3498, 0.0372205658420635), (774, 0.0369481416114831), (2908, 0.036942396581510065), (3127, 0.03690440302035476), (4165, 0.03686949600016794), (2316, 0.03683391821102614), (2375, 0.036752231222391324), (1676, 0.03675177582367422), (911, 0.036739623885276546), (4452, 0.03672387124829007), (694, 0.03657611819973393), (3280, 0.036340627613517196), (1085, 0.036047421150730924), (2981, 0.03601338846943701), (3045, 0.036012167097758827), (1991, 0.035962747716187154), (3470, 0.035864846666108084), (830, 0.03562495310246652), (2109, 0.035569461727546964), (3351, 0.035351096040999896), (3731, 0.03534072772435533), (3330, 0.03530726291643152), (1063, 0.03526879528737007), (4209, 0.03524677836076574), (710, 0.03524505360359023), (2371, 0.035142235345369754), (547, 0.03503396955515583), (3430, 0.035023824956141494), (1272, 0.03499415974869356), (2123, 0.034894596158327226), (3556, 0.03484989742645901), (4641, 0.034789999132429625), (138, 0.03475681367151989), (818, 0.03472383228299413), (1236, 0.03466615521377068), (1146, 0.03465899397243697), (3961, 0.03464951465723199), (1770, 0.0346174949264752), (166, 0.03446416332751979), (3983, 0.034456419233997504), (540, 0.034366728443048444), (3137, 0.03431967283359238), (3656, 0.03431197614494293), (3315, 0.03430060933275857), (4533, 0.034278250969543705), (3102, 0.03425706182249601), (4152, 0.034246786164943005), (4703, 0.03419271913775372), (1311, 0.03414885221417218), (1568, 0.034103028396957766), (2122, 0.034061590876161035), (2082, 0.034009079674626325), (334, 0.0339347701261996), (1702, 0.033814485297360336), (1752, 0.03379511406215372), (4663, 0.033745669485880724), (1379, 0.03373837557694733), (3466, 0.03366716420073901), (1389, 0.03357842204499142), (578, 0.03352267371489324), (864, 0.03336210319968806), (1195, 0.03333336196732801), (1367, 0.03323296232776666), (2621, 0.03310249075704616), (4096, 0.03295095119001082), (4602, 0.032934929474185116), (2614, 0.0328246495521767), (1464, 0.032776587359883605), (250, 0.0325626232608969), (2706, 0.03255594153961655), (3850, 0.03253461874836033), (2147, 0.03249901586596133), (1976, 0.03245635278395793), (4195, 0.03243588030566208), (2037, 0.03240573752251649), (387, 0.03223848561365769), (1837, 0.0322369829607819), (812, 0.032189752997273), (935, 0.03213590714206125), (2517, 0.03204084737093091), (1068, 0.032036807409049614), (2023, 0.031977018112808106), (2782, 0.031928390679817356), (2413, 0.03192768908786238), (4590, 0.03181720876482489), (4004, 0.03176765644663362), (1398, 0.03164915606639454), (766, 0.03157066596312923), (3157, 0.03148968126736347), (4402, 0.031425270319119555), (3376, 0.031285031158928694), (787, 0.03128306145779291), (618, 0.03126554146232058), (1173, 0.031254299239497414), (2100, 0.031238569660142327), (3597, 0.03114068710889289), (3880, 0.031139128330342058), (2443, 0.031124909510694868), (952, 0.03107671905511413), (3767, 0.031054881281052646), (3720, 0.031022938950289472), (65, 0.031016714244679684), (1043, 0.030988352723167356), (2198, 0.030962451769075167), (3328, 0.03091470121310445), (428, 0.030910582231360385), (2723, 0.03087563021986425), (1973, 0.03081943791532285), (430, 0.030709956923950853), (4272, 0.030627899895393426), (1788, 0.03038909260199671), (241, 0.030323125517956972), (4175, 0.030294527406170203), (530, 0.030263556606418933), (179, 0.030248838695618136), (3326, 0.03024400940061508), (2014, 0.03023020780966681), (2710, 0.030179187905230286), (1868, 0.030121103236002464), (1137, 0.03012009075986963), (2487, 0.03009984427735676), (1750, 0.030091804168175515), (2114, 0.030036118287953526), (193, 0.030032826124419775), (3814, 0.029987205369855535), (3572, 0.029954130060812614), (112, 0.029855394997696016), (1648, 0.02978098982751496), (629, 0.02975742007207806), (4035, 0.029668504435477895), (3959, 0.029590293438101906), (2102, 0.02955193076944164), (976, 0.029483720663318704), (465, 0.02946540743016978), (1990, 0.029363621231721357), (2481, 0.029360367848361074), (3701, 0.02931111857710724), (4538, 0.02928691697950085), (3751, 0.02924716702341275), (1795, 0.02922222436874245), (2221, 0.02921923008961102), (371, 0.02921111732367956), (284, 0.029126532126418178), (3605, 0.029007723747430388), (3313, 0.029005811620304415), (1363, 0.02891379872600993), (3154, 0.02890296146157772), (1095, 0.028895802228661175), (670, 0.02881649108763601), (1162, 0.028760242681570607), (3174, 0.028753676211246998), (4141, 0.028662471621257582), (1046, 0.028601120714472072), (2013, 0.028592090333906313), (4548, 0.028571347843282066), (3344, 0.028454600523865343), (4684, 0.02841209402816297), (1482, 0.0284102716386288), (1059, 0.028408406069282337), (1634, 0.028390899910692886), (25, 0.02839036470408457), (2876, 0.02833290198871911), (1845, 0.028289949387375217), (1430, 0.02828445128385489), (2687, 0.028180126931983778), (1405, 0.02817668662556221), (3156, 0.028171066324258687), (3260, 0.028162381195819115), (240, 0.028148177600360834), (2791, 0.02813981536096717), (3871, 0.028103167693144675), (2802, 0.02808798492307684), (3688, 0.028025816589670856), (2920, 0.02793115210404294), (1500, 0.0279270538144079), (2912, 0.027905548757757262), (522, 0.02787676798687544), (3852, 0.027873418001758993), (2276, 0.027767205307804417), (3028, 0.027724092948389463), (3447, 0.027662661967598083), (836, 0.027660962163615896), (1060, 0.027619485331754786), (167, 0.02756253875436289), (1314, 0.02754291367485181), (421, 0.02751616495622169), (2467, 0.027449602933270024), (3574, 0.02739960268456302), (3167, 0.027351952170167042), (4450, 0.027244264010208918), (852, 0.027222978926104834), (1181, 0.027167878616666852), (4283, 0.02715864314353423), (2972, 0.027123480333492867), (1999, 0.027065851984055905), (124, 0.02703101536804587), (1572, 0.0270257775528749), (3684, 0.0269579800289238), (1749, 0.026956440782699244), (832, 0.026905855701060057), (1205, 0.02689315599665929), (1720, 0.026883856144911542), (1721, 0.0268633367019026), (3801, 0.026684400916526282), (1847, 0.026511379935315937), (459, 0.02642911766757472), (3868, 0.02627665869017669), (2761, 0.026238982851781126), (1351, 0.0262325240678416), (2020, 0.026223109042287147), (269, 0.02621325648045156), (1763, 0.026099767016819916), (967, 0.026080591528945013), (4294, 0.025992780479894447), (885, 0.025916980178771486), (3711, 0.0258760146269369), (2762, 0.02583895870702624), (3285, 0.025811809569512643), (1057, 0.025763008465341745), (2011, 0.02571570073505429), (2094, 0.025563130597934566), (3692, 0.025514195937403568), (381, 0.025505995119359595), (942, 0.025449500121747452), (1997, 0.025434254029864267), (657, 0.025220518231362767), (2040, 0.025208124538659723), (2408, 0.025167267999176193), (1186, 0.025150422898897663), (68, 0.025138484748313986), (1412, 0.02511544392613198), (3913, 0.025099939111501116), (3963, 0.025069320377763167), (4288, 0.02505050615056467), (116, 0.02504488955404048), (2713, 0.025039635445935474), (3746, 0.024977577565755818), (345, 0.024948353638593393), (1530, 0.024944823169547076), (3773, 0.02486503972819114), (2689, 0.02485793531103011), (1544, 0.024822074430687326), (1015, 0.024798639624400737), (824, 0.02471554726327453), (3872, 0.0245838873522394), (3153, 0.024559192074105767), (3095, 0.024467045889106517), (1141, 0.024463315387806446), (3835, 0.024447940023379192), (672, 0.024423002336288455), (2096, 0.02432361775495821), (706, 0.02428426306972399), (29, 0.024262588780957925), (3483, 0.024234810401348117), (398, 0.02423022404383733), (1865, 0.02421952287755591), (641, 0.024180203773415725), (175, 0.024162819138217495), (2210, 0.024094290140012804), (155, 0.02407022780357132), (2950, 0.024040134797655946), (2647, 0.02400141375871991), (3446, 0.023939545171121554), (2157, 0.02392974818477759), (4053, 0.02387825274619399), (4128, 0.02384550988095097), (1283, 0.023825798308133528), (1707, 0.023770638793830352), (2699, 0.023740686707670267), (2718, 0.023698714731337337), (2777, 0.023639316122859005), (515, 0.0235923298792243), (1757, 0.023539760423371296), (15, 0.023521196099947923), (2668, 0.023515033687692366), (3839, 0.02341456366102128), (4281, 0.023375513963745972), (1585, 0.02337232869561562), (1629, 0.023322960345599927), (4189, 0.023291070434375512), (88, 0.023166407004939653), (1942, 0.023090764526385647), (1985, 0.022980186470077962), (691, 0.02291230895642457), (1671, 0.022902482370674035), (3384, 0.022816721494548838), (1678, 0.02281445516575388), (1385, 0.0227874326974522), (1362, 0.0227794132334951), (2174, 0.022742944309018173), (4534, 0.022735301503913403), (1033, 0.02270928809090176), (613, 0.022678329974407486), (1935, 0.022626222461653786), (261, 0.022580776198962073), (1132, 0.022526412123090114), (3068, 0.02249271121992902), (3319, 0.022481818646428488), (2598, 0.022433941637947676), (4050, 0.02242949681880534), (3978, 0.0224093459512674), (3433, 0.022399290103765304), (1098, 0.022394131283987994), (870, 0.022362379971396954), (1017, 0.02230962900987477), (3778, 0.022284014083948155), (3083, 0.02227751254641777), (3254, 0.02225999961187932), (442, 0.022249676604478), (1505, 0.022235030255921474), (1996, 0.022232694570160166), (2055, 0.02221747738324103), (1515, 0.022181805491342216), (643, 0.022174184600985962), (257, 0.02216420565438005), (2808, 0.02213437123855744), (1861, 0.022061627450990176), (1510, 0.02202798647576428), (3923, 0.022014838584247538), (1471, 0.022012697966411646), (3504, 0.021988985427511636), (2440, 0.021959875453385413), (4658, 0.02192655913991469), (4176, 0.021911220678713816), (2822, 0.02191024708685692), (2646, 0.021806362883201032), (1492, 0.021798665615467047), (1657, 0.02175795766838527), (2301, 0.021737305385437198), (3492, 0.02165895172237486), (3916, 0.02162109471007276), (3665, 0.021590265265071854), (383, 0.021471167887002506), (4016, 0.02143444771568046), (4465, 0.02141328696205937), (329, 0.02138115809867528), (4466, 0.021358180435145705), (1270, 0.021319523651621992), (3927, 0.021318421571705992), (2767, 0.021304286296195164), (3471, 0.021303882475684644), (2524, 0.02125896300854812), (330, 0.021242198588742923), (463, 0.021234497997945707), (4436, 0.02117522248948389), (2760, 0.021116546133908478), (142, 0.02105696867762678), (669, 0.020997375267836866), (3222, 0.02099704303863732), (4395, 0.02099100868138764), (1817, 0.02097913933499656), (3508, 0.020962577354982626), (4156, 0.02093635128964998), (4088, 0.020917251976382296), (3403, 0.020912347887184067), (199, 0.020887077905198028), (4382, 0.020881580254331313), (1003, 0.020810340297017373), (3857, 0.02078645294781004), (566, 0.02076882056298481), (2582, 0.020734259888397208), (763, 0.02072783344813544), (3352, 0.02069793928945812), (4679, 0.02065969158007424), (4380, 0.020656465091196556), (145, 0.020630601878486077), (2995, 0.020556603903773753), (2501, 0.02050791241898068), (3097, 0.02049913147412008), (2607, 0.020490378987182745), (4203, 0.020470304925018615), (3469, 0.020439761046349345), (123, 0.020295744825989406), (689, 0.02014724569155779), (1838, 0.020138183502815973), (1927, 0.020116985824897324), (2795, 0.020096018529154082), (1052, 0.020061852231534307), (779, 0.020048195317796762), (1937, 0.020016932804180067), (1202, 0.019995041295917296), (2469, 0.01996416184546807), (968, 0.019949313698854446), (2841, 0.01993514469528808), (147, 0.01971319512896856), (83, 0.019685537617614608), (757, 0.019616764875198662), (2362, 0.01961401439691526), (2070, 0.019587167645802622), (858, 0.019570613835994167), (3416, 0.019510710489165015), (4492, 0.019507928233512592), (1074, 0.019487824049557942), (808, 0.019468602636889206), (553, 0.019458851327040255), (2736, 0.019445493928587583), (2867, 0.01941645753552691), (204, 0.01941144616384506), (3875, 0.019405340608400684), (222, 0.019403992797244994), (1226, 0.01934935813174576), (2650, 0.01934416057602694), (1443, 0.01933241579357356), (342, 0.019323975177937408), (3934, 0.019315841687212173), (3111, 0.01924621103763316), (33, 0.019171913442634102), (3853, 0.01915239675125539), (3000, 0.019069908500979813), (46, 0.019041671126082838), (2237, 0.018993862324587347), (1872, 0.018974872187811978), (106, 0.01890997271620975), (2513, 0.0188384780940817), (1175, 0.01880539059567194), (4081, 0.018777245220742193), (1129, 0.018774471797075126), (364, 0.018750017082365997), (3085, 0.01872890969344923), (2093, 0.018696808684766), (2406, 0.018695564676745546), (4640, 0.01868628562764236), (160, 0.01866886097283423), (1386, 0.018639943821437303), (3226, 0.018629188598516033), (173, 0.01859386654290649), (3144, 0.01855064369925237), (768, 0.018538324361926), (1112, 0.018535866902230493), (1275, 0.018444886974446864), (144, 0.018418699309289292), (4149, 0.018394928843581543), (2035, 0.01839309612019703), (794, 0.018367253191746896), (1403, 0.018333445670616084), (1365, 0.018325828242314966), (1377, 0.018300490152895234), (61, 0.018280050830389798), (4349, 0.01824229472261821), (1184, 0.018220957841955703), (2742, 0.018153159987527277), (3043, 0.018139953725395994), (2553, 0.018113083092344398), (796, 0.018077691582434857), (433, 0.018052639765238805), (1716, 0.01804926151755412), (2119, 0.018040758072972986), (1384, 0.018030667823781956), (916, 0.01802892453083093), (1245, 0.018009673680942726), (795, 0.018007612108606935), (2110, 0.017998566752288326), (1493, 0.017942490571859284), (701, 0.017928669544551735), (458, 0.017911855373718744), (209, 0.0179108848511678), (1417, 0.01785022476444182), (4321, 0.017840791429359883), (4504, 0.01782775890818677), (888, 0.017808822270551132), (4531, 0.01779008116872536), (3640, 0.017784768901210314), (280, 0.01776758303365026), (3036, 0.01773012934211105), (853, 0.017706679550115668), (203, 0.017654893213925667), (450, 0.01761146615793186), (4399, 0.01759066827176409), (3129, 0.017582066411412092), (48, 0.017572438499074382), (3279, 0.017549156335381306), (2996, 0.017534801530902405), (551, 0.017467179328131015), (4246, 0.017446730516822197), (212, 0.017443797760172484), (1759, 0.017422296545455813), (481, 0.01740681481176687), (2917, 0.017402841174191212), (3086, 0.0173943008576986), (1774, 0.017390811531901154), (2167, 0.017383977794305394), (896, 0.017380498047414247), (1274, 0.01737130072872313), (1325, 0.017347982829925165), (2149, 0.01733148642536965), (638, 0.0173260042064094), (279, 0.017319924414334005), (3642, 0.01731514889072721), (3694, 0.017296518221579734), (4012, 0.017280708492297917), (4669, 0.01725946624106242), (2823, 0.01725584387403392), (1254, 0.017246819747471553), (1579, 0.017215881700153594), (2522, 0.017183339820437734), (1018, 0.01717163016766722), (85, 0.01716683374084807), (2254, 0.017146696532330044), (21, 0.017132709169881816), (2347, 0.01708199192651861), (1119, 0.017068255658150924), (3213, 0.01706411753357518), (511, 0.01704701600132333), (2196, 0.01701042938634657), (622, 0.01701003607153983), (343, 0.016998208929760658), (3306, 0.016983809049261528), (1687, 0.016975920065575988), (3777, 0.01696918961219559), (218, 0.016967515179986587), (3541, 0.01693888315778459), (1216, 0.016899543566294653), (4474, 0.016893713091386063), (3797, 0.01685188164475151), (3528, 0.016840106577459497), (502, 0.016817797849197832), (879, 0.016813174621492687), (3299, 0.01681048714245683), (3862, 0.016798979259125317), (692, 0.016790789528196008), (51, 0.016776155738304585), (677, 0.016768641759283727), (776, 0.016760362585343747), (4178, 0.016754316241999856), (409, 0.016749162793515304), (429, 0.016742619032783096), (3437, 0.016742386014118815), (4379, 0.0167386125038642), (543, 0.016735093895318087), (2207, 0.016728583360504687), (2654, 0.016711069526039575), (1983, 0.016700371088071854), (867, 0.016692177267614242), (374, 0.01668730648852644), (287, 0.016667296018882893), (1224, 0.016665432866359686), (447, 0.016651090525753223), (584, 0.016630936941237955), (2258, 0.01662748283557821), (3407, 0.016614838842926596), (2053, 0.01658179910316427), (2334, 0.016564092584834073), (1897, 0.01654702040771593), (296, 0.01651574051053309), (2919, 0.01650738960645342), (3098, 0.016482764803132047), (2784, 0.016465448536432975), (1740, 0.016446989389685862), (1290, 0.016430449741666058), (2027, 0.016425192779314354), (358, 0.01642039919552467), (3713, 0.016417442527671314), (1609, 0.016413782013585128), (620, 0.016373428245213668), (3976, 0.016372092005025107), (1337, 0.016367020910928974), (652, 0.016354952121349728), (4068, 0.016348477285072466), (1115, 0.016314689004274865), (3699, 0.01630530571785036), (2161, 0.016280278477420206), (762, 0.01625232175068089), (3895, 0.01624242188889721), (43, 0.01623323664280102), (3670, 0.01620193686334959), (1779, 0.016178146943285177), (208, 0.016171277949164488), (470, 0.016168921520036857), (3210, 0.016165092106226277), (1335, 0.016164507438342454), (2284, 0.01614973149195373), (2695, 0.016079702620233137), (3807, 0.016077513133159683), (1232, 0.01604507649666689), (2376, 0.01601869443668364), (4000, 0.016006051666318043), (1445, 0.015987625256558564), (370, 0.015954563468143786), (1483, 0.015947090481268064), (988, 0.015917568698717362), (586, 0.015916342043190642), (4627, 0.015907287339427673), (1192, 0.01590333226565988), (1252, 0.01590254111889527), (534, 0.01588078253035058), (2931, 0.01585706269017214), (1682, 0.015847523637099833), (989, 0.015791873090469727), (895, 0.015769002598336242), (1621, 0.01575295481685969), (2216, 0.01575009990577406), (4387, 0.01573564377501898), (1509, 0.015734107038206185), (799, 0.015716522315392716), (1035, 0.01565869844749372), (899, 0.01564834092741655), (1045, 0.015648122657118523), (4673, 0.015639656544542985), (1114, 0.015633335985073934), (1523, 0.015621223522081798), (676, 0.015613494296549978), (3370, 0.015610479705162775), (2988, 0.015598265353228873), (3558, 0.015577991873804438), (2290, 0.015560514111096945), (2045, 0.015542020563691989), (1058, 0.015538337051921453), (87, 0.015537461309249873), (2910, 0.015532159053094042), (1967, 0.015531370036478876), (4583, 0.01552777466011609), (957, 0.01552069675909727), (1361, 0.015483038466038681), (929, 0.015480217438052588), (2024, 0.015467513738314256), (1481, 0.015465640686853788), (4255, 0.015450535349702255), (1413, 0.015437216264066876), (842, 0.015425729785816758), (3660, 0.015423988633206591), (1512, 0.015414420753645809), (18, 0.015400394657807157), (934, 0.015390968040943682), (251, 0.015376714062482802), (4124, 0.015351550162876003), (1741, 0.01533551872903662), (52, 0.01532931960674764), (1876, 0.015317312935787518), (1278, 0.015303965762983509), (1478, 0.015292768051157007), (4374, 0.015285466424358367), (2815, 0.015273044492461049), (2224, 0.015262969168144288), (1906, 0.015248674542061816), (1116, 0.015218600907082843), (3819, 0.015201432098068773), (181, 0.015189304668432092), (4482, 0.015184415907237184), (1919, 0.015165487417601976), (878, 0.015163831680102213), (236, 0.01514358437731287), (276, 0.015097285692711062), (2639, 0.015044167536536878), (1343, 0.015037203067828162), (1183, 0.015020714573280244), (2298, 0.015010904821586755), (4486, 0.014997079463393955), (3421, 0.014990165468067645), (866, 0.014986404681165416), (1665, 0.01497645026848558), (1107, 0.014963238574060431), (3580, 0.01494133216002564), (510, 0.014913374374574769), (1880, 0.014899261385704706), (2008, 0.014891921098716215), (2632, 0.014887012769984725), (317, 0.014854970524428985), (3375, 0.014829684664526112), (4314, 0.01482593963265099), (4576, 0.01482493548049954), (1667, 0.01482449200846575), (829, 0.014803575225763489), (4610, 0.014797022850839742), (1465, 0.014776367202784909), (604, 0.014719507016650615), (1815, 0.014717987638234415), (3741, 0.014715983105463378), (1864, 0.014683194425002797), (1360, 0.01467649766808029), (1461, 0.01466876943487318), (1796, 0.014634866499985308), (1237, 0.014628088973887201), (1680, 0.014617466165577617), (3318, 0.01460886279811241), (1595, 0.014591313048807824), (905, 0.014590610024282186), (844, 0.01457982742063901), (496, 0.01457442676857829), (2121, 0.014523683741466481), (1945, 0.014519321198222048), (356, 0.014517199673522685), (2644, 0.014509888101667992), (1255, 0.014505436981553127), (1000, 0.01446367023255319), (1739, 0.014419510561607951), (2486, 0.014391705739118781), (775, 0.014384900510575619), (760, 0.014383995660774876), (4121, 0.014379288956697479), (742, 0.014351325010212804), (1401, 0.014339002610215947), (231, 0.014327139096663343), (1317, 0.014322950799436733), (1895, 0.014320059675069633), (900, 0.014282928694477164), (1986, 0.014274504977435362), (207, 0.014259310156958728), (3076, 0.014255724415923144), (963, 0.014243540329830887), (1152, 0.014217056307768972), (2066, 0.014196406297523109), (2617, 0.014170071661494196), (4524, 0.01416475964399332), (3110, 0.01416250625743366), (2969, 0.014157030895863301), (3637, 0.014133168358552783), (1519, 0.014127139296871937), (332, 0.014100202145251966), (1128, 0.014053247950158734), (3295, 0.014023284429744244), (1331, 0.014013198750290858), (653, 0.013993140128167575), (875, 0.013956851344854863), (2412, 0.013942172676865356), (733, 0.01393660270384529), (1681, 0.013934038373278883), (814, 0.01388407673750333), (2803, 0.01388359355553219), (70, 0.013875266981185408), (1220, 0.013841072064988072), (3356, 0.013831145515600865), (190, 0.013816567109124812), (678, 0.013813933337876744), (3659, 0.01380195328535214), (2447, 0.01378333148805708), (2978, 0.013759741001934313), (936, 0.013753700168320369), (3108, 0.013712505333397493), (4095, 0.013701224353551315), (2252, 0.013680804193434655), (732, 0.013655497651675102), (1005, 0.013646033906770888), (2771, 0.013636747194558273), (906, 0.013629329797218221), (2366, 0.01362607030314129), (800, 0.013609125146486085), (125, 0.013604923513669065), (2963, 0.013601011323190674), (833, 0.013587559456932404), (3861, 0.013561073256580463), (537, 0.013544716941936354), (2000, 0.013542715970373133), (407, 0.013541463151029446), (609, 0.013534743891723603), (1239, 0.013502308204613062), (4510, 0.013499914345040949), (418, 0.013478473392950822), (527, 0.013478280822943263), (7, 0.013458604229000611), (1009, 0.013452299706564946), (1436, 0.013442262957296607), (654, 0.0134393178104565), (1934, 0.013436721758758912), (2555, 0.013423960986429529), (545, 0.013421646918445652), (1185, 0.013376338745058607), (2602, 0.013351922945362197), (4265, 0.013350700830361845), (1047, 0.013328830139825774), (2874, 0.01332870742207597), (2460, 0.013293567028168406), (3958, 0.01326411626091905), (1949, 0.013261790645956057), (2780, 0.013261287878193386), (3630, 0.013256763270373846), (1432, 0.013245188552977214), (1104, 0.013236575503638041), (201, 0.013215112763798328), (2805, 0.01321234288536874), (928, 0.013211124980469127), (2177, 0.013204880598953998), (3507, 0.0131789677578723), (1567, 0.013157123066690963), (149, 0.013156881701437296), (3317, 0.013131346326596368), (3387, 0.013113697733167583), (3240, 0.013109424990844578), (4344, 0.013108554537921856), (3756, 0.013103143527338545), (1215, 0.013096751011586607), (3849, 0.013079215687804307), (1542, 0.013071741985744848), (1293, 0.013062629594358787), (2697, 0.013057396228334147), (918, 0.013051599610565769), (1802, 0.01303495412880651), (684, 0.013020454730816453), (1303, 0.013016794973714604), (1654, 0.013015521668125437), (635, 0.01300883091953779), (2474, 0.012999006903986596), (4337, 0.012986882779311058), (2788, 0.012979764147440016), (1787, 0.012972535675265129), (1376, 0.012964590283956735), (1958, 0.012963432348598886), (2925, 0.012950503377269277), (82, 0.012945155656242295), (1989, 0.012941193712420066), (13, 0.01293777926177687), (1799, 0.0129352363108887), (1988, 0.012907778657569546), (452, 0.012881664060739964), (1419, 0.012826135600924313), (75, 0.012823302751804077), (664, 0.012808935420658148), (4477, 0.012789900098547417), (1342, 0.012783509553196864), (341, 0.012763881339438173), (931, 0.012750548901495174), (560, 0.01270349824213746), (1455, 0.012701836497396223), (4148, 0.01269643200947474), (648, 0.012685849539105721), (1194, 0.012663555523964138), (4623, 0.012657862442382525), (1812, 0.012656563755654278), (3957, 0.012649636332610173), (2625, 0.012622496388218754), (2336, 0.01261806717048998), (2280, 0.01260751781547872), (274, 0.012552144861550549), (3747, 0.012520440284779066), (1407, 0.012503814299656347), (4187, 0.012493556289776893), (1099, 0.012482524672164381), (244, 0.012471546021817704), (2913, 0.01246354481221681), (86, 0.01246226157499776), (1157, 0.01243391437966466), (523, 0.012429518803231992), (1714, 0.012418445082814112), (1406, 0.012413460780668864), (1396, 0.012408524043788966), (500, 0.012395429695081825), (2178, 0.012394198767623616), (825, 0.01235670794886468), (313, 0.0123552267894712), (1310, 0.012351265882260215), (3750, 0.01234909873048225), (2057, 0.012348184419588924), (130, 0.012341530113626584), (72, 0.012334747295025967), (2918, 0.012324379834096053), (1858, 0.012319077805666294), (2005, 0.01231614818366842), (4543, 0.012312551564256306), (4216, 0.01230843588814573), (790, 0.012283385761270022), (1230, 0.012275478346163493), (683, 0.012259835791772776), (915, 0.012251232382294735), (3582, 0.012243685265976594), (809, 0.0122331881646227), (1266, 0.012228424736293788), (2206, 0.012220090472990766), (4481, 0.01219878955617047), (719, 0.012198425210637954), (1870, 0.01216615839896959), (1761, 0.012159517584199137), (4551, 0.012142024013539074), (3794, 0.012093596375128853), (2739, 0.012088863540971814), (1754, 0.012086765168034481), (1630, 0.01205908520498944), (1923, 0.012055641745060637), (4596, 0.012038587512982637), (949, 0.01203120688496108), (2421, 0.012028624910310754), (2145, 0.012015867774030414), (3924, 0.012012583689223318), (1054, 0.011992669869822512), (1090, 0.01197101712751069), (827, 0.011937352291060275), (2769, 0.011913565292130451), (3524, 0.011889387411704016), (1992, 0.011885681994076781), (1420, 0.01188190762041622), (1873, 0.01187817305255362), (417, 0.011866890726181231), (2097, 0.011865254091370231), (1249, 0.011865196564876118), (3118, 0.011855167089646266), (4325, 0.01184384497114969), (1012, 0.011827676687912719), (532, 0.011826543477210426), (2429, 0.0118020008349968), (1874, 0.011773849761989124), (4235, 0.011755876741294646), (2162, 0.01175459769516372), (3993, 0.011752773879702583), (1773, 0.01172731038367809), (2688, 0.01172251499305029), (695, 0.011715961831822523), (3951, 0.011713497577943415), (304, 0.011712364879963215), (1852, 0.01171106901059605), (3775, 0.01170987716232082), (1551, 0.011707542309843277), (801, 0.01169152136769449), (266, 0.011684878446525573), (792, 0.011683663491249895), (485, 0.011676002998492552), (2480, 0.011672456474412143), (271, 0.01167233077786663), (1442, 0.011664471111827673), (1789, 0.01165953811862486), (322, 0.011655031832387053), (1696, 0.011649312048812423), (483, 0.011624069045163062), (206, 0.01161066399368013), (1339, 0.011605971324175788), (3297, 0.011592757818477292), (3903, 0.011584305263393902), (4164, 0.011571546742808036), (1234, 0.011563950597560728), (291, 0.01155714778618191), (148, 0.011543306421215368), (847, 0.011539145087030828), (3382, 0.011538839679048956), (2062, 0.011538743391128536), (3860, 0.011524340836177187), (1957, 0.011513879209895364), (1259, 0.01151069002602629), (4033, 0.011505082718688787), (273, 0.011502214879338763), (1736, 0.011501543458872667), (1061, 0.011473094155001171), (1727, 0.011472351961701882), (501, 0.011466211155211185), (270, 0.011453564848460402), (321, 0.011452679697907177), (2016, 0.011427767886380143), (4366, 0.011425393331233706), (170, 0.011411846240908574), (2680, 0.011400794752188161), (3822, 0.011384420378039111), (2546, 0.011375504600078686), (2740, 0.011374212720439023), (737, 0.01136985749573325), (2436, 0.011359607519292252), (806, 0.011341166691723165), (47, 0.011330186286435569), (57, 0.011322732589940607), (216, 0.011310166456405996), (538, 0.01130684621260917), (333, 0.011293839292437258), (1694, 0.01129146441648652), (3099, 0.011291142929420166), (542, 0.0112778529378363), (2126, 0.011275797491587263), (555, 0.011261302758735884), (3070, 0.011238396964774685), (4605, 0.011232523220843659), (1334, 0.011216274009739735), (2871, 0.01120888606542764), (2489, 0.011204757062646599), (994, 0.011160623756435617), (1440, 0.011152466921656605), (715, 0.011144048775056627), (1723, 0.011143089067222264), (544, 0.011127266485748386), (3232, 0.011124711522356848), (2992, 0.011122372412669057), (4553, 0.011122249222411668), (3426, 0.011120993407061724), (468, 0.01111939369464143), (4435, 0.01110824406773444), (1662, 0.0111048936900307), (1348, 0.011097148520856545), (3155, 0.011084263730440913), (99, 0.011074306545669908), (1922, 0.011061642766081686), (2250, 0.010948899155927982), (5, 0.010947051178122173), (3612, 0.01094299363039707), (4060, 0.010935346112146938), (894, 0.010913641282300022), (4371, 0.01090871260038639), (1438, 0.010904877221168927), (1359, 0.010890542457831307), (2512, 0.010887418084521051), (3888, 0.010872517292749115), (354, 0.010866182868191807), (1798, 0.010843909110829553), (105, 0.010841940916790617), (621, 0.010829951440420666), (1338, 0.010818810212680788), (1619, 0.010799345836266318), (3674, 0.010796287555113436), (2565, 0.010769483426786302), (2964, 0.01075601943148866), (1781, 0.010746739513729085), (3264, 0.010745275210256275), (1300, 0.010742058219668824), (3218, 0.010729778873945252), (1075, 0.0107177590242792), (243, 0.010716448043334223), (4442, 0.010712450827952223), (1951, 0.010701151305013798), (2029, 0.010679667085959594), (2929, 0.01066366246506201), (327, 0.010650195279233977), (396, 0.010645359074229794), (2418, 0.010638485884180744), (1092, 0.010638126848090707), (4192, 0.010630793836801825), (3919, 0.010626608044540123), (4106, 0.010623609053091163), (2640, 0.010618283979193986), (4025, 0.010608267116892982), (2601, 0.010604010776068129), (3689, 0.01056545229795028), (1006, 0.010563849513365748), (1475, 0.01054703734385569), (1048, 0.010532403173162256), (3599, 0.010526791480640669), (979, 0.010516826338601706), (1382, 0.01051266268247613), (1418, 0.010507067134596799), (1582, 0.01050131437948382), (3536, 0.01049409109691563), (1494, 0.010488451133216002), (631, 0.010474687683174208), (472, 0.01047346343023321), (1860, 0.010472964733853988), (2074, 0.010469212972506702), (1124, 0.010464052041709289), (4612, 0.010442541501270011), (0, 0.010441147279099505), (2752, 0.010441105662108567), (2744, 0.010432797586622782), (1854, 0.010428284603612333), (3667, 0.010427509911607553), (434, 0.010402155702198514), (1688, 0.010394711131635785), (2820, 0.01037619124813387), (435, 0.010372512751822096), (3386, 0.010356991812687889), (828, 0.010353804069916305), (1620, 0.010352291451816549), (2798, 0.01034702578027059), (2193, 0.010345245463851654), (850, 0.010341656617702682), (1936, 0.010335320007203172), (939, 0.010334988623658715), (2977, 0.010329915095879591), (1087, 0.010327633897755262), (3643, 0.010295049976474813), (2277, 0.010286676538316015), (182, 0.010274249094582164), (353, 0.010268662977370004), (3941, 0.010257519406364442), (4158, 0.01025446712577343), (897, 0.010237374586621887), (2144, 0.010214053505236938), (111, 0.010212705836912488), (2459, 0.010184382051833571), (79, 0.010166181530774044), (558, 0.010163771264412213), (104, 0.010162001093338), (3901, 0.010148696287917869), (288, 0.010143437746966848), (3120, 0.010136243493549442), (668, 0.01013085428878989), (1612, 0.010129935293979481), (970, 0.010117846859519372), (96, 0.010115570309482605), (697, 0.010110510497737393), (3346, 0.0101061878892288), (346, 0.010078601426336223), (4502, 0.010068434440323619), (3596, 0.010047091613450212), (2197, 0.010044467332580846), (2463, 0.010038258881467017), (3267, 0.010031222470990777), (3215, 0.010031122544974791), (464, 0.010027259733678861), (1279, 0.010010088469065509), (3237, 0.010000039984424516), (78, 0.0099968404347772), (1807, 0.00998361626366812), (2980, 0.009983518510999833), (4511, 0.009970224015225322), (4685, 0.009967592504276422), (1387, 0.009966448870453233), (3418, 0.009949155063757226), (446, 0.009928264027029041), (2103, 0.009920688409998877), (1096, 0.009901770598585786), (119, 0.009890855969312298), (3046, 0.009882417362485263), (1968, 0.009879939324462319), (2789, 0.009873597614086712), (285, 0.009872656436205947), (2065, 0.00986969947283905), (782, 0.009866851073219399), (1900, 0.00985123711524154), (19, 0.009830896740030078), (651, 0.009830437738094618), (3956, 0.009829804928299461), (2698, 0.009825788844998252), (817, 0.009817244729076104), (4336, 0.009804902305418115), (3826, 0.009772015264988672), (2309, 0.009764575197681268), (2264, 0.009763672346346423), (443, 0.009758581239106744), (1446, 0.009748835050693912), (3784, 0.009741606004409797), (164, 0.00973617916855954), (2143, 0.00973508523816189), (3246, 0.009704616349803316), (2427, 0.009698760035485612), (1776, 0.009693474775956251), (3733, 0.009685210397424747), (2473, 0.009677290745083746), (966, 0.009648237406623196), (851, 0.009636472137901992), (2572, 0.009623620958153743), (4257, 0.009615766351169222), (948, 0.009612208884711447), (1710, 0.00960107701892654), (1924, 0.009591592593084172), (3067, 0.009590774341391764), (3151, 0.009589723731589039), (3954, 0.00958059822164415), (4232, 0.009573960383867555), (962, 0.009569590811167287), (307, 0.009566741113403459), (2812, 0.00955259717014785), (2303, 0.00954636739792932), (1206, 0.009541632669073055), (3399, 0.009535472950057196), (107, 0.009533462078035314), (1276, 0.009526137529538323), (3960, 0.009522662908672503), (1793, 0.009510716128735452), (921, 0.009480722102878973), (734, 0.009457372545435855), (1650, 0.009454256370832389), (4494, 0.009453754266409622), (3196, 0.009426001305102747), (3829, 0.009421497319253753), (436, 0.009420082071178108), (1875, 0.009411497693793416), (1514, 0.009406097089722384), (4664, 0.009397186895132746), (729, 0.009395861540978856), (1498, 0.009391804802881258), (1920, 0.009391667113130855), (1948, 0.00937913758197503), (1701, 0.009377122994278047), (838, 0.009370713999018643), (1489, 0.009367321634746864), (688, 0.009362244741915016), (1308, 0.009349386774740766), (3389, 0.009348323507896404), (1971, 0.00932216244034122), (4649, 0.009320338249437616), (1477, 0.009313202281451348), (3329, 0.009309910732902072), (1050, 0.009304914889561906), (183, 0.009293243670984653), (2428, 0.009287770247919222), (2076, 0.009274541673655665), (4601, 0.009270420758316439), (1454, 0.009255063499719015), (1730, 0.009243336790322243), (4046, 0.00923532442344316), (1078, 0.009199916471569595), (449, 0.009195280470380436), (350, 0.009185158867023573), (1538, 0.009183243761238554), (2236, 0.009182658780839695), (1866, 0.00916660452513392), (597, 0.009164680343903529), (1690, 0.009158840084896178), (4013, 0.00915868835685306), (2285, 0.009155363680144687), (2265, 0.009139305058784896), (1762, 0.009100086526044288), (2477, 0.009098613664604661), (728, 0.00909649940834218), (1539, 0.009086632375876213), (3771, 0.009086564736783088), (991, 0.009081957728310585), (3516, 0.00907907294289447), (368, 0.009064580310258504), (2949, 0.00905851214348513), (1140, 0.009046104285125617), (4431, 0.009045440861940639), (1537, 0.009044182891472347), (2587, 0.009043656148093418), (4205, 0.009034171462358569), (2104, 0.009022589004681432), (705, 0.009021411265061938), (4038, 0.008982707955413647), (2975, 0.008972505968115075), (816, 0.008963163901108547), (1071, 0.008961150450478772), (2714, 0.008957775260852698), (3, 0.00895327074374604), (1136, 0.008952138838782688), (493, 0.008941840312852424), (1553, 0.008933143240090742), (1484, 0.008916113452030637), (930, 0.008915224967326794), (3780, 0.008912060822269488), (924, 0.008891968931112632), (2158, 0.008890157670561984), (1918, 0.008883104381854787), (716, 0.008877023438681016), (1902, 0.008868556004185034), (1400, 0.008865913443542702), (3096, 0.008863510908680759), (2942, 0.008862143959991773), (4757, 0.008861141165108059), (1225, 0.008855960298019501), (4748, 0.00885187186954977), (1643, 0.008850914564398337), (2088, 0.008848269189826985), (4624, 0.00884735736932923), (845, 0.008843771911248613), (3618, 0.008840222568910636), (1188, 0.008837183296057927), (34, 0.008817182255328324), (255, 0.008816598418502705), (3514, 0.008813362726473681), (1540, 0.008803618140631056), (580, 0.008801159804703005), (32, 0.00879128635470753), (660, 0.008787418914328889), (242, 0.008771121936834329), (4089, 0.00875776827918363), (3666, 0.008753701255627674), (1764, 0.008748393429198845), (1229, 0.00874432864605327), (980, 0.008739877272557787), (60, 0.008733301385413072), (4629, 0.008729812323378956), (445, 0.00872361928677088), (606, 0.008718482653249284), (4470, 0.008705100387304654), (743, 0.008687050718998163), (4335, 0.008681381880583677), (3233, 0.008670370258587802), (3623, 0.00866586078183404), (509, 0.008657816539074638), (1833, 0.008655699002048545), (2933, 0.008649817882087418), (38, 0.008638597026283461), (403, 0.008638326059226691), (1507, 0.008636607709357447), (4098, 0.008636509303698548), (1174, 0.008627357377908769), (1931, 0.00862587147521549), (3571, 0.008612768450508512), (3634, 0.008605121843017994), (750, 0.008604040739570482), (1312, 0.008597584960543105), (3303, 0.008580032414966805), (238, 0.008577684516256645), (4105, 0.008574177062669929), (2603, 0.008559682359510068), (1138, 0.008554122112850778), (1743, 0.00854949173732031), (3821, 0.008548365035315895), (3653, 0.008534832588127811), (2211, 0.00853149923666941), (2091, 0.008527903076334876), (2061, 0.008521542968291043), (636, 0.008519936300519029), (1260, 0.008510118016426023), (4677, 0.00850815771044932), (2304, 0.008498179011275312), (4715, 0.008497143708286952), (1472, 0.008494276043730162), (2606, 0.008493002604559024), (1223, 0.008489311940174157), (3436, 0.008482951850512116), (1191, 0.008471615833112253), (1571, 0.00847035076132951), (616, 0.008469728655651973), (696, 0.008462275119040269), (4517, 0.008458245854703674), (385, 0.00841995998815767), (441, 0.008417811516888328), (3125, 0.008405437334988147), (224, 0.008391731800709446), (2844, 0.008388329158511792), (3453, 0.008380260596473935), (2563, 0.008378991098220831), (1806, 0.008376321940275048), (3435, 0.008375743131141073), (1179, 0.008370979453914773), (843, 0.008360851096267167), (1488, 0.008360560248673442), (162, 0.008357869754944198), (1811, 0.008357676228732073), (1950, 0.008349742006968263), (3192, 0.008338597685793847), (769, 0.008337798326086549), (727, 0.008328350912566573), (4284, 0.008319948020089774), (3195, 0.008316475365404976), (2069, 0.008312202046931623), (3499, 0.008306957549841358), (3624, 0.00830454069344993), (156, 0.008293792350641285), (113, 0.008288837239934727), (256, 0.00826555150496484), (4309, 0.008263104675317028), (880, 0.00825624764302708), (4118, 0.008242344791642495), (3586, 0.008236893691796046), (1037, 0.008236716625334763), (3645, 0.0082347869356487), (4299, 0.008227332616926177), (3410, 0.008224638523380024), (1653, 0.008213848138295024), (1282, 0.008211742045266751), (3456, 0.008174470194302726), (1705, 0.00816530913848031), (180, 0.008161044835392199), (4094, 0.00815866453901885), (3696, 0.008152867726599917), (4289, 0.00815134848963829), (1044, 0.008143342663654827), (4670, 0.008134053791431988), (3487, 0.008108326681594611), (63, 0.008102208172435116), (923, 0.008095440213019504), (309, 0.008093770335149488), (3905, 0.008093748749069719), (10, 0.00809104619072816), (3122, 0.00808888062984964), (4523, 0.008079056798570097), (4045, 0.008073051852204449), (1123, 0.008060603591098729), (1421, 0.008057334486435011), (4557, 0.008054669528464039), (1144, 0.008052667357794937), (3259, 0.008047082271769819), (474, 0.00804537159357806), (4233, 0.008039005579324705), (3464, 0.008033541206111185), (143, 0.008019465971023204), (3152, 0.008005692477098756), (1001, 0.007996423151279453), (1375, 0.007991473174039986), (159, 0.007982912843428865), (1177, 0.007980648933111387), (1747, 0.007980357042335393), (3734, 0.007975353792417277), (1041, 0.007968510135050247), (582, 0.007963743572101813), (31, 0.00793449887672365), (2496, 0.00792713452723335), (1536, 0.00792688297299414), (644, 0.007919640845409453), (2899, 0.007913004117944726), (3452, 0.007904188971371826), (2519, 0.007901998012555153), (2348, 0.007894336660331272), (1819, 0.007893111423262333), (4591, 0.007881788513697323), (868, 0.00786788875578202), (1555, 0.00784486649712089), (42, 0.007841870429272103), (1014, 0.00784067288138829), (744, 0.007836263135267287), (3342, 0.007832020944161086), (869, 0.007825857675138008), (1433, 0.007818100393801807), (4652, 0.007817813972249768), (4093, 0.007813715065146096), (1735, 0.007799147742041117), (3460, 0.007787081399104152), (1760, 0.007780711769797157), (4282, 0.0077730848935482835), (4182, 0.007767625678611023), (3876, 0.007763215381710106), (1448, 0.007759316034091946), (2510, 0.007759224089652161), (1462, 0.007750476091080347), (2339, 0.007749126296334249), (3039, 0.007738531620186105), (3474, 0.007733992456247358), (910, 0.007732981398376375), (4581, 0.007732679366614017), (863, 0.007704007670748006), (908, 0.007697920041844574), (2994, 0.0076908189762618295), (1388, 0.007687138901834436), (4184, 0.007679823844001591), (4154, 0.0076778725825236045), (494, 0.007666679501625998), (3705, 0.007656313553095888), (608, 0.007635318120257029), (2031, 0.007632984000112074), (581, 0.007623390474940041), (981, 0.007615785810885949), (563, 0.007609055133921901), (1069, 0.007607898744250459), (3570, 0.007592966130201116), (804, 0.007591315803254098), (1964, 0.007588192246313503), (3841, 0.007587207423533769), (81, 0.007576975040192393), (1414, 0.0075252339964386045), (2580, 0.0075238872756223365), (50, 0.0075212297332106545), (2724, 0.007506672921339757), (200, 0.007503716476197307), (1504, 0.007497344911243569), (503, 0.007492154973193403), (1608, 0.007488782119968533), (1486, 0.0074866032001830824), (2825, 0.007483150896356833), (4077, 0.007477253157837711), (4661, 0.00746116896375587), (2101, 0.007459890253487317), (283, 0.0074543667130862815), (1306, 0.007450804829779551), (363, 0.007427098188668905), (1330, 0.007423246754992902), (4226, 0.007420806110187647), (4432, 0.007412762787356407), (4196, 0.007410692375492521), (3531, 0.007406848280096524), (4061, 0.007406747287686814), (539, 0.007405220851075734), (2244, 0.007402943694559995), (1583, 0.007400565671485708), (217, 0.007393465868036351), (232, 0.007381867044546623), (3149, 0.007360099857421982), (1125, 0.007355364969586169), (367, 0.007328506959496074), (1076, 0.00732712970492284), (340, 0.007326372177863346), (3910, 0.007324911026778418), (2962, 0.007300964370744261), (1231, 0.00729470275939581), (861, 0.007294123625528266), (3457, 0.007273669612071088), (2897, 0.0072690905596032845), (642, 0.007268295846286265), (413, 0.007266825114964164), (1737, 0.0072342299314531846), (301, 0.007210438834710549), (1738, 0.007207942556563854), (2184, 0.0072078372413060835), (748, 0.00720306669432303), (422, 0.007187507666351081), (940, 0.007185906674375465), (311, 0.007164825694240686), (1356, 0.007155610878013531), (617, 0.007154716769759479), (600, 0.007122870095287047), (4008, 0.00710719643409215), (1627, 0.007100044083445956), (1718, 0.007096771859436999), (1841, 0.007087539364345441), (745, 0.007080851553819188), (752, 0.007068952983555793), (386, 0.007065814348695397), (2809, 0.007063672791521178), (122, 0.007061058219344097), (4467, 0.0070556128627895925), (2355, 0.007050869072585097), (2691, 0.007049782461756984), (16, 0.007046668573323063), (3331, 0.007043169338225481), (1987, 0.007040600014030203), (1911, 0.0070358471220890355), (3648, 0.007032156489808556), (671, 0.0070221610914984085), (3265, 0.007011901978510181), (4733, 0.007009417705307899), (4388, 0.006999905258680022), (1250, 0.0069932535122700715), (2816, 0.006988766961596558), (2726, 0.006988186562327794), (3458, 0.006984920644143251), (1111, 0.006963372677812101), (3842, 0.0069623293986803055), (778, 0.006957417228955692), (56, 0.0069461336571447355), (1425, 0.006931160120666765), (131, 0.0069303543804745136), (2424, 0.006924914675373582), (4210, 0.006901038336983478), (2732, 0.006899835761333141), (3632, 0.006898549869803103), (1816, 0.006895695856020301), (4001, 0.006846578387637322), (3926, 0.0068430554228861035), (1374, 0.006830240472715386), (1644, 0.006824252910086289), (497, 0.006823098340127917), (3033, 0.006820817678630758), (1172, 0.006815323855566544), (4099, 0.006812735136423775), (1908, 0.006807654847502003), (2335, 0.0068056766832764355), (4738, 0.006802317072062227), (1692, 0.006801616132535384), (2833, 0.006801071665129143), (4674, 0.006794042635310492), (1501, 0.006787766964365046), (758, 0.006786364356330567), (1345, 0.0067787786509158334), (834, 0.006774825172753426), (2503, 0.006772213728604281), (953, 0.006744283023429465), (1238, 0.006740660188636788), (22, 0.006730814107924867), (1867, 0.0067282467760271854), (1797, 0.00671847802083914), (1849, 0.0067138175830612525), (1913, 0.0067097097932169785), (1329, 0.0066967865374115655), (1094, 0.00666727317170069), (1213, 0.006666693793955068), (230, 0.006665305805061796), (3066, 0.006657951507414893), (3288, 0.006627368909857252), (2239, 0.006614850542148017), (2095, 0.006597990937405928), (3998, 0.006592760902079441), (4367, 0.006592469571902001), (1267, 0.006591559327807388), (4564, 0.006581718979419451), (4303, 0.006570770434681919), (2056, 0.00656701314360483), (4217, 0.006535786810552328), (4459, 0.006530867217790051), (862, 0.0065256375404016895), (300, 0.006503306230945066), (571, 0.0064992283955627745), (521, 0.0064908659457451915), (1327, 0.0064889750727292915), (1818, 0.006475989261094452), (1664, 0.006471385561848233), (1552, 0.0064689896063583755), (835, 0.006456791982883005), (1526, 0.006452448412028296), (3566, 0.006451362561577593), (562, 0.006427778293190243), (2202, 0.006426676040639335), (1214, 0.006426065640773941), (2160, 0.006425478430255909), (1981, 0.00641979745693703), (263, 0.006408901265284806), (3658, 0.0064046142085868165), (3864, 0.006393897836429207), (1307, 0.006386729886939072), (4236, 0.0063710633784467945), (1746, 0.0063651015921102685), (3909, 0.006357578512534317), (1903, 0.0063500082376524315), (2205, 0.006349249168713258), (568, 0.006322895094963208), (4342, 0.006317845935872991), (9, 0.006307533346415295), (4009, 0.006301504025268002), (35, 0.006298910429252719), (3114, 0.0062986988931687145), (248, 0.006297967519814373), (2175, 0.006288981014538355), (3244, 0.006246693475953228), (821, 0.006231160238979948), (3932, 0.0062109475356219536), (2203, 0.006203312026421321), (583, 0.006199562082635334), (4055, 0.006188520691035773), (958, 0.0061880524476424165), (3448, 0.006169001878898796), (4518, 0.006168392859800552), (1344, 0.006160918460739993), (4653, 0.006160843655931058), (3825, 0.006159054828896768), (2058, 0.006125079195345053), (4057, 0.00612215464331115), (2156, 0.006095150274537235), (1715, 0.0060944859839233674), (3865, 0.0060856225732958515), (2185, 0.006073167413826491), (1316, 0.006071923251139433), (4110, 0.006051953989906793), (3598, 0.006043904958796171), (512, 0.006018375566887244), (2426, 0.005999809219380953), (4385, 0.005985531928162601), (1684, 0.0059835165731631276), (2935, 0.005981759311026059), (831, 0.005965392838904394), (3509, 0.005906212780028205), (1863, 0.005895362926733134), (3022, 0.0058874559742315875), (4331, 0.005864668287479057), (1940, 0.005864345218489701), (369, 0.005846225766202846), (3440, 0.005846186148974873), (2291, 0.005836367589192031), (177, 0.0058292382753677135), (380, 0.0058078210236377015), (3117, 0.0057981751896557816), (1381, 0.00579389420431164), (3164, 0.005793434266750939), (3752, 0.005792065457488486), (2098, 0.005784288299460618), (855, 0.005770351304266245), (2181, 0.005764942300342098), (4151, 0.00574739165835145), (425, 0.005744639187568279), (4462, 0.005743989900668028), (3168, 0.005728052096795692), (4630, 0.005722900511543295), (4261, 0.0057199637237094515), (666, 0.005712010360102816), (2683, 0.005710779723283196), (4120, 0.005680582681462866), (4307, 0.005675806370886361), (3180, 0.005670572364635061), (3158, 0.005657855239625482), (1391, 0.0056575981301759), (1962, 0.005645170539986519), (128, 0.005641008854403184), (1332, 0.005632319505773707), (4119, 0.005620123785182054), (3940, 0.005619915363274527), (2439, 0.00561051042938706), (2665, 0.005601047216033759), (550, 0.0055818594450798625), (2626, 0.005571197567456557), (3604, 0.005566897934098344), (3787, 0.0055631501650805415), (802, 0.00556150777791556), (1554, 0.00555343412113894), (4726, 0.005550136990507604), (3534, 0.0055498815864051055), (102, 0.005546045994530095), (514, 0.005525099384749518), (4240, 0.005520832741893121), (3163, 0.005514237705286988), (303, 0.005512146171172557), (513, 0.005507552758210319), (2136, 0.005507499913451413), (2084, 0.005503081903223336), (1695, 0.005500700408052561), (4595, 0.005498542935704906), (1167, 0.005495516957994539), (1453, 0.005488639737796023), (420, 0.005485388996189593), (1829, 0.005485305005564813), (3468, 0.00548178845972937), (477, 0.005478483527568773), (2774, 0.005477237302974374), (3938, 0.005470177394873108), (1150, 0.005465251975448633), (3438, 0.005462040636762239), (1724, 0.005458726807848642), (6, 0.005451098568769252), (3584, 0.005450494508268333), (4090, 0.005450038006639241), (4312, 0.005447568122353272), (4076, 0.00544584208544671), (3774, 0.005443771583424688), (1952, 0.0054416206855428225), (3451, 0.0054405539453348944), (3782, 0.005429900141255227), (3997, 0.0054254279210845646), (1791, 0.005422947891093437), (3710, 0.005411982339372476), (611, 0.005410544646453907), (2283, 0.005404699354968445), (992, 0.005392118635608791), (1614, 0.005390351094277571), (1426, 0.005388374023690005), (2044, 0.0053836769011522964), (1659, 0.005382414806367185), (2819, 0.005380430636613597), (1502, 0.005380407107233745), (239, 0.005379328007390946), (1575, 0.005373173638897564), (3131, 0.0053715642952359), (2959, 0.0053705110143161035), (1452, 0.005370085538867179), (2022, 0.005365366910132861), (2330, 0.005363323139207283), (765, 0.005358889047762906), (1531, 0.005356679749970225), (4392, 0.005356159529255728), (220, 0.0053557728251997965), (2113, 0.00535186033622022), (1975, 0.005351854729407074), (168, 0.0053517019645748), (1380, 0.005348867403092227), (891, 0.00534829538569888), (2015, 0.0053476474876550245), (1859, 0.005344779386715833), (3897, 0.00534153196659438), (2208, 0.005340771556182831), (1280, 0.0053372071461109455), (4384, 0.005330458293436767), (4639, 0.005330070400701778), (2790, 0.0053294618220517094), (3134, 0.005319658374649367), (1588, 0.005303494645015702), (4621, 0.005303477229225215), (320, 0.005295193436296233), (3769, 0.005290952554864484), (27, 0.0052793784325264785), (1881, 0.005277445155543024), (793, 0.005275733940416759), (1469, 0.005270901887105277), (3995, 0.005268224145535812), (4275, 0.00526091896734647), (3907, 0.005254030574725933), (3124, 0.005245027994524037), (4552, 0.00523750474730688), (95, 0.0052358353705436135), (2947, 0.005235802384059866), (3179, 0.005228365576638773), (4376, 0.005225517273539149), (3191, 0.005215175549646316), (3398, 0.005214446975697893), (4678, 0.005214274907067027), (685, 0.005211205869159977), (902, 0.005205771845951247), (4251, 0.005202335163083019), (4377, 0.0052002462327558905), (3815, 0.005184338800610734), (1901, 0.00517327315211037), (1431, 0.005171183581989123), (4373, 0.00516971829278826), (2278, 0.00516543353312366), (1435, 0.005160977337941287), (2960, 0.005160924551046424), (1587, 0.005158704671626593), (2130, 0.005152558374493238), (3833, 0.0051491302698107935), (1998, 0.005146190560536242), (1930, 0.005145042238886817), (3404, 0.005144200913188807), (3005, 0.005144142565838397), (3520, 0.005142157437343688), (811, 0.005141738484680945), (30, 0.005134977495097245), (118, 0.005134638252220813), (414, 0.005132288439737325), (919, 0.0051232723057327385), (3908, 0.005119224589511237), (2506, 0.005115527079770715), (4103, 0.005106592227740524), (4383, 0.0051060115171272765), (135, 0.005104000718530785), (39, 0.00510285026437801), (4360, 0.005095534718469111), (3205, 0.005084279756456559), (347, 0.0050833378278208954), (4665, 0.00508267341480061), (315, 0.005082513338848587), (4310, 0.005079450973509425), (1566, 0.005078924704274251), (3367, 0.005078681007349859), (451, 0.00507860398327855), (561, 0.00506697801148739), (2246, 0.005066009213797824), (849, 0.0050650813981242175), (619, 0.005053966639960652), (460, 0.005049209609452484), (233, 0.005047388046816989), (4248, 0.005042455717783939), (1573, 0.005041001949999588), (4708, 0.005037445499689178), (467, 0.00503406056323572), (2064, 0.005032636929880134), (2847, 0.005030884314172019), (305, 0.005030668534778388), (1857, 0.005019704462653834), (3432, 0.005015703130032336), (3161, 0.0050154666402138495), (3443, 0.0050088262218589774), (1622, 0.005005417577065742), (1082, 0.004998701459267808), (927, 0.0049969821412219366), (1635, 0.0049921130236094445), (4264, 0.004991920479497659), (1127, 0.004991727614462873), (634, 0.00499054692514084), (375, 0.0049890405170781435), (633, 0.004987610134129894), (389, 0.004979239387505058), (4039, 0.004979016332792142), (3602, 0.004977787902914155), (4211, 0.004977617042188507), (2232, 0.00497242717540917), (90, 0.004969605787555426), (1846, 0.004956908990122782), (3583, 0.004939787807752228), (1953, 0.004939589535655276), (1933, 0.004934345830534985), (3011, 0.004915010043009315), (3555, 0.004914801938657607), (152, 0.004907269069964706), (1347, 0.004898957326114957), (336, 0.004898779470293777), (3886, 0.004887608704136195), (1993, 0.0048795939709357855), (1632, 0.00487200256820167), (3664, 0.004871546613580696), (2787, 0.0048703025151634926), (93, 0.004869793435336991), (2432, 0.0048662909476712354), (4438, 0.004863550790008208), (3126, 0.004861325745639591), (2245, 0.004860033019522193), (3970, 0.0048531067499988385), (260, 0.004851656938768162), (1207, 0.004844335886390848), (4587, 0.004843177230692984), (1633, 0.004842879099053305), (310, 0.004840908716607892), (2711, 0.004835438525471591), (2139, 0.0048270457269343455), (4441, 0.004824034465198995), (1211, 0.0048239996289310035), (1631, 0.004811627986207946), (1428, 0.0048078234540410315), (3361, 0.004805731159829983), (4071, 0.004802656309368302), (3723, 0.004800376353631762), (3824, 0.004790959981878689), (974, 0.00479069032570434), (4585, 0.0047847062944906885), (1914, 0.0047845653984377136), (4292, 0.004783833901615499), (3133, 0.004783418044555583), (3135, 0.004781437511634633), (3881, 0.004773840897810589), (426, 0.004766578214389362), (1451, 0.004765831211715422), (690, 0.004764538537643769), (4328, 0.004764010427445577), (3100, 0.004763756772397282), (3788, 0.0047590507054450166), (3823, 0.004758147000723984), (3338, 0.004756143635305318), (3143, 0.004747976909746449), (2682, 0.004744389652324102), (810, 0.004740527659164416), (3136, 0.004735338659167176), (1562, 0.00472994154812388), (661, 0.004729353878643255), (1480, 0.004724383328737802), (3966, 0.0047215960863957705), (2442, 0.004699616488974241), (1623, 0.004689021406059247), (316, 0.004688769494867632), (4274, 0.004687517730891956), (1197, 0.004684248395216191), (306, 0.004672917815340487), (80, 0.004668793703389937), (4322, 0.004666059048418874), (2984, 0.0046590156799055735), (94, 0.004658027988493124), (1281, 0.004655891501876045), (4339, 0.004638028706635492), (4193, 0.004631619542099127), (397, 0.0046274472068197564), (4044, 0.004611222450929693), (1840, 0.0046090657391466205), (1784, 0.004605507794506124), (3247, 0.004588395639573687), (898, 0.004578086448489511), (893, 0.0045775896915065195), (4290, 0.004570673145539061), (997, 0.004558247766961742), (559, 0.00455602678636934), (191, 0.004554582456518894), (323, 0.004551132380842873), (3495, 0.004542646044960151), (932, 0.00453692224020151), (803, 0.004532794697037885), (1154, 0.004526424509306878), (4582, 0.00450766339671145), (2660, 0.004493108724806249), (3561, 0.004478867561565747), (187, 0.0044704931044067964), (756, 0.004467029593333367), (3619, 0.004463162325562455), (3160, 0.004455016400450705), (4365, 0.00444587903621883), (4468, 0.004434181096608966), (1590, 0.004433524347272985), (1772, 0.004417683142543738), (1699, 0.004417565695024054), (4426, 0.004415704336534027), (3878, 0.004411417517000342), (1925, 0.004408258243155402), (1559, 0.004403843049624983), (2448, 0.004395868737359025), (1546, 0.004394076605274075), (1753, 0.004390837539540081), (3339, 0.004382008077141919), (3219, 0.0043731523786042234), (625, 0.004366862736974103), (3776, 0.004364759095399037), (234, 0.004360495093152513), (1120, 0.0043544587493206935), (2801, 0.004349241091185926), (1309, 0.0043441396733188585), (3806, 0.004329881792104378), (4142, 0.004327924522159578), (2541, 0.00431563411356573), (639, 0.004307887623152008), (3282, 0.00430390239759537), (1458, 0.004299826521672727), (723, 0.004299674028280782), (3405, 0.004294403065338544), (1910, 0.004275294903055469), (640, 0.004267796882069472), (314, 0.004262537493416928), (4606, 0.004260828805984501), (3484, 0.004238600923554256), (1208, 0.004235494569345835), (469, 0.004223688735755713), (4513, 0.004206148339216342), (3140, 0.004198615018632278), (290, 0.004185458375325828), (738, 0.00417706368092823), (295, 0.004165612609952358), (3537, 0.004164942927757491), (2573, 0.004164218574871432), (3159, 0.004156181702630929), (4692, 0.004155494581919511), (3357, 0.004134630350371195), (1164, 0.0041330428232603895), (76, 0.004131988319748353), (3944, 0.00412615398649565), (1395, 0.004123433334486798), (3989, 0.00411634447755357), (3302, 0.004110242096333521), (289, 0.004096951209035392), (2857, 0.004096948964967086), (1576, 0.004077816886476857), (294, 0.004059648128604232), (3206, 0.004046461041281967), (2078, 0.004043587411630375), (2619, 0.0040138743010773685), (2326, 0.0040126364118031905), (1168, 0.003997289309675235), (2434, 0.003987544904501088), (4280, 0.003957868555055502), (3308, 0.003942952351051507), (4633, 0.003939603669624529), (3763, 0.003938340106425999), (4584, 0.003935500302073976), (2720, 0.003912535369227957), (2738, 0.003911184066420547), (2924, 0.003896644889694956), (1169, 0.00389129036093386), (2570, 0.003890224622330772), (2320, 0.0038884018565764965), (4369, 0.003885375329822243), (4002, 0.0038853344061761104), (3866, 0.0038690428889766857), (2884, 0.003864316847560915), (3506, 0.0038617854464779847), (2696, 0.003858406085899771), (3230, 0.0038582843329819463), (4650, 0.0038541641456846035), (448, 0.0038539010874092117), (77, 0.003844656831846205), (4267, 0.003836540953607892), (614, 0.003835935605415583), (4117, 0.0038346175520335324), (985, 0.0038311382072450783), (3425, 0.0038220542829385503), (2629, 0.003820300149513473), (739, 0.0038185090447387013), (3772, 0.0038178916524733452), (508, 0.003809741956656306), (235, 0.003804944823006163), (3186, 0.0038021952972806705), (1887, 0.0037951400821568007), (3611, 0.0037929832896229343), (3639, 0.0037823938772331193), (3587, 0.0037808574516971553), (3962, 0.0037731085174827965), (1594, 0.0037695230175998863), (1349, 0.003769250413633976), (4368, 0.0037689530938882702), (4333, 0.00376792345821864), (4401, 0.003763881285581684), (4535, 0.0037605722734847715), (813, 0.0037571773601177503), (2830, 0.0037556066661050607), (3013, 0.0037523014473899866), (3560, 0.0037482851222645215), (4259, 0.0037482516356691516), (3414, 0.0037468825396265457), (41, 0.003746679490735347), (3273, 0.0037443845584297524), (1474, 0.0037386966430615785), (3593, 0.003737157544699523), (3877, 0.003732570115965935), (3737, 0.0037295445571806645), (4051, 0.0037269845841980086), (444, 0.003725213895634271), (4113, 0.003724258063904116), (857, 0.0037142989299726245), (1210, 0.0037091540173076116), (3003, 0.0037086922133090193), (2592, 0.003705415704028781), (1479, 0.003698674803591594), (3101, 0.0036957997025493976), (1109, 0.003694308982561771), (3677, 0.0036935047234820657), (2410, 0.003691826600634762), (2585, 0.003685286542509575), (1890, 0.0036827572260429773), (1580, 0.0036816144837979064), (4101, 0.0036754709185732007), (1733, 0.0036750750019112484), (2624, 0.003670525397661493), (253, 0.003666620769151949), (4140, 0.0036609011165114375), (4446, 0.0036595612878282655), (3889, 0.0036586542217727264), (4732, 0.003658200166185695), (887, 0.0036577610177713363), (3915, 0.0036568245760442413), (4130, 0.0036565470201255553), (587, 0.003655182061720922), (3183, 0.003651491587304073), (499, 0.003634002507766113), (2595, 0.0036322342242225943), (1907, 0.003631143296352258), (2293, 0.0036307030067996514), (4087, 0.003628166662714097), (3497, 0.003626804723446866), (318, 0.0036250112189676613), (3269, 0.0036243395922729215), (1518, 0.003622384725734383), (2725, 0.0036221226914521193), (3893, 0.00362202891325904), (1848, 0.0036214875554398326), (4545, 0.003620862177916465), (1805, 0.003620452573133872), (4132, 0.0036199914845318907), (3271, 0.00361393485098038), (2882, 0.0036109573216494203), (3757, 0.0036104766475599796), (1959, 0.0036093108155933135), (3873, 0.003608576288553271), (1637, 0.003606749624541215), (791, 0.0036059425405444118), (4680, 0.00360561483869299), (2190, 0.0036047371090620313), (4269, 0.0036029174301822633), (12, 0.0035995461227360573), (3449, 0.003597481268545316), (2940, 0.0035968755355527304), (612, 0.0035946653638146515), (3496, 0.0035943889798426658), (395, 0.0035925697966044602), (2821, 0.0035905914784153973), (1409, 0.003588931211199683), (475, 0.0035876431895629658), (680, 0.003587560587349206), (4574, 0.00358457158127183), (192, 0.003583508716847384), (2609, 0.0035815057345078795), (4505, 0.0035799504370183687), (1153, 0.003578678684464303), (872, 0.003576814313592202), (4575, 0.0035757372720397786), (2755, 0.0035718548038169372), (1324, 0.003570758607420762), (2393, 0.003570479920112173), (2105, 0.0035703601735783807), (74, 0.00356883065400862), (3184, 0.0035687912049719448), (4489, 0.0035667137408780638), (2391, 0.0035648767311253805), (623, 0.0035639349819101994), (246, 0.003559958266591297), (3314, 0.003559291011041308), (4355, 0.0035588176976663706), (2610, 0.0035560879857414337), (4495, 0.0035555138489000515), (2792, 0.0035537521139847417), (3678, 0.003553616889386679), (1896, 0.003553233909700351), (262, 0.003552809124715839), (4286, 0.0035488894079286596), (3654, 0.0035470338162797124), (3882, 0.0035429459044519092), (1916, 0.003542633676486127), (2953, 0.0035424161470267728), (4054, 0.0035403154133669497), (1007, 0.0035365364777890517), (3493, 0.003535828537953902), (1893, 0.0035357562565431987), (456, 0.003535407978258373), (2878, 0.003532890428361236), (3187, 0.0035317692417041343), (3770, 0.0035271649682227365), (4, 0.0035269207415170936), (3406, 0.003525659720120745), (890, 0.0035233767342922953), (2419, 0.0035229144416925214), (3242, 0.0035220393727134233), (3845, 0.0035209200424313127), (4566, 0.003520093724317317), (4361, 0.0035193107372722635), (1660, 0.003517971590695284), (1402, 0.00351428645458195), (4448, 0.003513116253841672), (4363, 0.0035126876592662675), (3150, 0.003511428139313786), (2370, 0.0035113003099211436), (4262, 0.0035106655507994387), (4083, 0.0035104146841850683), (3388, 0.003510182175002465), (4497, 0.003509716037988737), (4420, 0.0035087826402107098), (20, 0.003506798589362555), (2385, 0.0035034196676507396), (884, 0.0035030809370087935), (2148, 0.0034973787954746963), (178, 0.0034964967208471697), (211, 0.003491047097011981), (2319, 0.003490029985304747), (717, 0.003489156317756842), (2083, 0.0034879396221413894), (4340, 0.0034875105637803775), (588, 0.0034872610642052437), (987, 0.003484073665152855), (4334, 0.0034838652338788256), (3920, 0.0034832401403108327), (4136, 0.0034817455139639773), (1439, 0.0034782284733554294), (4287, 0.0034782111674061767), (3526, 0.003477557822377454), (2911, 0.0034773760462735418), (1703, 0.003477102931741737), (11, 0.0034763795711818127), (1851, 0.003476082850000807), (2863, 0.0034757522639908204), (23, 0.003473948754672922), (3241, 0.003473913555740371), (1294, 0.0034729867693496968), (2904, 0.0034689397568612125), (3225, 0.003465900443599385), (2072, 0.0034653429147266227), (1364, 0.0034652392540079316), (1946, 0.003465045590911859), (2405, 0.0034649999221868103), (1765, 0.0034622757929141487), (1717, 0.0034576179286449267), (1355, 0.003455421002108039), (4273, 0.0034546853881795396), (3290, 0.0034532036150716422), (3289, 0.0034491730387652244), (3445, 0.0034461272787969692), (1516, 0.003445160311473003), (865, 0.0034445217074973093), (3198, 0.0034412598951124684), (3517, 0.003441145136024421), (2894, 0.0034402003533524615), (115, 0.003439057174807375), (377, 0.003438288775768876), (3182, 0.0034349039033234638), (2230, 0.003433889455463185), (871, 0.0034331572074586016), (1768, 0.0034318315348771953), (1176, 0.0034317813204792274), (2292, 0.003427159353405849), (969, 0.0034260302248156397), (1122, 0.0034256358340308667), (2746, 0.003421165816652575), (71, 0.0034156056047519247), (2073, 0.003415467573156232), (4501, 0.003413765695403765), (198, 0.0034103347819838203), (3792, 0.003409455174241986), (1533, 0.0034083214604668155), (3551, 0.0034078378976083517), (4563, 0.0034075770300636536), (1204, 0.003405600789018213), (4197, 0.0034053681822850497), (4266, 0.0034053351767141106), (4049, 0.003401478284095822), (1574, 0.003400315381947965), (3739, 0.003399072601733443), (848, 0.0033981585020606982), (4135, 0.003393044556040305), (1722, 0.0033922062211686984), (2397, 0.0033910562358868885), (3429, 0.0033902454355801445), (3283, 0.0033898178365873327), (2192, 0.0033891203578848813), (2554, 0.00338745238354381), (2826, 0.0033864479308662646), (3606, 0.0033862352810440696), (3341, 0.0033843388000701032), (4427, 0.0033840345525955723), (1476, 0.0033832957913752784), (2169, 0.003381566616250822), (4604, 0.0033782315618920648), (3335, 0.00337649350932326), (2430, 0.003374640794317363), (2067, 0.0033735507724678387), (2783, 0.003373527792362901), (1410, 0.003372853837777243), (579, 0.0033728033049884604), (2313, 0.0033724797335286986), (378, 0.0033717478469410724), (4320, 0.0033706746180870682), (3564, 0.003370014341675494), (1170, 0.0033695235273045764), (1378, 0.003369417594931279), (3478, 0.0033683804745030673), (2340, 0.0033682068368314534), (504, 0.0033677391648528586), (226, 0.003367241282102508), (66, 0.0033670634956066065), (2387, 0.003363319484351806), (2354, 0.0033623870397563455), (1163, 0.0033609090782127354), (1706, 0.0033605497221245507), (749, 0.003357895198058811), (3673, 0.0033561961127937597), (2195, 0.0033541632574802718), (1304, 0.0033540443553088783), (4056, 0.0033538145962589204), (1131, 0.0033524574425260485), (2396, 0.0033515844528974057), (4686, 0.0033514644153274493), (3491, 0.003349985337111737), (4409, 0.003344061831044302), (1298, 0.0033415499191719275), (114, 0.0033411995866222278), (3216, 0.0033400028101339503), (2853, 0.0033395100580028655), (3565, 0.003339452466445916), (993, 0.0033389295926902983), (2495, 0.003337953404600192), (2533, 0.0033363373857915814), (348, 0.003332022443212166), (2060, 0.003330144765909921), (1891, 0.0033225380076665713), (400, 0.003322217624678419), (1666, 0.003321544443528331), (490, 0.0033194521389866274), (1550, 0.0033193795765694405), (3906, 0.003318513263472907), (4487, 0.0033183917887277324), (4394, 0.003317972971566314), (1313, 0.0033166868107334887), (973, 0.0033148144472038266), (4330, 0.003313309979462128), (3173, 0.003311958731000111), (466, 0.0033118895369891113), (3381, 0.0033118775683038688), (247, 0.0033110696472194536), (4036, 0.003305092847032188), (4020, 0.003304522298861037), (2416, 0.0033041695104038837), (4687, 0.003302153010145641), (3647, 0.0033012754325138912), (1831, 0.0033012513903025475), (169, 0.0033002618940765984), (1286, 0.0032990175990098057), (1882, 0.0032960486840823548), (1110, 0.003295767112799767), (215, 0.0032940244398751467), (3379, 0.0032925369574994395), (3220, 0.0032912361281503166), (1100, 0.003291111034298195), (3477, 0.003291103051896836), (1598, 0.003290782648907399), (2422, 0.0032881856675709936), (1411, 0.0032874154788205628), (1026, 0.003286076531967687), (2226, 0.003285406083665383), (1084, 0.0032853302981843404), (2401, 0.003284746550629828), (4183, 0.003283124359614968), (98, 0.00328309346695385), (3706, 0.0032824227334791057), (3557, 0.0032817037631523997), (4743, 0.0032807880305105314), (2111, 0.0032751967619501538), (2909, 0.003273362123836759), (959, 0.0032713293316060576), (1813, 0.0032703216230857857), (1284, 0.0032703154871074596), (4472, 0.0032699638067410146), (1422, 0.0032694372174851528), (2945, 0.0032680378274149912), (1319, 0.003265265710031449), (4550, 0.003263861471142169), (541, 0.0032638533581283314), (349, 0.0032634880954688166), (26, 0.0032607854472017006), (4381, 0.00325753573852447), (3412, 0.0032573185643362786), (1247, 0.00325716276128455), (3298, 0.00325696767426788), (1617, 0.003256166750273789), (755, 0.003253529732801083), (3765, 0.003253320378242235), (1408, 0.0032519925801849973), (127, 0.0032510511733387136), (2571, 0.0032478898077458935), (3069, 0.003247035818380939), (2642, 0.0032461451561108697), (1645, 0.003246083509380121), (2461, 0.0032459608636003436), (4069, 0.0032449038477877653), (3075, 0.003242910436350942), (3402, 0.0032415988074686406), (2612, 0.0032409665510211), (3641, 0.003240723450725341), (1969, 0.00323864299224838), (4139, 0.0032369297166809623), (3890, 0.003236242289966074), (4567, 0.0032327160767905167), (1877, 0.0032311953952321136), (3503, 0.003231041644288816), (3348, 0.003228842286997626), (1117, 0.00322787243265554), (2268, 0.003227085445891787), (1463, 0.0032269405994539016), (2117, 0.0032253853239472517), (1027, 0.003224646704548115), (731, 0.0032243770057492184), (4155, 0.003223372558176298), (2131, 0.003218094908744367), (883, 0.0032178055456886846), (1597, 0.003217472721369646), (4536, 0.0032137120325919926), (1929, 0.0032116467057198045), (4254, 0.0032088508945569507), (854, 0.0032087611028546862), (2141, 0.003208527513465323), (3917, 0.0032073131757027295), (2779, 0.003206370422738767), (2242, 0.003205673812382107), (221, 0.003205087148826625), (798, 0.003204084969734308), (1034, 0.0032013719334384725), (2367, 0.003200217581580922), (2765, 0.0031984526402591496), (4085, 0.0031977840018812724), (1416, 0.003196533100555581), (4428, 0.0031953149857655272), (1742, 0.0031950705752726597), (3691, 0.0031922564473179657), (3390, 0.0031892963243520833), (984, 0.0031892656831436043), (1273, 0.0031886034577324257), (2679, 0.0031870836802403166), (767, 0.0031852919004856815), (3214, 0.0031847766825555566), (1032, 0.0031847619372266105), (2965, 0.003182136409444673), (1002, 0.0031802830344107875), (1036, 0.003180053385925971), (4345, 0.0031799197484969244), (507, 0.0031780147874951137), (388, 0.003177302779932158), (3300, 0.003176909670995186), (325, 0.0031754804770943402), (1404, 0.0031752404025098837), (2651, 0.0031743143481724415), (2166, 0.0031738084124313644), (3811, 0.0031732781959132993), (373, 0.003172929966356068), (698, 0.0031727053367145925), (3014, 0.00317112731685805), (1744, 0.003168361410379536), (2800, 0.0031656065509242117), (2634, 0.003163359568156988), (3646, 0.0031615643341556476), (3194, 0.003158924647324445), (2004, 0.0031566785608946224), (4059, 0.003154950828838655), (2068, 0.0031512073243565196), (2099, 0.003148625882244082), (154, 0.003147117164915322), (1663, 0.003145824118375038), (598, 0.0031457239312587676), (3243, 0.0031456794853556625), (655, 0.0031436789375048333), (4011, 0.003143444968729888), (229, 0.003143355797287558), (4206, 0.0031430456351792197), (471, 0.0031429337801775294), (2552, 0.0031417858838789572), (659, 0.003141228869699572), (3057, 0.0031406277214296144), (2525, 0.0031397979134620345), (975, 0.003139777641715875), (2862, 0.0031392533458596186), (1693, 0.003137031084339195), (372, 0.00313592668972567), (4634, 0.00313513574017937), (1558, 0.003131502288402713), (944, 0.00313065019847117), (2446, 0.003129019838619194), (1641, 0.0031240783027122123), (2201, 0.0031232737362819492), (1372, 0.0031227907686526527), (2907, 0.0031218246171073015), (805, 0.003121807610637122), (1456, 0.0031193080048393215), (886, 0.0031171114326628995), (1884, 0.0031166547817374213), (3071, 0.00311644924955959), (2528, 0.0031158216794028417), (589, 0.0031153725603589467), (3147, 0.0031149791005137414), (1357, 0.0031147477534511627), (3725, 0.003111229052273664), (3500, 0.0031102647408678416), (1642, 0.003108957700640764), (1543, 0.0031076016526580537), (399, 0.0031070274845855445), (410, 0.0031067077215060157), (2317, 0.003106388097684824), (2129, 0.0031044134401485585), (1079, 0.0031032135273808526), (355, 0.003101383055419599), (136, 0.003100797564372226), (4348, 0.0030994948040730433), (121, 0.003097425214058687), (624, 0.00309681162641648), (2593, 0.0030906857778686255), (4356, 0.003088405346942398), (4638, 0.003087532441001579), (3369, 0.003087360101502029), (2453, 0.0030849674371180424), (2845, 0.0030848362841689406), (907, 0.003084191400331473), (4479, 0.003081695327325502), (1814, 0.0030810079569653787), (4277, 0.003080709683465849), (359, 0.0030802013234055717), (4620, 0.0030797623666385127), (324, 0.003079740425576205), (4359, 0.0030791630137843745), (4174, 0.0030790486404654173), (457, 0.0030763812186766696), (1672, 0.0030754060548341747), (1782, 0.0030747606065498144), (2728, 0.003072583647452849), (524, 0.0030709722650848056), (2954, 0.0030707853783379486), (3278, 0.0030706756615017897), (3742, 0.0030705582138241235), (416, 0.003066169696221299), (2741, 0.003066142951695661), (3563, 0.003065366269332681), (3304, 0.0030620804581991666), (759, 0.0030607867179033746), (3953, 0.0030526482384781715), (1528, 0.0030518169916176874), (1503, 0.003050560297615784), (1869, 0.003048842447209556), (2338, 0.0030479116314638325), (2399, 0.003047036444746687), (2402, 0.0030430766349984263), (3311, 0.003037231856848047), (1366, 0.003036357047605472), (3327, 0.003036354865884205), (2457, 0.0030360074399757644), (1827, 0.0030349013315743587), (2482, 0.003034727227362019), (158, 0.003031751862225431), (3614, 0.0030310312806482794), (1719, 0.003028375482196359), (3863, 0.003027767396491295), (3027, 0.0030275926016397527), (1605, 0.0030244146345542694), (4712, 0.0030241011050450317), (4080, 0.0030238879219797584), (1625, 0.003022694741863195), (594, 0.0030225769875847283), (3336, 0.0030216864241309617), (2323, 0.003019376750470316), (722, 0.0030167378365937737), (1808, 0.0030154231751012895), (1219, 0.003013761025679274), (1080, 0.0030097743299321287), (3795, 0.0030093053624841333), (1980, 0.0030067705139688425), (4074, 0.003005862445032487), (1921, 0.003004476201053177), (268, 0.003004342638823055), (2213, 0.00300392749328266), (703, 0.0030038989723836984), (856, 0.0030036312340233112), (1318, 0.003003125402538796), (4350, 0.0030021196220787628), (1004, 0.0030005562714145013), (815, 0.0029920318233193567), (1423, 0.0029914492633433248), (3380, 0.002991084072779542), (4143, 0.0029899584801580887), (4343, 0.002987746098046725), (132, 0.002986852536390335), (3986, 0.002985973567167538), (4304, 0.002984501709265906), (4220, 0.002983531061312868), (1251, 0.0029823535590957125), (2047, 0.002980244597875309), (2976, 0.002978960579507584), (1616, 0.0029765777066008527), (2502, 0.0029717848698597883), (1392, 0.0029712445124504107), (92, 0.002970335971339719), (480, 0.0029699601742031964), (1954, 0.002969630500212192), (1199, 0.00296906552303365), (605, 0.002968217684925487), (97, 0.002967056336488607), (2163, 0.0029633789936457863), (4247, 0.0029623835800766975), (184, 0.002961649107015193), (2753, 0.002961566692912437), (1394, 0.0029609384048878197), (3894, 0.0029521599006797727), (249, 0.0029507996649409977), (4066, 0.00294844546988848), (1301, 0.002944829027856193), (712, 0.002943380764060967), (1943, 0.002942245371392525), (495, 0.00293574960899136), (3211, 0.0029349516152627026), (2240, 0.0029346551681970214), (2520, 0.002931168860112983), (2721, 0.0029276003347219813), (647, 0.00292737464381968), (103, 0.002924685978776197), (4473, 0.0029237284756884097), (165, 0.0029225986746936614), (2270, 0.00291458498901594), (1830, 0.002909157501675735), (1217, 0.0029068813744840107), (2747, 0.002902832591407182), (4476, 0.002899678811418627), (1370, 0.002898139059321855), (3393, 0.0028978349213234075), (2382, 0.002896579369201086), (278, 0.002896289905781822), (3569, 0.002896064602886001), (3238, 0.002892466631611041), (1828, 0.0028917686806610625), (2611, 0.002889089681393818), (2527, 0.0028877584572930726), (286, 0.002884887759095117), (1088, 0.002882261218538896), (357, 0.0028785687993959238), (1450, 0.002875385913405028), (3668, 0.0028735984941647367), (4411, 0.0028733206160543034), (432, 0.002871490749313782), (1352, 0.0028708338747264355), (1340, 0.002866041641809237), (626, 0.0028655568620767446), (3657, 0.002862330317988773), (3200, 0.0028610156746575873), (267, 0.0028550952913357036), (1565, 0.0028526178979002594), (3669, 0.0028525837199956127), (3855, 0.0028474570802353516), (1691, 0.0028440971295580616), (4636, 0.0028437195051490543), (2039, 0.0028435423167188383), (1801, 0.0028399700120672576), (951, 0.0028369431176414888), (1042, 0.002834648704909133), (196, 0.002830371513418719), (195, 0.002825808369106307), (2758, 0.0028251446702721368), (3347, 0.002809722605395998), (707, 0.0028074688881138004), (3252, 0.002805275455024217), (2132, 0.0028048936105619596), (2359, 0.0028024023197712592), (2127, 0.0027993308546564646), (2034, 0.0027973837095892256), (1209, 0.0027931771237518976), (901, 0.002792140457343324), (2287, 0.0027916685010055515), (4200, 0.0027877596476128404), (3056, 0.0027840067430133096), (1305, 0.002780437690951113), (645, 0.0027751472190390455), (1427, 0.0027747030433217597), (4015, 0.0027642433100649646), (4626, 0.0027502665578124906), (3024, 0.002749429630223749), (2509, 0.0027485656651054964), (3548, 0.0027410651795016817), (2526, 0.002739804482290703), (1624, 0.002737196217520789), (2441, 0.0027144414503697282), (3575, 0.002695221007165155), (194, 0.0026900961653491787), (3538, 0.0026786313817679327), (1677, 0.0026593046037641983), (2766, 0.0026538746363453597), (3199, 0.0026119997253802696), (4598, 0.0026089813838200957), (607, 0.002590958967280622), (453, 0.0025774459116353495), (351, 0.0025646468737283343), (2636, 0.002541229771502112), (4445, 0.002539277994010439), (3626, 0.002539096069943456), (228, 0.002532750793419837), (1277, 0.002509552636630921), (3546, 0.0024948884214230664), (2902, 0.0024636788827221297), (293, 0.0024006710274271743), (4752, 0.0023969242756319694), (4171, 0.0023941389259956257), (3365, 0.0023756948972693762), (129, 0.002332768340435474), (740, 0.0022436738909146574), (3392, 0.0022426315494257403), (3608, 0.002221101475925196), (1780, 0.0022084474564376374), (24, 0.0022012955140284173), (202, 0.002194537274335569), (2534, 0.001504277418455226), (1, 0.0), (2, 0.0), (8, 0.0), (14, 0.0), (17, 0.0), (28, 0.0), (36, 0.0), (37, 0.0), (40, 0.0), (49, 0.0), (53, 0.0), (54, 0.0), (55, 0.0), (58, 0.0), (59, 0.0), (64, 0.0), (69, 0.0), (73, 0.0), (91, 0.0), (100, 0.0), (101, 0.0), (117, 0.0), (120, 0.0), (133, 0.0), (134, 0.0), (139, 0.0), (140, 0.0), (141, 0.0), (146, 0.0), (150, 0.0), (151, 0.0), (153, 0.0), (157, 0.0), (163, 0.0), (171, 0.0), (174, 0.0), (176, 0.0), (186, 0.0), (188, 0.0), (189, 0.0), (197, 0.0), (205, 0.0), (210, 0.0), (214, 0.0), (219, 0.0), (223, 0.0), (225, 0.0), (227, 0.0), (237, 0.0), (245, 0.0), (252, 0.0), (254, 0.0), (258, 0.0), (259, 0.0), (264, 0.0), (265, 0.0), (272, 0.0), (275, 0.0), (281, 0.0), (297, 0.0), (298, 0.0), (299, 0.0), (302, 0.0), (308, 0.0), (312, 0.0), (319, 0.0), (326, 0.0), (331, 0.0), (335, 0.0), (337, 0.0), (338, 0.0), (339, 0.0), (344, 0.0), (352, 0.0), (361, 0.0), (362, 0.0), (365, 0.0), (366, 0.0), (376, 0.0), (379, 0.0), (382, 0.0), (390, 0.0), (391, 0.0), (392, 0.0), (393, 0.0), (394, 0.0), (401, 0.0), (402, 0.0), (404, 0.0), (405, 0.0), (406, 0.0), (411, 0.0), (415, 0.0), (419, 0.0), (423, 0.0), (427, 0.0), (431, 0.0), (437, 0.0), (439, 0.0), (440, 0.0), (454, 0.0), (461, 0.0), (462, 0.0), (473, 0.0), (476, 0.0), (478, 0.0), (482, 0.0), (484, 0.0), (486, 0.0), (487, 0.0), (488, 0.0), (489, 0.0), (491, 0.0), (492, 0.0), (498, 0.0), (505, 0.0), (506, 0.0), (516, 0.0), (517, 0.0), (518, 0.0), (520, 0.0), (525, 0.0), (526, 0.0), (528, 0.0), (529, 0.0), (531, 0.0), (533, 0.0), (535, 0.0), (536, 0.0), (546, 0.0), (548, 0.0), (549, 0.0), (552, 0.0), (554, 0.0), (556, 0.0), (557, 0.0), (564, 0.0), (565, 0.0), (567, 0.0), (569, 0.0), (570, 0.0), (572, 0.0), (573, 0.0), (574, 0.0), (575, 0.0), (576, 0.0), (577, 0.0), (585, 0.0), (591, 0.0), (592, 0.0), (593, 0.0), (595, 0.0), (596, 0.0), (599, 0.0), (601, 0.0), (602, 0.0), (603, 0.0), (610, 0.0), (627, 0.0), (630, 0.0), (646, 0.0), (649, 0.0), (650, 0.0), (656, 0.0), (658, 0.0), (662, 0.0), (663, 0.0), (665, 0.0), (667, 0.0), (674, 0.0), (679, 0.0), (681, 0.0), (686, 0.0), (687, 0.0), (693, 0.0), (699, 0.0), (700, 0.0), (702, 0.0), (704, 0.0), (708, 0.0), (709, 0.0), (711, 0.0), (713, 0.0), (714, 0.0), (718, 0.0), (720, 0.0), (721, 0.0), (724, 0.0), (725, 0.0), (726, 0.0), (730, 0.0), (735, 0.0), (736, 0.0), (741, 0.0), (746, 0.0), (747, 0.0), (751, 0.0), (753, 0.0), (754, 0.0), (761, 0.0), (764, 0.0), (770, 0.0), (771, 0.0), (772, 0.0), (773, 0.0), (777, 0.0), (780, 0.0), (781, 0.0), (783, 0.0), (784, 0.0), (785, 0.0), (786, 0.0), (789, 0.0), (797, 0.0), (807, 0.0), (819, 0.0), (820, 0.0), (822, 0.0), (823, 0.0), (826, 0.0), (837, 0.0), (839, 0.0), (840, 0.0), (841, 0.0), (846, 0.0), (859, 0.0), (860, 0.0), (876, 0.0), (881, 0.0), (882, 0.0), (889, 0.0), (892, 0.0), (903, 0.0), (909, 0.0), (912, 0.0), (913, 0.0), (914, 0.0), (917, 0.0), (920, 0.0), (922, 0.0), (925, 0.0), (926, 0.0), (933, 0.0), (937, 0.0), (938, 0.0), (941, 0.0), (943, 0.0), (945, 0.0), (946, 0.0), (947, 0.0), (950, 0.0), (954, 0.0), (955, 0.0), (956, 0.0), (960, 0.0), (961, 0.0), (964, 0.0), (965, 0.0), (971, 0.0), (972, 0.0), (977, 0.0), (978, 0.0), (982, 0.0), (983, 0.0), (986, 0.0), (990, 0.0), (995, 0.0), (996, 0.0), (998, 0.0), (999, 0.0), (1008, 0.0), (1010, 0.0), (1011, 0.0), (1013, 0.0), (1016, 0.0), (1019, 0.0), (1020, 0.0), (1022, 0.0), (1025, 0.0), (1028, 0.0), (1029, 0.0), (1031, 0.0), (1038, 0.0), (1039, 0.0), (1040, 0.0), (1049, 0.0), (1051, 0.0), (1053, 0.0), (1055, 0.0), (1056, 0.0), (1062, 0.0), (1064, 0.0), (1065, 0.0), (1066, 0.0), (1067, 0.0), (1070, 0.0), (1072, 0.0), (1073, 0.0), (1077, 0.0), (1081, 0.0), (1083, 0.0), (1086, 0.0), (1089, 0.0), (1091, 0.0), (1093, 0.0), (1097, 0.0), (1101, 0.0), (1103, 0.0), (1105, 0.0), (1106, 0.0), (1108, 0.0), (1113, 0.0), (1121, 0.0), (1126, 0.0), (1130, 0.0), (1133, 0.0), (1135, 0.0), (1139, 0.0), (1142, 0.0), (1143, 0.0), (1145, 0.0), (1147, 0.0), (1148, 0.0), (1149, 0.0), (1151, 0.0), (1155, 0.0), (1156, 0.0), (1158, 0.0), (1159, 0.0), (1160, 0.0), (1161, 0.0), (1165, 0.0), (1166, 0.0), (1171, 0.0), (1178, 0.0), (1180, 0.0), (1182, 0.0), (1187, 0.0), (1189, 0.0), (1190, 0.0), (1193, 0.0), (1196, 0.0), (1198, 0.0), (1200, 0.0), (1201, 0.0), (1212, 0.0), (1218, 0.0), (1221, 0.0), (1222, 0.0), (1227, 0.0), (1228, 0.0), (1233, 0.0), (1235, 0.0), (1240, 0.0), (1242, 0.0), (1244, 0.0), (1246, 0.0), (1253, 0.0), (1256, 0.0), (1258, 0.0), (1262, 0.0), (1263, 0.0), (1264, 0.0), (1265, 0.0), (1268, 0.0), (1269, 0.0), (1271, 0.0), (1285, 0.0), (1287, 0.0), (1288, 0.0), (1289, 0.0), (1291, 0.0), (1295, 0.0), (1296, 0.0), (1297, 0.0), (1299, 0.0), (1315, 0.0), (1321, 0.0), (1322, 0.0), (1323, 0.0), (1326, 0.0), (1328, 0.0), (1333, 0.0), (1336, 0.0), (1346, 0.0), (1350, 0.0), (1353, 0.0), (1354, 0.0), (1368, 0.0), (1371, 0.0), (1373, 0.0), (1390, 0.0), (1397, 0.0), (1399, 0.0), (1415, 0.0), (1424, 0.0), (1429, 0.0), (1434, 0.0), (1437, 0.0), (1441, 0.0), (1444, 0.0), (1447, 0.0), (1449, 0.0), (1457, 0.0), (1459, 0.0), (1460, 0.0), (1466, 0.0), (1467, 0.0), (1468, 0.0), (1470, 0.0), (1473, 0.0), (1485, 0.0), (1487, 0.0), (1490, 0.0), (1491, 0.0), (1495, 0.0), (1496, 0.0), (1497, 0.0), (1499, 0.0), (1508, 0.0), (1511, 0.0), (1513, 0.0), (1517, 0.0), (1520, 0.0), (1521, 0.0), (1522, 0.0), (1524, 0.0), (1525, 0.0), (1529, 0.0), (1532, 0.0), (1534, 0.0), (1535, 0.0), (1541, 0.0), (1545, 0.0), (1547, 0.0), (1548, 0.0), (1549, 0.0), (1556, 0.0), (1557, 0.0), (1560, 0.0), (1561, 0.0), (1563, 0.0), (1564, 0.0), (1569, 0.0), (1570, 0.0), (1577, 0.0), (1578, 0.0), (1581, 0.0), (1584, 0.0), (1586, 0.0), (1589, 0.0), (1591, 0.0), (1592, 0.0), (1593, 0.0), (1596, 0.0), (1599, 0.0), (1600, 0.0), (1601, 0.0), (1602, 0.0), (1603, 0.0), (1604, 0.0), (1606, 0.0), (1607, 0.0), (1610, 0.0), (1611, 0.0), (1613, 0.0), (1615, 0.0), (1618, 0.0), (1626, 0.0), (1628, 0.0), (1636, 0.0), (1638, 0.0), (1639, 0.0), (1640, 0.0), (1646, 0.0), (1649, 0.0), (1651, 0.0), (1655, 0.0), (1656, 0.0), (1658, 0.0), (1661, 0.0), (1668, 0.0), (1669, 0.0), (1670, 0.0), (1673, 0.0), (1674, 0.0), (1679, 0.0), (1683, 0.0), (1685, 0.0), (1686, 0.0), (1689, 0.0), (1697, 0.0), (1698, 0.0), (1700, 0.0), (1704, 0.0), (1708, 0.0), (1709, 0.0), (1711, 0.0), (1712, 0.0), (1713, 0.0), (1725, 0.0), (1726, 0.0), (1728, 0.0), (1729, 0.0), (1731, 0.0), (1732, 0.0), (1734, 0.0), (1745, 0.0), (1748, 0.0), (1751, 0.0), (1755, 0.0), (1756, 0.0), (1758, 0.0), (1766, 0.0), (1767, 0.0), (1769, 0.0), (1771, 0.0), (1775, 0.0), (1777, 0.0), (1778, 0.0), (1783, 0.0), (1785, 0.0), (1786, 0.0), (1790, 0.0), (1792, 0.0), (1794, 0.0), (1800, 0.0), (1803, 0.0), (1804, 0.0), (1810, 0.0), (1820, 0.0), (1822, 0.0), (1823, 0.0), (1824, 0.0), (1825, 0.0), (1826, 0.0), (1832, 0.0), (1834, 0.0), (1835, 0.0), (1836, 0.0), (1839, 0.0), (1842, 0.0), (1843, 0.0), (1844, 0.0), (1853, 0.0), (1855, 0.0), (1856, 0.0), (1862, 0.0), (1879, 0.0), (1883, 0.0), (1885, 0.0), (1888, 0.0), (1889, 0.0), (1892, 0.0), (1894, 0.0), (1898, 0.0), (1899, 0.0), (1904, 0.0), (1905, 0.0), (1909, 0.0), (1912, 0.0), (1915, 0.0), (1917, 0.0), (1926, 0.0), (1928, 0.0), (1932, 0.0), (1938, 0.0), (1939, 0.0), (1941, 0.0), (1944, 0.0), (1947, 0.0), (1955, 0.0), (1956, 0.0), (1960, 0.0), (1961, 0.0), (1963, 0.0), (1965, 0.0), (1966, 0.0), (1972, 0.0), (1974, 0.0), (1978, 0.0), (1979, 0.0), (1984, 0.0), (1995, 0.0), (2001, 0.0), (2002, 0.0), (2003, 0.0), (2006, 0.0), (2007, 0.0), (2009, 0.0), (2010, 0.0), (2017, 0.0), (2019, 0.0), (2021, 0.0), (2025, 0.0), (2028, 0.0), (2030, 0.0), (2032, 0.0), (2033, 0.0), (2036, 0.0), (2038, 0.0), (2041, 0.0), (2042, 0.0), (2043, 0.0), (2046, 0.0), (2048, 0.0), (2049, 0.0), (2050, 0.0), (2051, 0.0), (2052, 0.0), (2054, 0.0), (2059, 0.0), (2063, 0.0), (2071, 0.0), (2075, 0.0), (2077, 0.0), (2079, 0.0), (2080, 0.0), (2081, 0.0), (2085, 0.0), (2086, 0.0), (2087, 0.0), (2089, 0.0), (2090, 0.0), (2092, 0.0), (2106, 0.0), (2107, 0.0), (2108, 0.0), (2115, 0.0), (2116, 0.0), (2118, 0.0), (2120, 0.0), (2124, 0.0), (2125, 0.0), (2128, 0.0), (2134, 0.0), (2135, 0.0), (2137, 0.0), (2138, 0.0), (2140, 0.0), (2142, 0.0), (2146, 0.0), (2150, 0.0), (2152, 0.0), (2153, 0.0), (2154, 0.0), (2159, 0.0), (2164, 0.0), (2165, 0.0), (2168, 0.0), (2170, 0.0), (2171, 0.0), (2172, 0.0), (2173, 0.0), (2176, 0.0), (2179, 0.0), (2180, 0.0), (2182, 0.0), (2183, 0.0), (2186, 0.0), (2188, 0.0), (2189, 0.0), (2194, 0.0), (2199, 0.0), (2200, 0.0), (2204, 0.0), (2209, 0.0), (2215, 0.0), (2217, 0.0), (2218, 0.0), (2219, 0.0), (2220, 0.0), (2222, 0.0), (2223, 0.0), (2225, 0.0), (2227, 0.0), (2228, 0.0), (2229, 0.0), (2231, 0.0), (2233, 0.0), (2234, 0.0), (2235, 0.0), (2238, 0.0), (2241, 0.0), (2243, 0.0), (2247, 0.0), (2248, 0.0), (2249, 0.0), (2251, 0.0), (2253, 0.0), (2255, 0.0), (2256, 0.0), (2257, 0.0), (2259, 0.0), (2260, 0.0), (2261, 0.0), (2262, 0.0), (2263, 0.0), (2266, 0.0), (2267, 0.0), (2269, 0.0), (2271, 0.0), (2272, 0.0), (2273, 0.0), (2274, 0.0), (2275, 0.0), (2279, 0.0), (2281, 0.0), (2282, 0.0), (2286, 0.0), (2288, 0.0), (2289, 0.0), (2295, 0.0), (2296, 0.0), (2297, 0.0), (2299, 0.0), (2300, 0.0), (2302, 0.0), (2305, 0.0), (2306, 0.0), (2307, 0.0), (2308, 0.0), (2310, 0.0), (2311, 0.0), (2312, 0.0), (2314, 0.0), (2315, 0.0), (2322, 0.0), (2324, 0.0), (2325, 0.0), (2327, 0.0), (2328, 0.0), (2329, 0.0), (2331, 0.0), (2332, 0.0), (2333, 0.0), (2337, 0.0), (2341, 0.0), (2342, 0.0), (2343, 0.0), (2344, 0.0), (2345, 0.0), (2346, 0.0), (2349, 0.0), (2350, 0.0), (2351, 0.0), (2352, 0.0), (2353, 0.0), (2356, 0.0), (2357, 0.0), (2358, 0.0), (2360, 0.0), (2361, 0.0), (2363, 0.0), (2364, 0.0), (2365, 0.0), (2368, 0.0), (2369, 0.0), (2372, 0.0), (2373, 0.0), (2377, 0.0), (2378, 0.0), (2379, 0.0), (2380, 0.0), (2381, 0.0), (2383, 0.0), (2384, 0.0), (2386, 0.0), (2388, 0.0), (2389, 0.0), (2390, 0.0), (2392, 0.0), (2394, 0.0), (2395, 0.0), (2398, 0.0), (2400, 0.0), (2403, 0.0), (2404, 0.0), (2407, 0.0), (2409, 0.0), (2411, 0.0), (2414, 0.0), (2415, 0.0), (2417, 0.0), (2420, 0.0), (2423, 0.0), (2425, 0.0), (2431, 0.0), (2433, 0.0), (2435, 0.0), (2437, 0.0), (2438, 0.0), (2444, 0.0), (2445, 0.0), (2449, 0.0), (2450, 0.0), (2451, 0.0), (2452, 0.0), (2454, 0.0), (2455, 0.0), (2456, 0.0), (2458, 0.0), (2462, 0.0), (2464, 0.0), (2465, 0.0), (2466, 0.0), (2468, 0.0), (2470, 0.0), (2471, 0.0), (2472, 0.0), (2475, 0.0), (2476, 0.0), (2478, 0.0), (2479, 0.0), (2483, 0.0), (2484, 0.0), (2485, 0.0), (2488, 0.0), (2490, 0.0), (2491, 0.0), (2492, 0.0), (2493, 0.0), (2494, 0.0), (2497, 0.0), (2498, 0.0), (2499, 0.0), (2500, 0.0), (2504, 0.0), (2505, 0.0), (2507, 0.0), (2508, 0.0), (2511, 0.0), (2514, 0.0), (2515, 0.0), (2516, 0.0), (2518, 0.0), (2521, 0.0), (2523, 0.0), (2529, 0.0), (2531, 0.0), (2532, 0.0), (2535, 0.0), (2536, 0.0), (2537, 0.0), (2539, 0.0), (2542, 0.0), (2543, 0.0), (2544, 0.0), (2545, 0.0), (2547, 0.0), (2548, 0.0), (2549, 0.0), (2550, 0.0), (2551, 0.0), (2556, 0.0), (2557, 0.0), (2559, 0.0), (2560, 0.0), (2561, 0.0), (2562, 0.0), (2564, 0.0), (2566, 0.0), (2567, 0.0), (2568, 0.0), (2569, 0.0), (2574, 0.0), (2575, 0.0), (2576, 0.0), (2577, 0.0), (2578, 0.0), (2579, 0.0), (2581, 0.0), (2583, 0.0), (2584, 0.0), (2586, 0.0), (2588, 0.0), (2589, 0.0), (2590, 0.0), (2591, 0.0), (2594, 0.0), (2596, 0.0), (2597, 0.0), (2599, 0.0), (2600, 0.0), (2604, 0.0), (2605, 0.0), (2608, 0.0), (2613, 0.0), (2615, 0.0), (2616, 0.0), (2618, 0.0), (2620, 0.0), (2623, 0.0), (2627, 0.0), (2628, 0.0), (2630, 0.0), (2631, 0.0), (2633, 0.0), (2635, 0.0), (2637, 0.0), (2638, 0.0), (2641, 0.0), (2643, 0.0), (2645, 0.0), (2648, 0.0), (2649, 0.0), (2652, 0.0), (2655, 0.0), (2656, 0.0), (2657, 0.0), (2658, 0.0), (2659, 0.0), (2661, 0.0), (2662, 0.0), (2663, 0.0), (2664, 0.0), (2666, 0.0), (2667, 0.0), (2669, 0.0), (2670, 0.0), (2671, 0.0), (2672, 0.0), (2673, 0.0), (2674, 0.0), (2675, 0.0), (2676, 0.0), (2677, 0.0), (2678, 0.0), (2681, 0.0), (2684, 0.0), (2685, 0.0), (2686, 0.0), (2690, 0.0), (2693, 0.0), (2694, 0.0), (2700, 0.0), (2701, 0.0), (2702, 0.0), (2703, 0.0), (2704, 0.0), (2705, 0.0), (2707, 0.0), (2708, 0.0), (2709, 0.0), (2712, 0.0), (2715, 0.0), (2717, 0.0), (2719, 0.0), (2722, 0.0), (2727, 0.0), (2729, 0.0), (2730, 0.0), (2731, 0.0), (2733, 0.0), (2734, 0.0), (2735, 0.0), (2737, 0.0), (2743, 0.0), (2748, 0.0), (2749, 0.0), (2750, 0.0), (2751, 0.0), (2754, 0.0), (2756, 0.0), (2757, 0.0), (2759, 0.0), (2763, 0.0), (2764, 0.0), (2768, 0.0), (2770, 0.0), (2772, 0.0), (2773, 0.0), (2775, 0.0), (2776, 0.0), (2778, 0.0), (2781, 0.0), (2785, 0.0), (2786, 0.0), (2793, 0.0), (2794, 0.0), (2796, 0.0), (2797, 0.0), (2799, 0.0), (2804, 0.0), (2806, 0.0), (2807, 0.0), (2810, 0.0), (2811, 0.0), (2813, 0.0), (2814, 0.0), (2817, 0.0), (2818, 0.0), (2824, 0.0), (2827, 0.0), (2828, 0.0), (2829, 0.0), (2831, 0.0), (2832, 0.0), (2834, 0.0), (2835, 0.0), (2836, 0.0), (2837, 0.0), (2838, 0.0), (2839, 0.0), (2840, 0.0), (2842, 0.0), (2843, 0.0), (2846, 0.0), (2848, 0.0), (2849, 0.0), (2850, 0.0), (2851, 0.0), (2852, 0.0), (2854, 0.0), (2855, 0.0), (2856, 0.0), (2858, 0.0), (2860, 0.0), (2861, 0.0), (2864, 0.0), (2865, 0.0), (2866, 0.0), (2870, 0.0), (2872, 0.0), (2873, 0.0), (2875, 0.0), (2877, 0.0), (2879, 0.0), (2880, 0.0), (2881, 0.0), (2883, 0.0), (2885, 0.0), (2886, 0.0), (2887, 0.0), (2888, 0.0), (2889, 0.0), (2890, 0.0), (2891, 0.0), (2892, 0.0), (2893, 0.0), (2895, 0.0), (2896, 0.0), (2898, 0.0), (2900, 0.0), (2901, 0.0), (2905, 0.0), (2906, 0.0), (2914, 0.0), (2915, 0.0), (2916, 0.0), (2921, 0.0), (2922, 0.0), (2923, 0.0), (2926, 0.0), (2927, 0.0), (2928, 0.0), (2930, 0.0), (2932, 0.0), (2934, 0.0), (2936, 0.0), (2937, 0.0), (2938, 0.0), (2939, 0.0), (2941, 0.0), (2943, 0.0), (2946, 0.0), (2948, 0.0), (2951, 0.0), (2952, 0.0), (2955, 0.0), (2956, 0.0), (2957, 0.0), (2958, 0.0), (2961, 0.0), (2966, 0.0), (2967, 0.0), (2968, 0.0), (2970, 0.0), (2973, 0.0), (2974, 0.0), (2979, 0.0), (2982, 0.0), (2983, 0.0), (2986, 0.0), (2987, 0.0), (2989, 0.0), (2990, 0.0), (2991, 0.0), (2993, 0.0), (2997, 0.0), (2998, 0.0), (2999, 0.0), (3001, 0.0), (3002, 0.0), (3004, 0.0), (3006, 0.0), (3007, 0.0), (3008, 0.0), (3009, 0.0), (3012, 0.0), (3015, 0.0), (3016, 0.0), (3017, 0.0), (3018, 0.0), (3019, 0.0), (3020, 0.0), (3021, 0.0), (3025, 0.0), (3026, 0.0), (3029, 0.0), (3030, 0.0), (3031, 0.0), (3032, 0.0), (3034, 0.0), (3035, 0.0), (3037, 0.0), (3038, 0.0), (3040, 0.0), (3041, 0.0), (3042, 0.0), (3044, 0.0), (3047, 0.0), (3048, 0.0), (3049, 0.0), (3050, 0.0), (3051, 0.0), (3052, 0.0), (3054, 0.0), (3055, 0.0), (3058, 0.0), (3059, 0.0), (3060, 0.0), (3061, 0.0), (3062, 0.0), (3063, 0.0), (3064, 0.0), (3065, 0.0), (3072, 0.0), (3073, 0.0), (3074, 0.0), (3077, 0.0), (3078, 0.0), (3079, 0.0), (3080, 0.0), (3081, 0.0), (3082, 0.0), (3084, 0.0), (3087, 0.0), (3088, 0.0), (3089, 0.0), (3090, 0.0), (3092, 0.0), (3093, 0.0), (3094, 0.0), (3103, 0.0), (3104, 0.0), (3105, 0.0), (3106, 0.0), (3107, 0.0), (3109, 0.0), (3112, 0.0), (3113, 0.0), (3115, 0.0), (3116, 0.0), (3119, 0.0), (3121, 0.0), (3123, 0.0), (3128, 0.0), (3130, 0.0), (3132, 0.0), (3138, 0.0), (3139, 0.0), (3141, 0.0), (3142, 0.0), (3145, 0.0), (3146, 0.0), (3148, 0.0), (3162, 0.0), (3165, 0.0), (3166, 0.0), (3169, 0.0), (3170, 0.0), (3171, 0.0), (3172, 0.0), (3175, 0.0), (3176, 0.0), (3177, 0.0), (3178, 0.0), (3181, 0.0), (3185, 0.0), (3188, 0.0), (3189, 0.0), (3190, 0.0), (3193, 0.0), (3197, 0.0), (3201, 0.0), (3202, 0.0), (3203, 0.0), (3204, 0.0), (3207, 0.0), (3208, 0.0), (3212, 0.0), (3217, 0.0), (3221, 0.0), (3223, 0.0), (3224, 0.0), (3227, 0.0), (3228, 0.0), (3229, 0.0), (3231, 0.0), (3234, 0.0), (3235, 0.0), (3236, 0.0), (3239, 0.0), (3245, 0.0), (3248, 0.0), (3249, 0.0), (3250, 0.0), (3251, 0.0), (3253, 0.0), (3255, 0.0), (3256, 0.0), (3257, 0.0), (3258, 0.0), (3261, 0.0), (3262, 0.0), (3263, 0.0), (3266, 0.0), (3268, 0.0), (3270, 0.0), (3272, 0.0), (3274, 0.0), (3275, 0.0), (3276, 0.0), (3277, 0.0), (3281, 0.0), (3284, 0.0), (3286, 0.0), (3287, 0.0), (3291, 0.0), (3292, 0.0), (3293, 0.0), (3296, 0.0), (3301, 0.0), (3305, 0.0), (3307, 0.0), (3309, 0.0), (3310, 0.0), (3312, 0.0), (3316, 0.0), (3320, 0.0), (3321, 0.0), (3322, 0.0), (3323, 0.0), (3324, 0.0), (3325, 0.0), (3332, 0.0), (3333, 0.0), (3337, 0.0), (3340, 0.0), (3343, 0.0), (3345, 0.0), (3349, 0.0), (3350, 0.0), (3353, 0.0), (3354, 0.0), (3355, 0.0), (3358, 0.0), (3359, 0.0), (3363, 0.0), (3364, 0.0), (3366, 0.0), (3368, 0.0), (3371, 0.0), (3372, 0.0), (3377, 0.0), (3378, 0.0), (3383, 0.0), (3391, 0.0), (3394, 0.0), (3396, 0.0), (3397, 0.0), (3400, 0.0), (3401, 0.0), (3411, 0.0), (3413, 0.0), (3415, 0.0), (3417, 0.0), (3419, 0.0), (3420, 0.0), (3422, 0.0), (3423, 0.0), (3424, 0.0), (3428, 0.0), (3431, 0.0), (3434, 0.0), (3439, 0.0), (3441, 0.0), (3442, 0.0), (3444, 0.0), (3454, 0.0), (3455, 0.0), (3459, 0.0), (3461, 0.0), (3467, 0.0), (3472, 0.0), (3473, 0.0), (3475, 0.0), (3476, 0.0), (3479, 0.0), (3481, 0.0), (3482, 0.0), (3485, 0.0), (3488, 0.0), (3489, 0.0), (3490, 0.0), (3494, 0.0), (3501, 0.0), (3502, 0.0), (3505, 0.0), (3510, 0.0), (3512, 0.0), (3513, 0.0), (3515, 0.0), (3519, 0.0), (3521, 0.0), (3522, 0.0), (3523, 0.0), (3525, 0.0), (3527, 0.0), (3529, 0.0), (3530, 0.0), (3532, 0.0), (3533, 0.0), (3535, 0.0), (3539, 0.0), (3540, 0.0), (3542, 0.0), (3543, 0.0), (3544, 0.0), (3545, 0.0), (3547, 0.0), (3549, 0.0), (3550, 0.0), (3552, 0.0), (3553, 0.0), (3554, 0.0), (3562, 0.0), (3567, 0.0), (3568, 0.0), (3573, 0.0), (3576, 0.0), (3577, 0.0), (3578, 0.0), (3579, 0.0), (3581, 0.0), (3585, 0.0), (3588, 0.0), (3589, 0.0), (3590, 0.0), (3591, 0.0), (3592, 0.0), (3594, 0.0), (3595, 0.0), (3600, 0.0), (3601, 0.0), (3603, 0.0), (3607, 0.0), (3609, 0.0), (3610, 0.0), (3613, 0.0), (3615, 0.0), (3616, 0.0), (3617, 0.0), (3620, 0.0), (3621, 0.0), (3622, 0.0), (3625, 0.0), (3627, 0.0), (3628, 0.0), (3629, 0.0), (3631, 0.0), (3633, 0.0), (3635, 0.0), (3636, 0.0), (3638, 0.0), (3644, 0.0), (3649, 0.0), (3650, 0.0), (3651, 0.0), (3652, 0.0), (3661, 0.0), (3662, 0.0), (3663, 0.0), (3671, 0.0), (3672, 0.0), (3675, 0.0), (3676, 0.0), (3679, 0.0), (3680, 0.0), (3681, 0.0), (3682, 0.0), (3683, 0.0), (3685, 0.0), (3686, 0.0), (3687, 0.0), (3690, 0.0), (3693, 0.0), (3695, 0.0), (3697, 0.0), (3698, 0.0), (3700, 0.0), (3702, 0.0), (3703, 0.0), (3704, 0.0), (3707, 0.0), (3708, 0.0), (3709, 0.0), (3712, 0.0), (3714, 0.0), (3715, 0.0), (3716, 0.0), (3717, 0.0), (3718, 0.0), (3719, 0.0), (3721, 0.0), (3722, 0.0), (3724, 0.0), (3726, 0.0), (3727, 0.0), (3729, 0.0), (3730, 0.0), (3732, 0.0), (3735, 0.0), (3736, 0.0), (3738, 0.0), (3740, 0.0), (3743, 0.0), (3744, 0.0), (3745, 0.0), (3748, 0.0), (3749, 0.0), (3754, 0.0), (3755, 0.0), (3758, 0.0), (3759, 0.0), (3760, 0.0), (3761, 0.0), (3762, 0.0), (3764, 0.0), (3766, 0.0), (3768, 0.0), (3779, 0.0), (3781, 0.0), (3783, 0.0), (3785, 0.0), (3786, 0.0), (3789, 0.0), (3790, 0.0), (3791, 0.0), (3796, 0.0), (3798, 0.0), (3799, 0.0), (3800, 0.0), (3802, 0.0), (3803, 0.0), (3804, 0.0), (3805, 0.0), (3808, 0.0), (3809, 0.0), (3810, 0.0), (3812, 0.0), (3813, 0.0), (3816, 0.0), (3817, 0.0), (3818, 0.0), (3820, 0.0), (3827, 0.0), (3828, 0.0), (3830, 0.0), (3831, 0.0), (3832, 0.0), (3834, 0.0), (3836, 0.0), (3837, 0.0), (3838, 0.0), (3840, 0.0), (3843, 0.0), (3844, 0.0), (3846, 0.0), (3847, 0.0), (3848, 0.0), (3851, 0.0), (3856, 0.0), (3858, 0.0), (3859, 0.0), (3869, 0.0), (3870, 0.0), (3874, 0.0), (3879, 0.0), (3883, 0.0), (3884, 0.0), (3885, 0.0), (3887, 0.0), (3891, 0.0), (3892, 0.0), (3896, 0.0), (3898, 0.0), (3899, 0.0), (3900, 0.0), (3902, 0.0), (3904, 0.0), (3911, 0.0), (3912, 0.0), (3914, 0.0), (3918, 0.0), (3921, 0.0), (3922, 0.0), (3925, 0.0), (3928, 0.0), (3929, 0.0), (3930, 0.0), (3931, 0.0), (3933, 0.0), (3935, 0.0), (3936, 0.0), (3937, 0.0), (3939, 0.0), (3942, 0.0), (3943, 0.0), (3945, 0.0), (3948, 0.0), (3949, 0.0), (3950, 0.0), (3952, 0.0), (3964, 0.0), (3965, 0.0), (3967, 0.0), (3968, 0.0), (3969, 0.0), (3971, 0.0), (3972, 0.0), (3975, 0.0), (3977, 0.0), (3979, 0.0), (3980, 0.0), (3981, 0.0), (3982, 0.0), (3984, 0.0), (3985, 0.0), (3987, 0.0), (3988, 0.0), (3990, 0.0), (3991, 0.0), (3992, 0.0), (3994, 0.0), (3996, 0.0), (3999, 0.0), (4003, 0.0), (4006, 0.0), (4007, 0.0), (4010, 0.0), (4014, 0.0), (4017, 0.0), (4018, 0.0), (4019, 0.0), (4021, 0.0), (4022, 0.0), (4023, 0.0), (4024, 0.0), (4026, 0.0), (4027, 0.0), (4028, 0.0), (4029, 0.0), (4030, 0.0), (4031, 0.0), (4032, 0.0), (4034, 0.0), (4037, 0.0), (4040, 0.0), (4041, 0.0), (4042, 0.0), (4043, 0.0), (4047, 0.0), (4048, 0.0), (4052, 0.0), (4058, 0.0), (4062, 0.0), (4063, 0.0), (4064, 0.0), (4065, 0.0), (4067, 0.0), (4070, 0.0), (4072, 0.0), (4073, 0.0), (4075, 0.0), (4078, 0.0), (4079, 0.0), (4082, 0.0), (4084, 0.0), (4086, 0.0), (4091, 0.0), (4092, 0.0), (4097, 0.0), (4100, 0.0), (4102, 0.0), (4107, 0.0), (4108, 0.0), (4109, 0.0), (4111, 0.0), (4112, 0.0), (4114, 0.0), (4115, 0.0), (4122, 0.0), (4125, 0.0), (4126, 0.0), (4127, 0.0), (4129, 0.0), (4131, 0.0), (4133, 0.0), (4134, 0.0), (4138, 0.0), (4144, 0.0), (4145, 0.0), (4146, 0.0), (4147, 0.0), (4150, 0.0), (4153, 0.0), (4157, 0.0), (4159, 0.0), (4160, 0.0), (4161, 0.0), (4162, 0.0), (4163, 0.0), (4166, 0.0), (4167, 0.0), (4168, 0.0), (4169, 0.0), (4170, 0.0), (4172, 0.0), (4173, 0.0), (4177, 0.0), (4179, 0.0), (4180, 0.0), (4181, 0.0), (4185, 0.0), (4186, 0.0), (4188, 0.0), (4190, 0.0), (4191, 0.0), (4194, 0.0), (4198, 0.0), (4199, 0.0), (4201, 0.0), (4202, 0.0), (4204, 0.0), (4207, 0.0), (4208, 0.0), (4212, 0.0), (4213, 0.0), (4214, 0.0), (4215, 0.0), (4218, 0.0), (4219, 0.0), (4221, 0.0), (4222, 0.0), (4223, 0.0), (4224, 0.0), (4225, 0.0), (4227, 0.0), (4228, 0.0), (4229, 0.0), (4230, 0.0), (4231, 0.0), (4234, 0.0), (4237, 0.0), (4238, 0.0), (4239, 0.0), (4241, 0.0), (4242, 0.0), (4243, 0.0), (4244, 0.0), (4245, 0.0), (4249, 0.0), (4250, 0.0), (4253, 0.0), (4256, 0.0), (4258, 0.0), (4260, 0.0), (4263, 0.0), (4270, 0.0), (4271, 0.0), (4276, 0.0), (4278, 0.0), (4279, 0.0), (4285, 0.0), (4291, 0.0), (4293, 0.0), (4295, 0.0), (4296, 0.0), (4297, 0.0), (4298, 0.0), (4300, 0.0), (4301, 0.0), (4302, 0.0), (4305, 0.0), (4306, 0.0), (4308, 0.0), (4311, 0.0), (4313, 0.0), (4315, 0.0), (4316, 0.0), (4317, 0.0), (4318, 0.0), (4319, 0.0), (4323, 0.0), (4324, 0.0), (4326, 0.0), (4327, 0.0), (4329, 0.0), (4332, 0.0), (4338, 0.0), (4341, 0.0), (4346, 0.0), (4347, 0.0), (4351, 0.0), (4352, 0.0), (4353, 0.0), (4354, 0.0), (4357, 0.0), (4358, 0.0), (4364, 0.0), (4370, 0.0), (4372, 0.0), (4386, 0.0), (4390, 0.0), (4391, 0.0), (4393, 0.0), (4397, 0.0), (4400, 0.0), (4404, 0.0), (4405, 0.0), (4406, 0.0), (4407, 0.0), (4408, 0.0), (4410, 0.0), (4412, 0.0), (4413, 0.0), (4414, 0.0), (4415, 0.0), (4416, 0.0), (4417, 0.0), (4418, 0.0), (4419, 0.0), (4421, 0.0), (4422, 0.0), (4423, 0.0), (4424, 0.0), (4425, 0.0), (4429, 0.0), (4430, 0.0), (4433, 0.0), (4434, 0.0), (4437, 0.0), (4439, 0.0), (4440, 0.0), (4443, 0.0), (4444, 0.0), (4447, 0.0), (4449, 0.0), (4451, 0.0), (4453, 0.0), (4454, 0.0), (4455, 0.0), (4457, 0.0), (4458, 0.0), (4460, 0.0), (4461, 0.0), (4463, 0.0), (4464, 0.0), (4469, 0.0), (4471, 0.0), (4475, 0.0), (4478, 0.0), (4480, 0.0), (4483, 0.0), (4484, 0.0), (4485, 0.0), (4490, 0.0), (4491, 0.0), (4493, 0.0), (4496, 0.0), (4498, 0.0), (4499, 0.0), (4500, 0.0), (4506, 0.0), (4507, 0.0), (4508, 0.0), (4509, 0.0), (4512, 0.0), (4514, 0.0), (4515, 0.0), (4516, 0.0), (4519, 0.0), (4520, 0.0), (4521, 0.0), (4522, 0.0), (4525, 0.0), (4526, 0.0), (4527, 0.0), (4528, 0.0), (4529, 0.0), (4530, 0.0), (4532, 0.0), (4537, 0.0), (4539, 0.0), (4540, 0.0), (4541, 0.0), (4542, 0.0), (4544, 0.0), (4546, 0.0), (4547, 0.0), (4549, 0.0), (4554, 0.0), (4555, 0.0), (4556, 0.0), (4558, 0.0), (4559, 0.0), (4560, 0.0), (4561, 0.0), (4562, 0.0), (4565, 0.0), (4568, 0.0), (4569, 0.0), (4570, 0.0), (4571, 0.0), (4572, 0.0), (4573, 0.0), (4577, 0.0), (4578, 0.0), (4579, 0.0), (4580, 0.0), (4586, 0.0), (4589, 0.0), (4592, 0.0), (4593, 0.0), (4597, 0.0), (4599, 0.0), (4600, 0.0), (4603, 0.0), (4607, 0.0), (4608, 0.0), (4609, 0.0), (4611, 0.0), (4613, 0.0), (4615, 0.0), (4616, 0.0), (4617, 0.0), (4618, 0.0), (4619, 0.0), (4622, 0.0), (4625, 0.0), (4628, 0.0), (4631, 0.0), (4632, 0.0), (4635, 0.0), (4637, 0.0), (4642, 0.0), (4643, 0.0), (4644, 0.0), (4645, 0.0), (4646, 0.0), (4647, 0.0), (4648, 0.0), (4651, 0.0), (4654, 0.0), (4655, 0.0), (4656, 0.0), (4657, 0.0), (4659, 0.0), (4660, 0.0), (4662, 0.0), (4666, 0.0), (4667, 0.0), (4668, 0.0), (4671, 0.0), (4672, 0.0), (4675, 0.0), (4676, 0.0), (4681, 0.0), (4683, 0.0), (4688, 0.0), (4690, 0.0), (4691, 0.0), (4693, 0.0), (4694, 0.0), (4695, 0.0), (4696, 0.0), (4697, 0.0), (4698, 0.0), (4699, 0.0), (4700, 0.0), (4701, 0.0), (4702, 0.0), (4704, 0.0), (4705, 0.0), (4706, 0.0), (4707, 0.0), (4709, 0.0), (4710, 0.0), (4711, 0.0), (4713, 0.0), (4714, 0.0), (4716, 0.0), (4717, 0.0), (4718, 0.0), (4719, 0.0), (4720, 0.0), (4721, 0.0), (4722, 0.0), (4723, 0.0), (4724, 0.0), (4725, 0.0), (4727, 0.0), (4728, 0.0), (4729, 0.0), (4730, 0.0), (4731, 0.0), (4734, 0.0), (4735, 0.0), (4736, 0.0), (4737, 0.0), (4739, 0.0), (4740, 0.0), (4741, 0.0), (4742, 0.0), (4744, 0.0), (4745, 0.0), (4746, 0.0), (4747, 0.0), (4749, 0.0), (4750, 0.0), (4751, 0.0), (4753, 0.0), (4754, 0.0), (4755, 0.0), (4756, 0.0), (4758, 0.0), (4759, 0.0)]\n"
          ]
        }
      ]
    },
    {
      "cell_type": "code",
      "source": [
        "print('Top 30 Movies Suggested for You : \\n')\n",
        "i = 1\n",
        "for movie in Sorted_Similar_Movies:\n",
        "    index = movie[0]\n",
        "    title_from_index = df[df.index==index]['Movie_Title'].values[0]\n",
        "    if (i<31):\n",
        "        print(i, '.', title_from_index)\n",
        "        i+=1"
      ],
      "metadata": {
        "colab": {
          "base_uri": "https://localhost:8080/"
        },
        "id": "OtONghOlYDQD",
        "outputId": "6bede3d7-14a1-4da7-ee95-31cf1fee30da"
      },
      "execution_count": 118,
      "outputs": [
        {
          "output_type": "stream",
          "name": "stdout",
          "text": [
            "Top 30 Movies Suggested for You : \n",
            "\n",
            "1 . Niagara\n",
            "2 . Brokeback Mountain\n",
            "3 . Harry Brown\n",
            "4 . Night of the Living Dead\n",
            "5 . The Curse of Downers Grove\n",
            "6 . The Boy Next Door\n",
            "7 . Back to the Future\n",
            "8 . Some Like It Hot\n",
            "9 . The Juror\n",
            "10 . The Kentucky Fried Movie\n",
            "11 . Enough\n",
            "12 . Eye for an Eye\n",
            "13 . The Misfits\n",
            "14 . Alice Through the Looking Glass\n",
            "15 . Superman III\n",
            "16 . Premium Rush\n",
            "17 . Duel in the Sun\n",
            "18 . Sabotage\n",
            "19 . Small Soldiers\n",
            "20 . The Raid\n",
            "21 . All That Jazz\n",
            "22 . Beyond the Black Rainbow\n",
            "23 . Tora! Tora! Tora!\n",
            "24 . We Are Your Friends\n",
            "25 . The Dark Knight Rises\n",
            "26 . Edge of Darkness\n",
            "27 . World Trade Center\n",
            "28 . Dallas Buyers Club\n",
            "29 . Out of Time\n",
            "30 . Mad Max 2: The Road Warrior\n"
          ]
        }
      ]
    },
    {
      "cell_type": "code",
      "source": [
        " Movie_Name = input('Enter your favourite movie name :')\n",
        " list_of_all_titles = df['Movie_Title'].tolist()\n",
        " Find_Close_Match = difflib.get_close_matches(Movie_Name, list_of_all_titles)\n",
        " close_Match = Find_Close_Match[0]\n",
        " Index_of_Movie = df[df.Movie_Title == Close_Match]['Movie_ID'].values[0]\n",
        " Recommendation_Score = list(enumerate(similarity_score[Index_of_Movie]))\n",
        " sorted_similar_movies = sorted(Recommendation_Score, key = lambda x:x[1], reverse = True)\n",
        " print('Top 10 Movies Suggested for you : \\n')\n",
        " i = 1\n",
        " for movie in sorted_similar_movies :\n",
        "  index = movie[0]\n",
        "  title_from_index = df[df.Movie_ID==index]['Movie_Title'].values\n",
        "  if (i<11) :\n",
        "   print(i, '.', title_from_index)\n",
        "   i+=1\n",
        ""
      ],
      "metadata": {
        "colab": {
          "base_uri": "https://localhost:8080/"
        },
        "id": "R3HJBmD8YTIS",
        "outputId": "c841b3ca-417f-423c-dc4b-e8174a47577e"
      },
      "execution_count": 126,
      "outputs": [
        {
          "output_type": "stream",
          "name": "stdout",
          "text": [
            "Enter your favourite movie name :Avataar\n",
            "Top 10 Movies Suggested for you : \n",
            "\n",
            "1 . ['Avatar']\n",
            "2 . ['Donnie Darko']\n",
            "3 . ['Precious']\n",
            "4 . ['Freaky Friday']\n",
            "5 . ['The Opposite Sex']\n",
            "6 . ['Heaven is for Real']\n",
            "7 . ['Run Lola Run']\n",
            "8 . ['The Godfather']\n",
            "9 . ['Elizabethtown']\n",
            "10 . ['New Nightmare']\n"
          ]
        }
      ]
    }
  ]
}